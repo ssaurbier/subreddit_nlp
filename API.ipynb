{
 "cells": [
  {
   "cell_type": "code",
   "execution_count": 1,
   "id": "4b46aa0b-1db9-46e5-935d-6b481569777e",
   "metadata": {},
   "outputs": [],
   "source": [
    "import requests\n",
    "import pandas as pd\n",
    "import numpy as np"
   ]
  },
  {
   "cell_type": "code",
   "execution_count": 2,
   "id": "60c47d66-6ba8-417d-9c1f-32feee0e5913",
   "metadata": {},
   "outputs": [],
   "source": [
    "import praw\n",
    "\n",
    "reddit = praw.Reddit(\n",
    "    client_id='ckWzqso8_s-9TXtNyCu3Yg',\n",
    "    client_secret='sF-UBlR6nGG_xkijZb4gr0o1IVBWWA',\n",
    "    user_agent=\"my user agent\",\n",
    ")"
   ]
  },
  {
   "cell_type": "code",
   "execution_count": 3,
   "id": "c981f348-7e12-42fc-80d7-20ed70b96b24",
   "metadata": {},
   "outputs": [],
   "source": [
    "reddit.read_only = True"
   ]
  },
  {
   "cell_type": "code",
   "execution_count": 4,
   "id": "599fcd22-b39c-4a5a-b406-d09f065da4a6",
   "metadata": {},
   "outputs": [],
   "source": [
    "subreddit = reddit.subreddit(\"ethereum\")"
   ]
  },
  {
   "cell_type": "code",
   "execution_count": 6,
   "id": "2055efdf-ae3e-4a55-a769-1e81e16d6388",
   "metadata": {},
   "outputs": [],
   "source": [
    "#https://praw.readthedocs.io/en/stable/code_overview/models/submission.html\n",
    "\n",
    "\n",
    "post_titles = []\n",
    "post_upvoteses = []\n",
    "num_commentses = []\n",
    "post_ids = []\n",
    "post_upvote_ratios = []\n",
    "post_comments = []\n",
    "post_upvotes = []\n",
    "post_dates = []\n",
    "\n",
    "comment_authors = []\n",
    "comment_bodies = []\n",
    "comment_submissions = []\n",
    "comment_upvotes = []\n",
    "\n",
    "counter = 0\n",
    "\n",
    "for submission in subreddit.hot(limit=10):\n",
    "    print(counter)\n",
    "    post_title = submission.title\n",
    "    post_upvotes = submission.score\n",
    "    num_comments = submission.num_comments\n",
    "    post_id = submission.id\n",
    "    upvote_ratio = submission.upvote_ratio\n",
    "    post_comment_list = list(submission.comments)\n",
    "    post_date = submission.created_utc\n",
    "    \n",
    "    post_titles.append(post_title)\n",
    "    post_upvoteses.append(post_upvotes)\n",
    "    num_commentses.append(num_comments)\n",
    "    post_ids.append(post_id)\n",
    "    post_upvote_ratios.append(upvote_ratio)\n",
    "    post_comments.append(post_comment_list)\n",
    "    post_dates.append(post_date)\n",
    "    counter += 1\n",
    "\n",
    "    \n",
    "    \n",
    "    for comment in post_comment_list:\n",
    "        comment_author = comment.author\n",
    "        comment_body = comment.body\n",
    "        comment_submission = comment.submission\n",
    "        comment_upvote = comment.score\n",
    "        \n",
    "        comment_authors.append(comment_author)\n",
    "        comment_bodies.append(comment_body)\n",
    "        comment_submissions.append(comment_submission)\n",
    "        comment_upvotes.append(comment_upvote)\n",
    "        "
   ]
  },
  {
   "cell_type": "code",
   "execution_count": 7,
   "id": "866451fb-4ecf-4aec-82d4-23a43e718d52",
   "metadata": {},
   "outputs": [
    {
     "data": {
      "text/plain": [
       "['Looking for recommendations on where to stake ETH.',\n",
       " 'It seems like cryptos have completely lost their steam. Good time to pull out? Right now is slightly higher than what i bought at.',\n",
       " 'I have a private key and I want to sell my ETH. I am not sure which wallet to use. I am on Windows, but if there is something a lot better, I could use Linux.',\n",
       " \"This wasn't today, been circulating a few weeks already\",\n",
       " 'It’s ok, 95% of the accounts are bots 🤖',\n",
       " \"That's a database from 2021 btw\",\n",
       " 'Yeah, this happened a while ago...',\n",
       " 'Is this the same database that was released sometime in 4th quarter of 2022? I remember a post on that forum stating they did an API exploit and gained phone numbers of high net worth individuals.\\n\\nCould be the same database.',\n",
       " \"OH NO!\\n\\nI'M SUPER WORRIED ABOUT IT.\",\n",
       " \"they should be fined for failing to protect their user's data, and of course that money goes to the people's pockets, who suffered from deregulation since the beginning of the smartphone era\",\n",
       " ' Not again 😭',\n",
       " 'this is bad',\n",
       " 'Were the accounts passwords leaked also?',\n",
       " 'It’s not like it’s Experian.  Lol',\n",
       " 'I dont use that propaganda tool anyways.',\n",
       " \"Where's the file?\",\n",
       " 'Glad I never used garbage twitter',\n",
       " 'the musk rat sold it to buy more btc',\n",
       " 'Makes you think twice about paying 8 dollars to have your personal info avail for hacking ...',\n",
       " 'Old news.',\n",
       " \"That's why I don't use twitter\",\n",
       " 'Hello your Metamask has a problem\\n\\nBut no seriously is anyone else facing a larger onslaught of bots these days?',\n",
       " 'Thankfully I log in with Apple and that uses an obfuscated email address and no personal info like my phone number or anything like that. This is the PERFECT example of why these type of account creations/log-ins are extremely important to protect yourself online.',\n",
       " \"Large companies will never be responsible stewards of user data. The only way forward is to insist on trustless setups where we are not giving them anything we wouldn't want a bad actor to have.\",\n",
       " \"This wasn't today; it had been going about for a while.\",\n",
       " ' For failing to safeguard the data of its users, they ought to pay a punishment.',\n",
       " ' The existence of massive web2 databases containing our personal information, which hackers could acquire and use against us, is disturbing.',\n",
       " ' Seriously, is anyone else currently experiencing a greater influx of bots?',\n",
       " 'Why is this in the eth sub?',\n",
       " \"Who's Twitter?\",\n",
       " ' im very anxious about it',\n",
       " 'My e-mail and phone number has been leaked by so many internet companies it literally doesn’t matter anymore. Spam filters are great now a days and you anyways use 2FA on sites where you have private or money things.',\n",
       " 'Probably a government hack so now they can justify going after Twitter..',\n",
       " 'Bahahaha good thing I deleted that shit over a month ago and used a unique password when I set it up. Useless 👏😂',\n",
       " 'Step 1. Don’t buy influencer projects',\n",
       " 'With all the discussion around Logan Paul and CryptoZoo, I felt that now would be a great time to show off the various types of scams that are plaguing the market.',\n",
       " 'tldr; Non-fungible tokens (NFTs) have become a multi-billion dollar industry segment, but they’ve also attracted the attention of ingenious scammers. Phishing scams and pump-and-dumps are some of the most common ways in which NFTs are stolen. Scammers can be identified by checking to see how much liquidity and different buyers there are.\\n\\n*This summary is auto generated by a bot and not meant to replace reading the original article. As always, DYOR.*',\n",
       " 'Almost every scam is done creatively. People are getting more competent (I hope) in the space to avoid the typical bs. The main issue is new users who have no clue',\n",
       " \">Proof of Democracy protocol that enables artists to verify their NFTs and issue a certificate of authenticity that’s visually represented by a Wakweli tick mark on any blockchain explorer.\\n\\nInteresting how they can make it across all blockchains (if I'm understanding that correctly). Would be cool if large marketplaces bought out the rights or partnered to have this on each platform, would be a foot in the right direction\",\n",
       " 'Yes, the random dude on Fiverrr is a scammer for making cartoon combinations',\n",
       " \"I heard you could run Erigon on HDD but I haven't tried it.\\n\\nGeth allows you to separate the stuff that doesn't normally need to be read quickly for validation onto a different disk. Take a look at the ` --datadir.ancient` option. The most common use of this is to put the blockchain (all the historical blocks) on an HDD so that you only need to store the state and a bit of extra gubbins on SSD. I'm not sure where the state snapshots generated by an archive node go, but that might work for you. That way you may only need to buy a 1TB or 2TB SSD, then use an HDD for your monster archive.\\n\\nPS. At the risk of being that guy there really aren't a lot of cases where running an archive node (the 40TB thing) is the best option. You can get all the transactions from just a regular node on a 2TB SSD or a 1TB SSD + a 1TB HDD. For most cases it's probably better to run you own script indexing each block into a database (maybe with The Graph which puts it in PostgreSQL) designed for querying whatever it is that you're trying to query.\",\n",
       " \"Well for one, you don't need 40TB for an archive node. More like 10TB, maybe 15TB for a buffer. Erigon can do an archive node on less than 5TB. \\n\\nYou could look into different RAID configurations. Using RAID 0 or RAID 10 could give you enough of a performance boost to make it feasible, but this isn't something I've tried personally and I'm not sure if statistics exist to show that this would work before actually trying it. \\n\\nYou might be able to try one of the minority clients like Erigon- I've heard that they've managed to greatly improve the archive node architecture and make it much easier to run. If you have a spare 2TB HDD, you could just try syncing Erigon (make sure you have lots of RAM) and see where it gets you. If it works, then you can scale up and do an archive node.\",\n",
       " 'No. You would never sync completely.',\n",
       " 'I hold out hope for RAID1 or RAID10 HDDs: it wouldn\\'t surprise me if a Besu (using Bonsai Tries) on a high RAM computer could keep up.\\n\\nA set up like RAID 2 or RAID 6 with both HDDs and SSDs might also work for very large volumes, but I really don\\'t know how different disk speeds work together.\\n\\nUnfortunately only Geth implements \"deep freeze mode\" where history (and state snapshots?) is stored on a seperate disk.\\n\\nMy assumption here is that quick reads matter far more than quick writes, and for an archive node the proportion of rewriting on any single disk would drop even smaller.',\n",
       " 'This is a horrible list\\n\\nBank of America is the opposite of friendly. \\n\\nSilvergate is easily the most blockchain friendly and has native integrations to Fireblocks and other exchanges.',\n",
       " 'Bank of America, what are you on?',\n",
       " 'Nice work, but Nuri shut down\\n\\nEdit: I just read that Fidor will shut down in 2024.',\n",
       " 'When I use to work for Chase before the big Crypto boom, I remembered Jamie Diamond threatening to fire advisors who recommended Bitcoin to clients and employees who owned it.',\n",
       " 'I thought Revolut was the only crypto-friendly bank in the UK. So this helped a lot, thanks.',\n",
       " 'thoughts about Canadian banks?',\n",
       " \"Juno was doing a solid job but they are still too new and full of glitches for my taste. Case in point their WYRE crypto partnership is about to collapse because Wyre is biting the dust. They made a few smart adjustments to avoid any huge disaster but it's always nerve-wracking even if I don't keep much crypto at all on the platform and just off ramp it.  \\n\\nEvolve Bank and Trust does their bank accounts and FDIC insurance requirements, so at least your USD fiat cash is Safu.\\n\\nThey aren't really a bank but a fintech platform that combines Evolve+Wyre to let you cheaply offramp into layer 2s at super cheap.\",\n",
       " 'This is such a garbage list. Truly garbage.',\n",
       " 'Lol, no bank is \"crypto-friendly\"',\n",
       " 'call the FBI',\n",
       " \"Hey, Solidity Engineer, here  I've been around the block a couple of times and seen many aspects of this space flourish with real-world utility.Many aspects in your post regarding connecting real-world assets to the blockchain for value-added inclusion have been done in the past and have been successful, along with more recent protocols.\\n\\n&#x200B;\\n\\nHere are a couple of examples below that you may enjoy!\\n\\n**New Balance to use blockchain to stop counterfeit shoes 2019**\\n\\n[New Balance to use blockchain to stop counterfeit shoes - CoinGeek](https://coingeek.com/new-balance-to-use-blockchain-to-stop-counterfeit-shoes/)\\n\\n&#x200B;\\n\\n**Real Estate Sold on Opensea attracts Attention 2022**\\n\\n[Real Estate Sold on Opensea attracts Attention - The Coin Republic: Cryptocurrency , Bitcoin, Ethereum & Blockchain News](https://www.thecoinrepublic.com/2022/10/20/real-estate-sold-on-opensea-attracts-attention/)\\n\\n&#x200B;\\n\\n**Flowcarbon Raises $70M for Blockchain Carbon Credits. 2022**\\n\\n[Flowcarbon Raises $70M for Blockchain Carbon Credits](https://carboncredits.com/flowcarbon-70m-blockchain-backed-carbon-credits/)\\n\\n&#x200B;\\n\\nYour view on China for its digital age advancement is perfect. China has been constructing its digital Yuan since as early as 2014. The move to the digital age is already present with apple pay, google pay, PayPal, etc.\\n\\n&#x200B;\\n\\nI will firmly say that pandora's box has been opened and can no longer be closed. This technology has integrated itself into our daily lives whether we know it or not, And that truly is one of the goals of a successful technology\\n\\n&#x200B;\\n\\n.Flowing over into education and regulation, the USA and most parts of the world have lots of work to do on truly separating Cryptocurrines from Blockchain tech. One can live without the other and thrive. The other cannot.\\n\\n&#x200B;\\n\\nWrapping this up, the continued rise in the use of crypto-currency payment for goods or services depends on two things.\\n\\n&#x200B;\\n\\n***1.) Education of the Masses separating Cryptocurrencies from Blockchain.***\\n\\n***2.) Precise regulation with appropriate laws that will not hinder innovative blockchain products and use cases.***\\n\\n&#x200B;\\n\\nI hope this help! DM's are always open for more conversations.\",\n",
       " 'Yes but about .01% of the people you come across in crypto actually care about decentralization',\n",
       " 'Your second paragraph is your answer.',\n",
       " 'DID enforced tokens that have regulatory proof baked in.',\n",
       " \"why is everyone asking about regulation today.  it's so odd that narratives get blasted throughout reddit crypto subs.  very odd, very coincident\",\n",
       " \"US just taxes the shit out of it, which needs a new law.\\n\\nOr, the much easier strategy to harass the company with securities or OFAC enforcement so much that they get scared of working with US-based customers, thus making it very difficult and necessitating the need of a VPN to access them living in the US, and blocking you with KYC requirements.\\n\\nThe US government can't stop blockchains. They can only legally threaten or tax. For some crypto orgs it's laughable, and they just ignore it, for many more highly regulated companies, the threats can turn up the heat quite a bit to restrict every possible on-ramp or off-ramp.\\n\\nIf you can blacklist Coinbase from working with you and your wallets, it's usually enough to scare most citizens into compliance. See the recent Tornado Cash example.\",\n",
       " \"> yet if a US citizen buys a bond on chain they are still committing an offense as they do not have a US license to sell to US citizens.\\n\\nYes, they are committing a crime full stop. If identified they would likely be arrested on entry to the USA and depending on how big they are they might get arrested and extradited to the USA from EU or other nations around the world.\\n\\n> What is the resolution to this problem?\\n\\nI mean you'd have to campaign for the complete removal of restrictions on what securities people can buy which would open the average person up to a fuck ton of scams. Or maybe just a exception for crytpo? It's not really solvable in any feasible manner.\",\n",
       " 'KYC whitelists for contract interaction',\n",
       " \"I realize this us a Radix post, but it makes a good point. ERC-20 tokens afford great flexibility, but at the cost of security and standardization. You never know if a token is safe to interact with or what it'll do without reviewing its code.\\n\\nI'd love to see Ethereum support native tokens in addition to its existing ERC-20 tokens. Tron does this with its native TRC10 tokens and its smart contract TRC20 tokens. Best of both worlds.\",\n",
       " 'It is amazing what is possible when the token is part of the platform. It would be awesome if Eth could do this. It would be a big challenge, and not sure how to find the path to get there because as I understand it, the Radix approach was to build this in from the ground up, so the underlying structure is made for this purpose.']"
      ]
     },
     "execution_count": 7,
     "metadata": {},
     "output_type": "execute_result"
    }
   ],
   "source": [
    "comment_bodies"
   ]
  },
  {
   "cell_type": "code",
   "execution_count": null,
   "id": "2aff06b1-c91b-4ab9-9eca-161a57bda112",
   "metadata": {},
   "outputs": [],
   "source": []
  }
 ],
 "metadata": {
  "kernelspec": {
   "display_name": "Python 3 (ipykernel)",
   "language": "python",
   "name": "python3"
  },
  "language_info": {
   "codemirror_mode": {
    "name": "ipython",
    "version": 3
   },
   "file_extension": ".py",
   "mimetype": "text/x-python",
   "name": "python",
   "nbconvert_exporter": "python",
   "pygments_lexer": "ipython3",
   "version": "3.9.12"
  }
 },
 "nbformat": 4,
 "nbformat_minor": 5
}
