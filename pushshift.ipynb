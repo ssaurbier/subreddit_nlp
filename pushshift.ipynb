{
 "cells": [
  {
   "cell_type": "code",
   "execution_count": 1,
   "id": "9bea4758-f27e-4c11-ac51-062a2ae073e7",
   "metadata": {},
   "outputs": [],
   "source": [
    "import requests\n",
    "import calendar\n",
    "import time\n",
    "import pandas as pd\n",
    "import numpy as np"
   ]
  },
  {
   "cell_type": "code",
   "execution_count": 8,
   "id": "5f261285-9d22-4823-845b-8376b39759bf",
   "metadata": {},
   "outputs": [],
   "source": [
    "# pushshift is not up to date - you have to scrape from PRAW for updated data"
   ]
  },
  {
   "cell_type": "code",
   "execution_count": 3,
   "id": "6909ca54-5d39-4d5d-806f-fd35d62d887d",
   "metadata": {},
   "outputs": [],
   "source": [
    "url = 'https://api.pushshift.io/reddit/search/submission'\n",
    "params = {\n",
    "    'subreddit': 'boardgames',\n",
    "    'limit': 10\n",
    "}"
   ]
  },
  {
   "cell_type": "code",
   "execution_count": 4,
   "id": "89e8cd37-f077-4ee4-8359-10c15e448c00",
   "metadata": {},
   "outputs": [
    {
     "data": {
      "text/plain": [
       "200"
      ]
     },
     "execution_count": 4,
     "metadata": {},
     "output_type": "execute_result"
    }
   ],
   "source": [
    "res = requests.get(url, params)\n",
    "res.status_code"
   ]
  },
  {
   "cell_type": "code",
   "execution_count": null,
   "id": "b64c2f4a-e173-4e19-9eef-95140133e293",
   "metadata": {},
   "outputs": [],
   "source": []
  },
  {
   "cell_type": "code",
   "execution_count": 9,
   "id": "57fd04a0-d463-41b8-abf3-c679120fd821",
   "metadata": {},
   "outputs": [],
   "source": [
    "#res.json()['data']"
   ]
  },
  {
   "cell_type": "code",
   "execution_count": null,
   "id": "fed95dd4-92c2-4701-8160-2093c3755e94",
   "metadata": {},
   "outputs": [],
   "source": [
    "df = pd.DataFrame(res.json())"
   ]
  }
 ],
 "metadata": {
  "kernelspec": {
   "display_name": "Python 3 (ipykernel)",
   "language": "python",
   "name": "python3"
  },
  "language_info": {
   "codemirror_mode": {
    "name": "ipython",
    "version": 3
   },
   "file_extension": ".py",
   "mimetype": "text/x-python",
   "name": "python",
   "nbconvert_exporter": "python",
   "pygments_lexer": "ipython3",
   "version": "3.9.12"
  }
 },
 "nbformat": 4,
 "nbformat_minor": 5
}
