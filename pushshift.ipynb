{
 "cells": [
  {
   "cell_type": "code",
   "execution_count": 1,
   "id": "9bea4758-f27e-4c11-ac51-062a2ae073e7",
   "metadata": {},
   "outputs": [],
   "source": [
    "import requests\n",
    "import calendar\n",
    "import time\n",
    "import pandas as pd\n",
    "import numpy as np"
   ]
  },
  {
   "cell_type": "code",
   "execution_count": 2,
   "id": "5f261285-9d22-4823-845b-8376b39759bf",
   "metadata": {},
   "outputs": [],
   "source": [
    "# pushshift is not up to date - you have to scrape from PRAW for updated data"
   ]
  },
  {
   "cell_type": "code",
   "execution_count": 25,
   "id": "6909ca54-5d39-4d5d-806f-fd35d62d887d",
   "metadata": {},
   "outputs": [],
   "source": [
    "subreddits = ['bitcoin', 'ethereum']\n",
    "url = 'https://api.pushshift.io/reddit/search/submission'\n",
    "params = {\n",
    "    'subreddit':  'ethereum',\n",
    "    'limit': 1000\n",
    "}"
   ]
  },
  {
   "cell_type": "code",
   "execution_count": 26,
   "id": "89e8cd37-f077-4ee4-8359-10c15e448c00",
   "metadata": {},
   "outputs": [
    {
     "data": {
      "text/plain": [
       "200"
      ]
     },
     "execution_count": 26,
     "metadata": {},
     "output_type": "execute_result"
    }
   ],
   "source": [
    "res = requests.get(url, params)\n",
    "res.status_code"
   ]
  },
  {
   "cell_type": "code",
   "execution_count": null,
   "id": "b64c2f4a-e173-4e19-9eef-95140133e293",
   "metadata": {},
   "outputs": [],
   "source": []
  },
  {
   "cell_type": "code",
   "execution_count": 27,
   "id": "57fd04a0-d463-41b8-abf3-c679120fd821",
   "metadata": {},
   "outputs": [],
   "source": [
    "#res.json()['data']"
   ]
  },
  {
   "cell_type": "code",
   "execution_count": 30,
   "id": "fed95dd4-92c2-4701-8160-2093c3755e94",
   "metadata": {},
   "outputs": [
    {
     "data": {
      "text/plain": [
       "r/ethereum    1000\n",
       "Name: subreddit_name_prefixed, dtype: int64"
      ]
     },
     "execution_count": 30,
     "metadata": {},
     "output_type": "execute_result"
    }
   ],
   "source": [
    "df = pd.DataFrame(res.json()['data'])\n",
    "df.subreddit_name_prefixed.value_counts()"
   ]
  },
  {
   "cell_type": "code",
   "execution_count": 7,
   "id": "bfd4a3f0-41a1-47e2-912e-697ff7294828",
   "metadata": {},
   "outputs": [],
   "source": [
    "params = {\n",
    "    'subreddit': 'boardgames',\n",
    "    'limit': 10,\n",
    "    'filter': 'subreddit, selftext, title, created_utc'\n",
    "}"
   ]
  },
  {
   "cell_type": "code",
   "execution_count": 8,
   "id": "b6af83b6-9ed6-49c1-83db-1ebe8bdfc615",
   "metadata": {},
   "outputs": [],
   "source": [
    "params2 = {\n",
    "    'subreddit': 'boardgames',\n",
    "    'limit': 10,\n",
    "    'filter': 'subreddit, selftext, title, created_utc',\n",
    "    'until': 1672916977\n",
    "}"
   ]
  },
  {
   "cell_type": "code",
   "execution_count": 9,
   "id": "93d833a9-130f-4f86-9e1c-a230d1d1c7d1",
   "metadata": {},
   "outputs": [
    {
     "data": {
      "text/plain": [
       "200"
      ]
     },
     "execution_count": 9,
     "metadata": {},
     "output_type": "execute_result"
    }
   ],
   "source": [
    "res2 = requests.get(url, params2)\n",
    "res2.status_code"
   ]
  },
  {
   "cell_type": "code",
   "execution_count": 10,
   "id": "7811e677-db27-40a5-8aad-0db20acd8123",
   "metadata": {},
   "outputs": [
    {
     "data": {
      "text/html": [
       "<div>\n",
       "<style scoped>\n",
       "    .dataframe tbody tr th:only-of-type {\n",
       "        vertical-align: middle;\n",
       "    }\n",
       "\n",
       "    .dataframe tbody tr th {\n",
       "        vertical-align: top;\n",
       "    }\n",
       "\n",
       "    .dataframe thead th {\n",
       "        text-align: right;\n",
       "    }\n",
       "</style>\n",
       "<table border=\"1\" class=\"dataframe\">\n",
       "  <thead>\n",
       "    <tr style=\"text-align: right;\">\n",
       "      <th></th>\n",
       "      <th>subreddit</th>\n",
       "      <th>selftext</th>\n",
       "      <th>title</th>\n",
       "      <th>created_utc</th>\n",
       "    </tr>\n",
       "  </thead>\n",
       "  <tbody>\n",
       "    <tr>\n",
       "      <th>0</th>\n",
       "      <td>boardgames</td>\n",
       "      <td>Hi all, was hoping to get help with a few rul...</td>\n",
       "      <td>Question about Caper: Europe Rome deck</td>\n",
       "      <td>1672915605</td>\n",
       "    </tr>\n",
       "    <tr>\n",
       "      <th>1</th>\n",
       "      <td>boardgames</td>\n",
       "      <td></td>\n",
       "      <td>Question about Caper: Europe</td>\n",
       "      <td>1672914841</td>\n",
       "    </tr>\n",
       "    <tr>\n",
       "      <th>2</th>\n",
       "      <td>boardgames</td>\n",
       "      <td>Who have game bang.</td>\n",
       "      <td>Bang</td>\n",
       "      <td>1672909471</td>\n",
       "    </tr>\n",
       "    <tr>\n",
       "      <th>3</th>\n",
       "      <td>boardgames</td>\n",
       "      <td></td>\n",
       "      <td>Chinese Chess - Step by step visual explanation</td>\n",
       "      <td>1672905137</td>\n",
       "    </tr>\n",
       "    <tr>\n",
       "      <th>4</th>\n",
       "      <td>boardgames</td>\n",
       "      <td>Why do we only have Ludo and Uno in India?  Wh...</td>\n",
       "      <td>Abstract game scaling?</td>\n",
       "      <td>1672904292</td>\n",
       "    </tr>\n",
       "  </tbody>\n",
       "</table>\n",
       "</div>"
      ],
      "text/plain": [
       "    subreddit                                           selftext  \\\n",
       "0  boardgames   Hi all, was hoping to get help with a few rul...   \n",
       "1  boardgames                                                      \n",
       "2  boardgames                                Who have game bang.   \n",
       "3  boardgames                                                      \n",
       "4  boardgames  Why do we only have Ludo and Uno in India?  Wh...   \n",
       "\n",
       "                                             title  created_utc  \n",
       "0           Question about Caper: Europe Rome deck   1672915605  \n",
       "1                     Question about Caper: Europe   1672914841  \n",
       "2                                             Bang   1672909471  \n",
       "3  Chinese Chess - Step by step visual explanation   1672905137  \n",
       "4                           Abstract game scaling?   1672904292  "
      ]
     },
     "execution_count": 10,
     "metadata": {},
     "output_type": "execute_result"
    }
   ],
   "source": [
    "df2 = pd.DataFrame(res2.json()['data'])\n",
    "df2.head()"
   ]
  },
  {
   "cell_type": "code",
   "execution_count": 46,
   "id": "61584371-8655-4dc5-9b27-6e10c8c0c09b",
   "metadata": {},
   "outputs": [
    {
     "name": "stdout",
     "output_type": "stream",
     "text": [
      "200\n",
      "<Response [200]>\n",
      "200\n",
      "<Response [200]>\n"
     ]
    }
   ],
   "source": [
    "for i in subreddits:\n",
    "    params = {\n",
    "        'subreddit': i,'limit': 100}\n",
    "    i = i.strip('\\'') \n",
    "    i = requests.get(url, params)\n",
    "    print(i.status_code)\n",
    "    print(i)"
   ]
  },
  {
   "cell_type": "code",
   "execution_count": 48,
   "id": "f509e07f-dc4a-4285-bc04-1846340991c6",
   "metadata": {},
   "outputs": [
    {
     "data": {
      "text/html": [
       "<div>\n",
       "<style scoped>\n",
       "    .dataframe tbody tr th:only-of-type {\n",
       "        vertical-align: middle;\n",
       "    }\n",
       "\n",
       "    .dataframe tbody tr th {\n",
       "        vertical-align: top;\n",
       "    }\n",
       "\n",
       "    .dataframe thead th {\n",
       "        text-align: right;\n",
       "    }\n",
       "</style>\n",
       "<table border=\"1\" class=\"dataframe\">\n",
       "  <thead>\n",
       "    <tr style=\"text-align: right;\">\n",
       "      <th></th>\n",
       "      <th>subreddit</th>\n",
       "      <th>selftext</th>\n",
       "      <th>gilded</th>\n",
       "      <th>title</th>\n",
       "      <th>link_flair_richtext</th>\n",
       "      <th>subreddit_name_prefixed</th>\n",
       "      <th>hidden</th>\n",
       "      <th>pwls</th>\n",
       "      <th>link_flair_css_class</th>\n",
       "      <th>thumbnail_height</th>\n",
       "      <th>...</th>\n",
       "      <th>created_utc</th>\n",
       "      <th>num_crossposts</th>\n",
       "      <th>media</th>\n",
       "      <th>is_video</th>\n",
       "      <th>retrieved_utc</th>\n",
       "      <th>updated_utc</th>\n",
       "      <th>utc_datetime_str</th>\n",
       "      <th>media_metadata</th>\n",
       "      <th>author_cakeday</th>\n",
       "      <th>poll_data</th>\n",
       "    </tr>\n",
       "  </thead>\n",
       "  <tbody>\n",
       "    <tr>\n",
       "      <th>0</th>\n",
       "      <td>ethereum</td>\n",
       "      <td></td>\n",
       "      <td>0</td>\n",
       "      <td>Time for another Reddit giveaway! First 10 to ...</td>\n",
       "      <td>[]</td>\n",
       "      <td>r/ethereum</td>\n",
       "      <td>False</td>\n",
       "      <td>6</td>\n",
       "      <td>None</td>\n",
       "      <td>140.0</td>\n",
       "      <td>...</td>\n",
       "      <td>1673131314</td>\n",
       "      <td>0</td>\n",
       "      <td>None</td>\n",
       "      <td>False</td>\n",
       "      <td>1673131326</td>\n",
       "      <td>1673131326</td>\n",
       "      <td>2023-01-07 22:41:54</td>\n",
       "      <td>NaN</td>\n",
       "      <td>NaN</td>\n",
       "      <td>NaN</td>\n",
       "    </tr>\n",
       "    <tr>\n",
       "      <th>1</th>\n",
       "      <td>ethereum</td>\n",
       "      <td>[removed]</td>\n",
       "      <td>0</td>\n",
       "      <td>TEST</td>\n",
       "      <td>[]</td>\n",
       "      <td>r/ethereum</td>\n",
       "      <td>False</td>\n",
       "      <td>6</td>\n",
       "      <td>None</td>\n",
       "      <td>NaN</td>\n",
       "      <td>...</td>\n",
       "      <td>1673130953</td>\n",
       "      <td>0</td>\n",
       "      <td>None</td>\n",
       "      <td>False</td>\n",
       "      <td>1673130971</td>\n",
       "      <td>1673130972</td>\n",
       "      <td>2023-01-07 22:35:53</td>\n",
       "      <td>NaN</td>\n",
       "      <td>NaN</td>\n",
       "      <td>NaN</td>\n",
       "    </tr>\n",
       "    <tr>\n",
       "      <th>2</th>\n",
       "      <td>ethereum</td>\n",
       "      <td></td>\n",
       "      <td>0</td>\n",
       "      <td>Information Asymetry — Public Blockchains Spri...</td>\n",
       "      <td>[]</td>\n",
       "      <td>r/ethereum</td>\n",
       "      <td>False</td>\n",
       "      <td>6</td>\n",
       "      <td>None</td>\n",
       "      <td>NaN</td>\n",
       "      <td>...</td>\n",
       "      <td>1673129027</td>\n",
       "      <td>0</td>\n",
       "      <td>None</td>\n",
       "      <td>False</td>\n",
       "      <td>1673129044</td>\n",
       "      <td>1673129045</td>\n",
       "      <td>2023-01-07 22:03:47</td>\n",
       "      <td>NaN</td>\n",
       "      <td>NaN</td>\n",
       "      <td>NaN</td>\n",
       "    </tr>\n",
       "    <tr>\n",
       "      <th>3</th>\n",
       "      <td>ethereum</td>\n",
       "      <td></td>\n",
       "      <td>0</td>\n",
       "      <td>The 8 Bullish Elements of Ethereum!</td>\n",
       "      <td>[]</td>\n",
       "      <td>r/ethereum</td>\n",
       "      <td>False</td>\n",
       "      <td>6</td>\n",
       "      <td>None</td>\n",
       "      <td>140.0</td>\n",
       "      <td>...</td>\n",
       "      <td>1673127834</td>\n",
       "      <td>0</td>\n",
       "      <td>None</td>\n",
       "      <td>False</td>\n",
       "      <td>1673127848</td>\n",
       "      <td>1673127848</td>\n",
       "      <td>2023-01-07 21:43:54</td>\n",
       "      <td>NaN</td>\n",
       "      <td>NaN</td>\n",
       "      <td>NaN</td>\n",
       "    </tr>\n",
       "    <tr>\n",
       "      <th>4</th>\n",
       "      <td>ethereum</td>\n",
       "      <td></td>\n",
       "      <td>0</td>\n",
       "      <td>Dog Lovers’ Lottery</td>\n",
       "      <td>[]</td>\n",
       "      <td>r/ethereum</td>\n",
       "      <td>False</td>\n",
       "      <td>6</td>\n",
       "      <td>None</td>\n",
       "      <td>NaN</td>\n",
       "      <td>...</td>\n",
       "      <td>1673127162</td>\n",
       "      <td>0</td>\n",
       "      <td>None</td>\n",
       "      <td>False</td>\n",
       "      <td>1673127179</td>\n",
       "      <td>1673127180</td>\n",
       "      <td>2023-01-07 21:32:42</td>\n",
       "      <td>NaN</td>\n",
       "      <td>NaN</td>\n",
       "      <td>NaN</td>\n",
       "    </tr>\n",
       "  </tbody>\n",
       "</table>\n",
       "<p>5 rows × 94 columns</p>\n",
       "</div>"
      ],
      "text/plain": [
       "  subreddit   selftext  gilded  \\\n",
       "0  ethereum                  0   \n",
       "1  ethereum  [removed]       0   \n",
       "2  ethereum                  0   \n",
       "3  ethereum                  0   \n",
       "4  ethereum                  0   \n",
       "\n",
       "                                               title link_flair_richtext  \\\n",
       "0  Time for another Reddit giveaway! First 10 to ...                  []   \n",
       "1                                               TEST                  []   \n",
       "2  Information Asymetry — Public Blockchains Spri...                  []   \n",
       "3                The 8 Bullish Elements of Ethereum!                  []   \n",
       "4                                Dog Lovers’ Lottery                  []   \n",
       "\n",
       "  subreddit_name_prefixed  hidden  pwls link_flair_css_class  \\\n",
       "0              r/ethereum   False     6                 None   \n",
       "1              r/ethereum   False     6                 None   \n",
       "2              r/ethereum   False     6                 None   \n",
       "3              r/ethereum   False     6                 None   \n",
       "4              r/ethereum   False     6                 None   \n",
       "\n",
       "   thumbnail_height  ... created_utc  num_crossposts  media is_video  \\\n",
       "0             140.0  ...  1673131314               0   None    False   \n",
       "1               NaN  ...  1673130953               0   None    False   \n",
       "2               NaN  ...  1673129027               0   None    False   \n",
       "3             140.0  ...  1673127834               0   None    False   \n",
       "4               NaN  ...  1673127162               0   None    False   \n",
       "\n",
       "   retrieved_utc updated_utc     utc_datetime_str  media_metadata  \\\n",
       "0     1673131326  1673131326  2023-01-07 22:41:54             NaN   \n",
       "1     1673130971  1673130972  2023-01-07 22:35:53             NaN   \n",
       "2     1673129044  1673129045  2023-01-07 22:03:47             NaN   \n",
       "3     1673127848  1673127848  2023-01-07 21:43:54             NaN   \n",
       "4     1673127179  1673127180  2023-01-07 21:32:42             NaN   \n",
       "\n",
       "  author_cakeday  poll_data  \n",
       "0            NaN        NaN  \n",
       "1            NaN        NaN  \n",
       "2            NaN        NaN  \n",
       "3            NaN        NaN  \n",
       "4            NaN        NaN  \n",
       "\n",
       "[5 rows x 94 columns]"
      ]
     },
     "execution_count": 48,
     "metadata": {},
     "output_type": "execute_result"
    }
   ],
   "source": [
    "df2 = pd.DataFrame(i.json()['data'])\n",
    "df2.head()"
   ]
  },
  {
   "cell_type": "code",
   "execution_count": null,
   "id": "dd54d766-4ff2-4618-8c19-1f94f3df69f7",
   "metadata": {},
   "outputs": [],
   "source": []
  },
  {
   "cell_type": "code",
   "execution_count": null,
   "id": "11149421-ff90-47bc-a749-cf22faf6910f",
   "metadata": {},
   "outputs": [],
   "source": []
  }
 ],
 "metadata": {
  "kernelspec": {
   "display_name": "Python 3 (ipykernel)",
   "language": "python",
   "name": "python3"
  },
  "language_info": {
   "codemirror_mode": {
    "name": "ipython",
    "version": 3
   },
   "file_extension": ".py",
   "mimetype": "text/x-python",
   "name": "python",
   "nbconvert_exporter": "python",
   "pygments_lexer": "ipython3",
   "version": "3.9.12"
  }
 },
 "nbformat": 4,
 "nbformat_minor": 5
}
