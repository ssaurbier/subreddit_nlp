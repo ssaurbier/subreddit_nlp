{
 "cells": [
  {
   "cell_type": "code",
   "execution_count": 168,
   "id": "9bea4758-f27e-4c11-ac51-062a2ae073e7",
   "metadata": {},
   "outputs": [],
   "source": [
    "import requests\n",
    "import calendar\n",
    "import time\n",
    "import pandas as pd\n",
    "import numpy as np"
   ]
  },
  {
   "cell_type": "code",
   "execution_count": 169,
   "id": "5f261285-9d22-4823-845b-8376b39759bf",
   "metadata": {},
   "outputs": [],
   "source": [
    "# pushshift is not up to date - you have to scrape from PRAW for updated data"
   ]
  },
  {
   "cell_type": "code",
   "execution_count": 170,
   "id": "6909ca54-5d39-4d5d-806f-fd35d62d887d",
   "metadata": {},
   "outputs": [],
   "source": [
    "subreddits = ['bitcoin', 'ethereum']\n",
    "url = 'https://api.pushshift.io/reddit/search/submission'\n",
    "ethparams = {\n",
    "    'subreddit':  'ethereum',\n",
    "    'limit': 500\n",
    "}"
   ]
  },
  {
   "cell_type": "code",
   "execution_count": 172,
   "id": "8fd9a780-5d09-45fa-bc6b-045fac3eb1e8",
   "metadata": {},
   "outputs": [],
   "source": [
    "btcparams = {\n",
    "    'subreddit':  'bitcoin',\n",
    "    'limit': 500,\n",
    "    'filter': 'subreddit, selftext, title, created_utc',\n",
    "    'until': 1672916977\n",
    "}"
   ]
  },
  {
   "cell_type": "code",
   "execution_count": null,
   "id": "29b279e8-eaad-49d9-b041-e22f7c61785d",
   "metadata": {},
   "outputs": [],
   "source": []
  },
  {
   "cell_type": "code",
   "execution_count": 173,
   "id": "fe4f0198-3604-48a0-98ac-9589c522f869",
   "metadata": {},
   "outputs": [],
   "source": [
    "btc = requests.get(url, btcparams)\n",
    "eth =requests.get(url, ethparams)\n"
   ]
  },
  {
   "cell_type": "code",
   "execution_count": null,
   "id": "fc0b0998-b76d-4325-a8cf-ef47aca11400",
   "metadata": {},
   "outputs": [],
   "source": []
  },
  {
   "cell_type": "code",
   "execution_count": null,
   "id": "14e50b10-bfec-4560-b00b-c994ecf87fb4",
   "metadata": {},
   "outputs": [],
   "source": [
    "df_btc_posts = pd.DataFrame(btc.json()['data'])\n",
    "df_eth_posts = pd.DataFrame(eth.json()['data'])"
   ]
  },
  {
   "cell_type": "code",
   "execution_count": null,
   "id": "fd7b6a83-554c-4454-ba59-a7a147903477",
   "metadata": {},
   "outputs": [],
   "source": []
  },
  {
   "cell_type": "code",
   "execution_count": null,
   "id": "8eea0e05-4ae9-4b1a-a18a-fd79e8b442ab",
   "metadata": {},
   "outputs": [],
   "source": []
  },
  {
   "cell_type": "code",
   "execution_count": 190,
   "id": "62fa2151-c9f8-4188-9625-5ff97011e57e",
   "metadata": {},
   "outputs": [],
   "source": [
    "subreddits = ['bitcoin', 'ethereum']"
   ]
  },
  {
   "cell_type": "code",
   "execution_count": 183,
   "id": "edbd085d-ddc7-4684-a6ca-c09185a5136f",
   "metadata": {},
   "outputs": [],
   "source": []
  },
  {
   "cell_type": "code",
   "execution_count": 186,
   "id": "55fbaf0e-8ed9-4f1d-a2ba-b181eb86a91c",
   "metadata": {},
   "outputs": [],
   "source": [
    "params = {\n",
    "    \"subreddit\": 'ethereum',\n",
    "    'filter': 'subreddit, selftext, title, created_utc',\n",
    "    \"limit\": 500,\n",
    "}\n",
    "\n",
    "posts = []\n",
    "\n",
    "res = requests.get(url, params)\n",
    "\n",
    "posts.append(res.json()[\"data\"])\n",
    "\n",
    "#print(posts)\n",
    "#return posts #comments"
   ]
  },
  {
   "cell_type": "code",
   "execution_count": 187,
   "id": "8ca528cd-c34b-41d1-a6b2-ce5c99cfc499",
   "metadata": {},
   "outputs": [],
   "source": [
    "df2 = pd.DataFrame(res.json()['data'])"
   ]
  },
  {
   "cell_type": "code",
   "execution_count": 189,
   "id": "b512a78e-d7ff-43b3-8806-89ff3d6aa700",
   "metadata": {},
   "outputs": [],
   "source": [
    "#df2"
   ]
  },
  {
   "cell_type": "code",
   "execution_count": 195,
   "id": "0a1cb714-217a-4073-9dbd-0566bad5050c",
   "metadata": {},
   "outputs": [],
   "source": [
    "# we're making a method based on jeff's advice to handle this with \"until\" for epoch. also pervasive on internet\n",
    "\n",
    "def call(subreddit):\n",
    "         \n",
    "    params = {\n",
    "        \"subreddit\": subreddit,\n",
    "        'filter': 'subreddit, selftext, title, created_utc',\n",
    "        \"limit\": 500,\n",
    "    }\n",
    "    \n",
    "    posts = []\n",
    "\n",
    "    res = requests.get(url, params)\n",
    "    \n",
    "    posts.append(res.json()[\"data\"])\n",
    "\n",
    "    return posts #comments"
   ]
  },
  {
   "cell_type": "code",
   "execution_count": null,
   "id": "97c09442-5528-4de8-99d7-729220a53844",
   "metadata": {},
   "outputs": [],
   "source": []
  },
  {
   "cell_type": "code",
   "execution_count": 204,
   "id": "d6e0c80f-58bf-48c1-8e01-7be40a2fda58",
   "metadata": {},
   "outputs": [
    {
     "ename": "SyntaxError",
     "evalue": "invalid syntax (<string>, line 1)",
     "output_type": "error",
     "traceback": [
      "Traceback \u001b[0;36m(most recent call last)\u001b[0m:\n",
      "  File \u001b[1;32m\"/Users/Saurbier/opt/anaconda3/lib/python3.9/site-packages/IPython/core/interactiveshell.py\"\u001b[0m, line \u001b[1;32m3457\u001b[0m, in \u001b[1;35mrun_code\u001b[0m\n    exec(code_obj, self.user_global_ns, self.user_ns)\n",
      "\u001b[0;36m  File \u001b[0;32m\"/var/folders/hm/36htpvln1h7d8k8hnh40nt4h0000gn/T/ipykernel_17804/3434134214.py\"\u001b[0;36m, line \u001b[0;32m5\u001b[0;36m, in \u001b[0;35m<module>\u001b[0;36m\u001b[0m\n\u001b[0;31m    dftemp = exec(f\"df_posts_{i}\")\u001b[0m\n",
      "\u001b[0;36m  File \u001b[0;32m\"<string>\"\u001b[0;36m, line \u001b[0;32m1\u001b[0m\n\u001b[0;31m    df_posts_                                                   0\u001b[0m\n\u001b[0m                                                                ^\u001b[0m\n\u001b[0;31mSyntaxError\u001b[0m\u001b[0;31m:\u001b[0m invalid syntax\n"
     ]
    }
   ],
   "source": [
    "#https://stackoverflow.com/questions/5036700/how-can-you-dynamically-create-variables\n",
    "\n",
    "for i in subreddits:\n",
    "    i = pd.DataFrame([call(i) for i in subreddits])\n",
    "    dftemp = exec(f\"df_posts_{i}\")\n",
    "dftemp"
   ]
  },
  {
   "cell_type": "code",
   "execution_count": null,
   "id": "fbb3ae00-eeca-4bd5-9028-ab5805dc5496",
   "metadata": {},
   "outputs": [],
   "source": []
  },
  {
   "cell_type": "code",
   "execution_count": null,
   "id": "0592e3df-da83-4f6e-ba1e-f4202a74ccf0",
   "metadata": {},
   "outputs": [],
   "source": []
  },
  {
   "cell_type": "code",
   "execution_count": null,
   "id": "38d3d352-fe6a-4caf-83ab-af85faf43e5e",
   "metadata": {},
   "outputs": [],
   "source": []
  },
  {
   "cell_type": "code",
   "execution_count": null,
   "id": "eec218a9-cae0-426d-b71c-f4e5ade61d08",
   "metadata": {},
   "outputs": [],
   "source": []
  },
  {
   "cell_type": "code",
   "execution_count": null,
   "id": "cb911ac3-7823-408a-8f18-84469646833d",
   "metadata": {},
   "outputs": [],
   "source": []
  },
  {
   "cell_type": "code",
   "execution_count": null,
   "id": "c3eab6c8-1191-4b28-b234-c334dd9a814e",
   "metadata": {},
   "outputs": [],
   "source": [
    "pd.set_option('display.max_rows', 500)"
   ]
  },
  {
   "cell_type": "code",
   "execution_count": null,
   "id": "32f880aa-e1c9-4175-99e8-4610018f8596",
   "metadata": {},
   "outputs": [],
   "source": [
    "df_btc_posts.tail(1)"
   ]
  },
  {
   "cell_type": "code",
   "execution_count": null,
   "id": "c0f33a2e-cfa6-442f-bf75-d2955084f99f",
   "metadata": {},
   "outputs": [],
   "source": [
    "df_eth_posts.head().T"
   ]
  },
  {
   "cell_type": "code",
   "execution_count": null,
   "id": "dd54d766-4ff2-4618-8c19-1f94f3df69f7",
   "metadata": {},
   "outputs": [],
   "source": [
    "posts = pd.concat([df_eth_posts, df_btc_posts])"
   ]
  },
  {
   "cell_type": "code",
   "execution_count": null,
   "id": "11149421-ff90-47bc-a749-cf22faf6910f",
   "metadata": {},
   "outputs": [],
   "source": [
    "posts.head()"
   ]
  },
  {
   "cell_type": "code",
   "execution_count": null,
   "id": "7650b60c-bf28-4d99-a2d0-32063056813b",
   "metadata": {},
   "outputs": [],
   "source": [
    "posts.shape"
   ]
  },
  {
   "cell_type": "code",
   "execution_count": null,
   "id": "a1bbe93b-557f-4e26-8dc9-3d06fd2f3170",
   "metadata": {},
   "outputs": [],
   "source": []
  },
  {
   "cell_type": "code",
   "execution_count": null,
   "id": "872b6712-2220-4d32-8632-719f9a3a5a7d",
   "metadata": {},
   "outputs": [],
   "source": [
    "posts = posts[(posts['selftext'] != '[removed]') & (posts['selftext'] != '')]"
   ]
  },
  {
   "cell_type": "code",
   "execution_count": null,
   "id": "3ee94277-11c3-450a-8db4-61828b4c5d31",
   "metadata": {},
   "outputs": [],
   "source": [
    "posts.shape\n",
    "posts.subreddit.value_counts()"
   ]
  },
  {
   "cell_type": "code",
   "execution_count": null,
   "id": "4caf9f38-4a59-4fa0-b114-058b882df5de",
   "metadata": {},
   "outputs": [],
   "source": [
    "posts.head()"
   ]
  },
  {
   "cell_type": "code",
   "execution_count": null,
   "id": "67c2c212-2726-4e87-a589-24a9091b8819",
   "metadata": {},
   "outputs": [],
   "source": [
    "posts.to_csv('./data/source.csv', index = False)"
   ]
  },
  {
   "cell_type": "code",
   "execution_count": null,
   "id": "7efc014a-9b59-4f85-ac96-ad7b0d8060ea",
   "metadata": {},
   "outputs": [],
   "source": []
  },
  {
   "cell_type": "code",
   "execution_count": null,
   "id": "9c7f2bf1-9b60-4002-9f2a-6b20861323df",
   "metadata": {},
   "outputs": [],
   "source": []
  },
  {
   "cell_type": "code",
   "execution_count": null,
   "id": "4e2b8317-b7d3-4c4b-a000-084f7b69c9ef",
   "metadata": {},
   "outputs": [],
   "source": []
  }
 ],
 "metadata": {
  "kernelspec": {
   "display_name": "Python 3 (ipykernel)",
   "language": "python",
   "name": "python3"
  },
  "language_info": {
   "codemirror_mode": {
    "name": "ipython",
    "version": 3
   },
   "file_extension": ".py",
   "mimetype": "text/x-python",
   "name": "python",
   "nbconvert_exporter": "python",
   "pygments_lexer": "ipython3",
   "version": "3.9.12"
  }
 },
 "nbformat": 4,
 "nbformat_minor": 5
}
