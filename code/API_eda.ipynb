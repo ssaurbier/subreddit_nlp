{
 "cells": [
  {
   "cell_type": "code",
   "execution_count": 51,
   "id": "4b46aa0b-1db9-46e5-935d-6b481569777e",
   "metadata": {},
   "outputs": [],
   "source": [
    "import requests\n",
    "import pandas as pd\n",
    "import numpy as np\n",
    "from praw.models import MoreComments"
   ]
  },
  {
   "cell_type": "code",
   "execution_count": 29,
   "id": "523ac845-bf84-4cde-aebf-3721c4274037",
   "metadata": {},
   "outputs": [],
   "source": [
    "import praw"
   ]
  },
  {
   "cell_type": "code",
   "execution_count": 30,
   "id": "5a8ffe38-f14d-4d1e-a628-7fa479eaf654",
   "metadata": {},
   "outputs": [],
   "source": [
    "reddit = praw.Reddit()"
   ]
  },
  {
   "cell_type": "code",
   "execution_count": 31,
   "id": "c981f348-7e12-42fc-80d7-20ed70b96b24",
   "metadata": {},
   "outputs": [],
   "source": [
    "reddit.read_only = True"
   ]
  },
  {
   "cell_type": "code",
   "execution_count": 32,
   "id": "599fcd22-b39c-4a5a-b406-d09f065da4a6",
   "metadata": {},
   "outputs": [],
   "source": [
    "ethereum = reddit.subreddit(\"ethereum\")\n",
    "bitcoin = reddit.subreddit('bitcoin')\n",
    "\n",
    "subreddits = [ethereum, bitcoin]"
   ]
  },
  {
   "cell_type": "code",
   "execution_count": 62,
   "id": "2055efdf-ae3e-4a55-a769-1e81e16d6388",
   "metadata": {},
   "outputs": [],
   "source": [
    "#https://praw.readthedocs.io/en/stable/code_overview/models/submission.html\n",
    "\n",
    "def callpost(i):\n",
    "    \n",
    "    #shortcut to amend call volume\n",
    "    limitval = 4\n",
    "    \n",
    "    post_titles = []\n",
    "    post_upvoteses = []\n",
    "    num_commentses = []\n",
    "    # Annoying names for semantic formulism to resolve identity errors (eg num_comments.append(num_comments). There are no other LOTR jokes in this doc. \n",
    "    post_ids = []\n",
    "    post_upvote_ratios = []\n",
    "    post_comments = []\n",
    "    post_upvotes = []\n",
    "    post_dates = []\n",
    "    post_scores = []\n",
    "    post_texts = []\n",
    "    post_authors = []\n",
    "\n",
    "\n",
    "    for submission in i.new(limit = limitval):\n",
    "        post_title = submission.title\n",
    "        post_upvotes = submission.score\n",
    "        num_comments = submission.num_comments\n",
    "        post_id = submission.id\n",
    "        upvote_ratio = submission.upvote_ratio\n",
    "        post_comment_list = list(submission.comments)\n",
    "        post_date = submission.created_utc\n",
    "        post_score = submission.score\n",
    "        post_text = submission.selftext\n",
    "        post_author = submission.author\n",
    "\n",
    "        post_titles.append(post_title)\n",
    "        post_upvoteses.append(post_upvotes)\n",
    "        num_commentses.append(num_comments)\n",
    "        post_ids.append(post_id)\n",
    "        post_upvote_ratios.append(upvote_ratio)\n",
    "        post_comments.append(post_comment_list)\n",
    "        post_dates.append(post_date)\n",
    "        post_scores.append(post_score)\n",
    "        post_texts.append(post_text)\n",
    "        post_authors.append(post_author)\n",
    "        \n",
    "\n",
    "    postdict = {}\n",
    "            \n",
    "    #stick in DF, could be new method but put it in here\n",
    "    \n"
   ]
  },
  {
   "cell_type": "code",
   "execution_count": null,
   "id": "188098cc-26e9-4106-b432-b849e78d0149",
   "metadata": {},
   "outputs": [],
   "source": []
  },
  {
   "cell_type": "code",
   "execution_count": null,
   "id": "bcbc86c1-fba8-45d4-897a-e8282bab8340",
   "metadata": {},
   "outputs": [],
   "source": [
    "def makepostdf(i)\n",
    "    \n",
    "    df_posts = pd.DataFrame({\n",
    "    'title': post_titles,\n",
    "    'post_num_comments': num_commentses,\n",
    "    'post_upvotes': post_upvoteses,\n",
    "    'post_id': post_ids,\n",
    "    'post_upvote_ratios':post_upvote_ratios,\n",
    "    'post_datetime':post_dates,\n",
    "    'post_score': post_scores,\n",
    "    'post_text': post_texts,\n",
    "    'post_upvote_ratio': post_upvote_ratios,\n",
    "    'post_author':post_authors\n",
    "\n",
    "    })\n",
    "\n",
    "    \n",
    "\n",
    "    \n",
    "    return df_posts"
   ]
  },
  {
   "cell_type": "code",
   "execution_count": null,
   "id": "f2df114f-ef6e-4974-951a-4575a707dba3",
   "metadata": {},
   "outputs": [],
   "source": [
    "def callcomments(i):\n",
    "    comment_authors = []\n",
    "    comment_bodies = []\n",
    "    comment_submissions = []\n",
    "    comment_upvotes = []\n",
    "    \n",
    "    for comment in post_comment_list:\n",
    "        \n",
    "        if isinstance(comment, MoreComments):\n",
    "            continue\n",
    "            comment_author = comment.author\n",
    "            comment_body = comment.body\n",
    "            comment_submission = comment.submission\n",
    "            comment_upvote = comment.score\n",
    "\n",
    "            comment_authors.append(comment_author)\n",
    "            comment_bodies.append(comment_body)\n",
    "            comment_submissions.append(comment_submission)\n",
    "            comment_upvotes.append(comment_upvote)\n",
    "        else:\n",
    "            print('comment body error')\n",
    "        break\n",
    "\n",
    "    \n",
    "    \n",
    "    \n",
    "    df_comments = pd.DataFrame({\n",
    "    'comment_author': comment_authors,\n",
    "    'comment_body': comment_bodies,\n",
    "    'comment_submission': comment_submissions,\n",
    "    'comment_upvotes': comment_upvotes\n",
    "\n",
    "\n",
    "    })"
   ]
  },
  {
   "cell_type": "code",
   "execution_count": 63,
   "id": "03a4b6fe-9c0a-41c8-ba07-f3191d1411ff",
   "metadata": {},
   "outputs": [
    {
     "name": "stdout",
     "output_type": "stream",
     "text": [
      "comment body error\n",
      "comment body error\n",
      "comment body error\n",
      "comment body error\n",
      "comment body error\n"
     ]
    }
   ],
   "source": [
    "# I know i'm \"not supposed\" to do this, but i'm doing it\n",
    "#https://stackoverflow.com/questions/13603215/using-a-loop-in-python-to-name-variables\n",
    "\n",
    "df_posts_bitcoin, df_comments_bitcoin = call(subreddits[0])\n",
    "\n",
    "df_posts_ethereum, df_comments_ethereum = call(subreddits[1])\n",
    "\n"
   ]
  },
  {
   "cell_type": "code",
   "execution_count": null,
   "id": "8c04880c-0f5a-4433-aa99-766d572cf084",
   "metadata": {},
   "outputs": [],
   "source": [
    "df_comments_ethereum.head()"
   ]
  },
  {
   "cell_type": "code",
   "execution_count": null,
   "id": "866451fb-4ecf-4aec-82d4-23a43e718d52",
   "metadata": {},
   "outputs": [],
   "source": [
    "df_posts_bitcoin.head()"
   ]
  },
  {
   "cell_type": "markdown",
   "id": "9129c9eb-c75b-4a46-a29f-7313bdaa3e32",
   "metadata": {},
   "source": []
  },
  {
   "cell_type": "markdown",
   "id": "686b3c22-25a0-4b05-92bb-ac47810191fd",
   "metadata": {},
   "source": [
    "# Date Format"
   ]
  },
  {
   "cell_type": "code",
   "execution_count": null,
   "id": "8bee128f-a77e-4a80-9065-ba3d071e169e",
   "metadata": {},
   "outputs": [],
   "source": [
    "\n",
    "def format_date(df):\n",
    "    df['post_datetime'] = pd.to_datetime(df['post_datetime'], unit = 's')\n",
    "    df['post_date'] = df['post_datetime'].dt.date\n",
    "    df['post_time'] = df['post_datetime'].dt.time\n",
    "    \n",
    "    return df"
   ]
  },
  {
   "cell_type": "code",
   "execution_count": null,
   "id": "fc99ce8f-6b4a-4f3a-93ef-6866aad14025",
   "metadata": {},
   "outputs": [],
   "source": [
    "format_date(df_posts_bitcoin)"
   ]
  },
  {
   "cell_type": "code",
   "execution_count": null,
   "id": "d643ba91-db83-40d8-b063-d1a818d2e16b",
   "metadata": {},
   "outputs": [],
   "source": [
    "df_posts_bitcoin.shape"
   ]
  },
  {
   "cell_type": "code",
   "execution_count": null,
   "id": "3665507c-843f-434d-9c6b-b8a4eb4a5e41",
   "metadata": {},
   "outputs": [],
   "source": [
    "df_comments.shape"
   ]
  },
  {
   "cell_type": "code",
   "execution_count": null,
   "id": "1200cd0b-fe91-4dc2-8d5b-e165ef07294c",
   "metadata": {},
   "outputs": [],
   "source": [
    "df_comments.head()"
   ]
  },
  {
   "cell_type": "code",
   "execution_count": null,
   "id": "b99520ad-79fe-43bd-b021-8ef0d7effdb7",
   "metadata": {},
   "outputs": [],
   "source": [
    "#df_joined = df_post.merge(df_comments, left_on='post_id', right_on='comment_submission', how='right')"
   ]
  },
  {
   "cell_type": "code",
   "execution_count": null,
   "id": "c5dbfba5-4d57-40ae-b0ed-abfa2cbc4f14",
   "metadata": {},
   "outputs": [],
   "source": [
    "#df_joined"
   ]
  },
  {
   "cell_type": "markdown",
   "id": "fb20be33-55d2-445b-b925-e6354dd38a16",
   "metadata": {},
   "source": [
    "# EDA"
   ]
  },
  {
   "cell_type": "code",
   "execution_count": null,
   "id": "1cc279cb-cffe-44bc-b624-276daa020fcc",
   "metadata": {},
   "outputs": [],
   "source": []
  },
  {
   "cell_type": "code",
   "execution_count": null,
   "id": "959c977a-5130-49e1-bd14-21e7d3f9d87b",
   "metadata": {},
   "outputs": [],
   "source": []
  },
  {
   "cell_type": "markdown",
   "id": "e8654c49-d9b4-44d3-8a38-de11f6097bae",
   "metadata": {},
   "source": [
    "# Export"
   ]
  },
  {
   "cell_type": "code",
   "execution_count": null,
   "id": "7309488a-c95f-455b-8690-9b1be4324c1f",
   "metadata": {},
   "outputs": [],
   "source": [
    "df_post.to_csv('./data/source.csv')"
   ]
  },
  {
   "cell_type": "code",
   "execution_count": null,
   "id": "80df0cc6-7d00-44bb-aef7-ff54dace7c70",
   "metadata": {},
   "outputs": [],
   "source": []
  }
 ],
 "metadata": {
  "kernelspec": {
   "display_name": "Python 3 (ipykernel)",
   "language": "python",
   "name": "python3"
  },
  "language_info": {
   "codemirror_mode": {
    "name": "ipython",
    "version": 3
   },
   "file_extension": ".py",
   "mimetype": "text/x-python",
   "name": "python",
   "nbconvert_exporter": "python",
   "pygments_lexer": "ipython3",
   "version": "3.9.12"
  }
 },
 "nbformat": 4,
 "nbformat_minor": 5
}
