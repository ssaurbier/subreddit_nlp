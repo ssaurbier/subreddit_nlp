{
 "cells": [
  {
   "cell_type": "code",
   "execution_count": 435,
   "id": "26c8c700-69eb-476f-bc9d-27b0844d4ecc",
   "metadata": {},
   "outputs": [],
   "source": [
    "import pandas as pd\n",
    "import numpy as np\n",
    "from sklearn.model_selection import train_test_split, GridSearchCV, RandomizedSearchCV\n",
    "from sklearn.pipeline import Pipeline\n",
    "from sklearn.feature_extraction.text import CountVectorizer, TfidfVectorizer\n",
    "from sklearn.naive_bayes import MultinomialNB\n",
    "from sklearn.linear_model import LogisticRegression\n",
    "from sklearn.metrics import (confusion_matrix, ConfusionMatrixDisplay,\n",
    "    accuracy_score, roc_auc_score, recall_score,\n",
    "    precision_score, f1_score, RocCurveDisplay)\n",
    "from imblearn.metrics import specificity_score\n",
    "\n",
    "from nltk.stem import WordNetLemmatizer\n",
    "from nltk.corpus import stopwords\n",
    "import re\n",
    "\n",
    "\n",
    "\n",
    "from sklearn.neighbors import KNeighborsClassifier\n",
    "from sklearn.preprocessing import StandardScaler\n",
    "\n",
    "from sklearn.ensemble import StackingClassifier, RandomForestClassifier, GradientBoostingClassifier, BaggingClassifier\n",
    "\n",
    "\n",
    "\n",
    "import matplotlib.pyplot as plt\n"
   ]
  },
  {
   "cell_type": "code",
   "execution_count": 412,
   "id": "981011e9-558a-4aea-a2b4-981e641e43ee",
   "metadata": {},
   "outputs": [
    {
     "data": {
      "text/html": [
       "<div>\n",
       "<style scoped>\n",
       "    .dataframe tbody tr th:only-of-type {\n",
       "        vertical-align: middle;\n",
       "    }\n",
       "\n",
       "    .dataframe tbody tr th {\n",
       "        vertical-align: top;\n",
       "    }\n",
       "\n",
       "    .dataframe thead th {\n",
       "        text-align: right;\n",
       "    }\n",
       "</style>\n",
       "<table border=\"1\" class=\"dataframe\">\n",
       "  <thead>\n",
       "    <tr style=\"text-align: right;\">\n",
       "      <th></th>\n",
       "      <th>subreddit</th>\n",
       "      <th>text</th>\n",
       "    </tr>\n",
       "  </thead>\n",
       "  <tbody>\n",
       "    <tr>\n",
       "      <th>0</th>\n",
       "      <td>0</td>\n",
       "      <td>cost of moving bitcoin off an exchange i decid...</td>\n",
       "    </tr>\n",
       "    <tr>\n",
       "      <th>1</th>\n",
       "      <td>0</td>\n",
       "      <td>the new financial system is closer to fruition...</td>\n",
       "    </tr>\n",
       "  </tbody>\n",
       "</table>\n",
       "</div>"
      ],
      "text/plain": [
       "   subreddit                                               text\n",
       "0          0  cost of moving bitcoin off an exchange i decid...\n",
       "1          0  the new financial system is closer to fruition..."
      ]
     },
     "execution_count": 412,
     "metadata": {},
     "output_type": "execute_result"
    }
   ],
   "source": [
    "df_selftext = pd.read_csv('../data/cleaned_selftext.csv')\n",
    "df_notext = pd.read_csv('../data/cleaned_notext.csv')\n",
    "df_selftext.head(2)"
   ]
  },
  {
   "cell_type": "code",
   "execution_count": 413,
   "id": "5ab056b0-14e2-4203-9d9a-d0043cc0dc99",
   "metadata": {},
   "outputs": [
    {
     "name": "stdout",
     "output_type": "stream",
     "text": [
      "0    2846\n",
      "1     748\n",
      "Name: subreddit, dtype: int64\n"
     ]
    },
    {
     "data": {
      "text/plain": [
       "0    7038\n",
       "1    1981\n",
       "Name: subreddit, dtype: int64"
      ]
     },
     "execution_count": 413,
     "metadata": {},
     "output_type": "execute_result"
    }
   ],
   "source": [
    "print(df_selftext.subreddit.value_counts())\n",
    "df_notext.subreddit.value_counts()"
   ]
  },
  {
   "cell_type": "markdown",
   "id": "fd1b1d92-3bda-436a-b72d-d793579a6ae6",
   "metadata": {},
   "source": [
    "# Adding stop words to not make it too easy"
   ]
  },
  {
   "cell_type": "code",
   "execution_count": 414,
   "id": "61d99e0f-41dd-481e-944c-9e2463e4e429",
   "metadata": {},
   "outputs": [],
   "source": [
    "stop = list(stopwords.words('english'))\n",
    "stop.extend('btc eth bitcoin ethereum lightning vitalik wa ha amp text would get llet like nt know one use think http'.split())\n"
   ]
  },
  {
   "cell_type": "markdown",
   "id": "f6da16c5-29d2-4864-9d15-af9c9bb16bec",
   "metadata": {},
   "source": [
    "# Model"
   ]
  },
  {
   "cell_type": "code",
   "execution_count": 415,
   "id": "8552c791-8e62-481f-a684-7287bcde817a",
   "metadata": {},
   "outputs": [],
   "source": [
    "X = df_selftext.text\n",
    "y = df_selftext.subreddit"
   ]
  },
  {
   "cell_type": "code",
   "execution_count": 416,
   "id": "2a70c302-0e55-4339-8d17-af0b2959cada",
   "metadata": {},
   "outputs": [
    {
     "data": {
      "text/plain": [
       "0    0.791875\n",
       "1    0.208125\n",
       "Name: subreddit, dtype: float64"
      ]
     },
     "execution_count": 416,
     "metadata": {},
     "output_type": "execute_result"
    }
   ],
   "source": [
    "y.value_counts(normalize=True)"
   ]
  },
  {
   "cell_type": "code",
   "execution_count": 417,
   "id": "55061841-2e4b-4118-bd78-f0cbdf322687",
   "metadata": {},
   "outputs": [],
   "source": [
    "X_train, X_test, y_train, y_test = train_test_split(X,\n",
    "                                                    y,\n",
    "                                                    stratify=y,\n",
    "                                                    random_state=42)"
   ]
  },
  {
   "cell_type": "code",
   "execution_count": null,
   "id": "2e8c8136-b6d4-402d-8e22-c721e00ac597",
   "metadata": {},
   "outputs": [],
   "source": []
  },
  {
   "cell_type": "code",
   "execution_count": 418,
   "id": "ee29da9c-880d-4b49-8d59-c9e6feee1e06",
   "metadata": {},
   "outputs": [],
   "source": [
    "# Pipeline accepts multiple transformers, but only one vectorizer. See cgpt results:\n",
    "\n",
    "'''The error message is caused by the fact that you are trying to fit two different vectorizers (TfidfVectorizer and CountVectorizer) \n",
    "in the same pipeline, but only providing one input (X_train) to the pipeline. This is causing the pipeline to raise an error as it doesn't \n",
    "know which vectorizer to apply to the input. \n",
    "\n",
    "You can fix this by either removing one of the vectorizers or providing separate inputs to the pipeline for each vectorizer.'''\n",
    "\n",
    "\n",
    "nb_pipe = Pipeline([\n",
    "    ('tvec', TfidfVectorizer()),\n",
    "    #('cvec', CountVectorizer()),\n",
    "    ('nb', MultinomialNB())\n",
    "])"
   ]
  },
  {
   "cell_type": "code",
   "execution_count": 419,
   "id": "d3f71c4c-3fe4-40e6-93a7-10a3ba650c95",
   "metadata": {},
   "outputs": [],
   "source": [
    "nb_pipe_params = {\n",
    "    'tvec__max_features': range(600,800,5),\n",
    "    'tvec__stop_words': [stop],\n",
    "    'tvec__ngram_range': [(1,1), (1,2), (1,3),(2,3),(3,3)],\n",
    "    'nb__alpha': [.01, .05, .1, .25, .5, .1]\n",
    "    #'cvec__max_features': range(2500, 3500, 100),\n",
    "    #'cvec__min_df': range(1,5),\n",
    "    #'cvec__max_df': [i/100 for i in range(0, 100, 5)],\n",
    "    #'cvec__ngram_range': [(1,1),(1, 2), (1,3)]\n",
    "}"
   ]
  },
  {
   "cell_type": "code",
   "execution_count": 420,
   "id": "91d2879f-9997-4d7d-a96a-0e05a85d24eb",
   "metadata": {},
   "outputs": [],
   "source": [
    "rs = RandomizedSearchCV(nb_pipe, \n",
    "                  nb_pipe_params, \n",
    "                    cv = 5) "
   ]
  },
  {
   "cell_type": "code",
   "execution_count": 421,
   "id": "4b235a3f-2298-46e5-b1b0-b3195af7bb42",
   "metadata": {},
   "outputs": [
    {
     "data": {
      "text/plain": [
       "RandomizedSearchCV(cv=5,\n",
       "                   estimator=Pipeline(steps=[('tvec', TfidfVectorizer()),\n",
       "                                             ('nb', MultinomialNB())]),\n",
       "                   param_distributions={'nb__alpha': [0.01, 0.05, 0.1, 0.25,\n",
       "                                                      0.5, 0.1],\n",
       "                                        'tvec__max_features': range(600, 800, 5),\n",
       "                                        'tvec__ngram_range': [(1, 1), (1, 2),\n",
       "                                                              (1, 3), (2, 3),\n",
       "                                                              (3, 3)],\n",
       "                                        'tvec__stop_words': [['i', 'me', 'my',\n",
       "                                                              'myself', 'we',\n",
       "                                                              'our', 'ours',\n",
       "                                                              'ourselves',\n",
       "                                                              'you', \"you're\",\n",
       "                                                              \"you've\",\n",
       "                                                              \"you'll\", \"you'd\",\n",
       "                                                              'your', 'yours',\n",
       "                                                              'yourself',\n",
       "                                                              'yourselves',\n",
       "                                                              'he', 'him',\n",
       "                                                              'his', 'himself',\n",
       "                                                              'she', \"she's\",\n",
       "                                                              'her', 'hers',\n",
       "                                                              'herself', 'it',\n",
       "                                                              \"it's\", 'its',\n",
       "                                                              'itself', ...]]})"
      ]
     },
     "execution_count": 421,
     "metadata": {},
     "output_type": "execute_result"
    }
   ],
   "source": [
    "rs.fit(X_train, y_train)"
   ]
  },
  {
   "cell_type": "code",
   "execution_count": 422,
   "id": "022dd732-db57-4cb1-86a0-f75833b394fe",
   "metadata": {},
   "outputs": [
    {
     "name": "stdout",
     "output_type": "stream",
     "text": [
      "0.8879406307977736\n"
     ]
    },
    {
     "data": {
      "text/plain": [
       "0.8698553948832035"
      ]
     },
     "execution_count": 422,
     "metadata": {},
     "output_type": "execute_result"
    }
   ],
   "source": [
    "#using all stopwords lowers scores to 0.8823747680890538 / 0.8654060066740823\n",
    "\n",
    "print(rs.score(X_train, y_train))\n",
    "rs.score(X_test, y_test)"
   ]
  },
  {
   "cell_type": "code",
   "execution_count": 423,
   "id": "883d8055-0e54-4203-a3f8-225b5cc95301",
   "metadata": {},
   "outputs": [
    {
     "data": {
      "text/plain": [
       "{'tvec__stop_words': ['i',\n",
       "  'me',\n",
       "  'my',\n",
       "  'myself',\n",
       "  'we',\n",
       "  'our',\n",
       "  'ours',\n",
       "  'ourselves',\n",
       "  'you',\n",
       "  \"you're\",\n",
       "  \"you've\",\n",
       "  \"you'll\",\n",
       "  \"you'd\",\n",
       "  'your',\n",
       "  'yours',\n",
       "  'yourself',\n",
       "  'yourselves',\n",
       "  'he',\n",
       "  'him',\n",
       "  'his',\n",
       "  'himself',\n",
       "  'she',\n",
       "  \"she's\",\n",
       "  'her',\n",
       "  'hers',\n",
       "  'herself',\n",
       "  'it',\n",
       "  \"it's\",\n",
       "  'its',\n",
       "  'itself',\n",
       "  'they',\n",
       "  'them',\n",
       "  'their',\n",
       "  'theirs',\n",
       "  'themselves',\n",
       "  'what',\n",
       "  'which',\n",
       "  'who',\n",
       "  'whom',\n",
       "  'this',\n",
       "  'that',\n",
       "  \"that'll\",\n",
       "  'these',\n",
       "  'those',\n",
       "  'am',\n",
       "  'is',\n",
       "  'are',\n",
       "  'was',\n",
       "  'were',\n",
       "  'be',\n",
       "  'been',\n",
       "  'being',\n",
       "  'have',\n",
       "  'has',\n",
       "  'had',\n",
       "  'having',\n",
       "  'do',\n",
       "  'does',\n",
       "  'did',\n",
       "  'doing',\n",
       "  'a',\n",
       "  'an',\n",
       "  'the',\n",
       "  'and',\n",
       "  'but',\n",
       "  'if',\n",
       "  'or',\n",
       "  'because',\n",
       "  'as',\n",
       "  'until',\n",
       "  'while',\n",
       "  'of',\n",
       "  'at',\n",
       "  'by',\n",
       "  'for',\n",
       "  'with',\n",
       "  'about',\n",
       "  'against',\n",
       "  'between',\n",
       "  'into',\n",
       "  'through',\n",
       "  'during',\n",
       "  'before',\n",
       "  'after',\n",
       "  'above',\n",
       "  'below',\n",
       "  'to',\n",
       "  'from',\n",
       "  'up',\n",
       "  'down',\n",
       "  'in',\n",
       "  'out',\n",
       "  'on',\n",
       "  'off',\n",
       "  'over',\n",
       "  'under',\n",
       "  'again',\n",
       "  'further',\n",
       "  'then',\n",
       "  'once',\n",
       "  'here',\n",
       "  'there',\n",
       "  'when',\n",
       "  'where',\n",
       "  'why',\n",
       "  'how',\n",
       "  'all',\n",
       "  'any',\n",
       "  'both',\n",
       "  'each',\n",
       "  'few',\n",
       "  'more',\n",
       "  'most',\n",
       "  'other',\n",
       "  'some',\n",
       "  'such',\n",
       "  'no',\n",
       "  'nor',\n",
       "  'not',\n",
       "  'only',\n",
       "  'own',\n",
       "  'same',\n",
       "  'so',\n",
       "  'than',\n",
       "  'too',\n",
       "  'very',\n",
       "  's',\n",
       "  't',\n",
       "  'can',\n",
       "  'will',\n",
       "  'just',\n",
       "  'don',\n",
       "  \"don't\",\n",
       "  'should',\n",
       "  \"should've\",\n",
       "  'now',\n",
       "  'd',\n",
       "  'll',\n",
       "  'm',\n",
       "  'o',\n",
       "  're',\n",
       "  've',\n",
       "  'y',\n",
       "  'ain',\n",
       "  'aren',\n",
       "  \"aren't\",\n",
       "  'couldn',\n",
       "  \"couldn't\",\n",
       "  'didn',\n",
       "  \"didn't\",\n",
       "  'doesn',\n",
       "  \"doesn't\",\n",
       "  'hadn',\n",
       "  \"hadn't\",\n",
       "  'hasn',\n",
       "  \"hasn't\",\n",
       "  'haven',\n",
       "  \"haven't\",\n",
       "  'isn',\n",
       "  \"isn't\",\n",
       "  'ma',\n",
       "  'mightn',\n",
       "  \"mightn't\",\n",
       "  'mustn',\n",
       "  \"mustn't\",\n",
       "  'needn',\n",
       "  \"needn't\",\n",
       "  'shan',\n",
       "  \"shan't\",\n",
       "  'shouldn',\n",
       "  \"shouldn't\",\n",
       "  'wasn',\n",
       "  \"wasn't\",\n",
       "  'weren',\n",
       "  \"weren't\",\n",
       "  'won',\n",
       "  \"won't\",\n",
       "  'wouldn',\n",
       "  \"wouldn't\",\n",
       "  'btc',\n",
       "  'eth',\n",
       "  'bitcoin',\n",
       "  'ethereum',\n",
       "  'lightning',\n",
       "  'vitalik',\n",
       "  'wa',\n",
       "  'ha',\n",
       "  'amp',\n",
       "  'text',\n",
       "  'would',\n",
       "  'get',\n",
       "  'llet',\n",
       "  'like',\n",
       "  'nt',\n",
       "  'know',\n",
       "  'one',\n",
       "  'use',\n",
       "  'think',\n",
       "  'http'],\n",
       " 'tvec__ngram_range': (1, 2),\n",
       " 'tvec__max_features': 775,\n",
       " 'nb__alpha': 0.01}"
      ]
     },
     "execution_count": 423,
     "metadata": {},
     "output_type": "execute_result"
    }
   ],
   "source": [
    "rs.best_params_"
   ]
  },
  {
   "cell_type": "code",
   "execution_count": 424,
   "id": "945dc49b-fad5-4bbe-82cc-b4682a47d6fe",
   "metadata": {},
   "outputs": [
    {
     "data": {
      "text/plain": [
       "0.8698553948832035"
      ]
     },
     "execution_count": 424,
     "metadata": {},
     "output_type": "execute_result"
    }
   ],
   "source": [
    "rs.score(X_test, y_test)"
   ]
  },
  {
   "cell_type": "code",
   "execution_count": 425,
   "id": "cb5cdfb7-2e92-4737-9d89-e95376019568",
   "metadata": {},
   "outputs": [],
   "source": [
    "preds = rs.predict(X_test)"
   ]
  },
  {
   "cell_type": "code",
   "execution_count": 426,
   "id": "948f87a2-ad5f-4bbd-b490-e3d60e1252a0",
   "metadata": {},
   "outputs": [
    {
     "data": {
      "image/png": "[encoded data removed]",
      "text/plain": [
       "<Figure size 640x480 with 2 Axes>"
      ]
     },
     "metadata": {},
     "output_type": "display_data"
    }
   ],
   "source": [
    "cm = confusion_matrix(y_test, preds)\n",
    "\n",
    "display = ConfusionMatrixDisplay(confusion_matrix = cm,\n",
    "                             display_labels = rs.classes_)\n",
    "\n",
    "display.plot();"
   ]
  },
  {
   "cell_type": "code",
   "execution_count": 427,
   "id": "ff26a2d1-3467-466d-b6d8-6d0e88ae30aa",
   "metadata": {},
   "outputs": [
    {
     "data": {
      "image/png": "[encoded data removed]",
      "text/plain": [
       "<Figure size 640x480 with 1 Axes>"
      ]
     },
     "metadata": {},
     "output_type": "display_data"
    }
   ],
   "source": [
    "# Basic ROC\n",
    "\n",
    "# cf ROC\n",
    "# create an ax object\n",
    "ax = plt.gca()\n",
    "\n",
    "# use RocCurveDisplay for both estimators\n",
    "RocCurveDisplay.from_estimator(rs, X_test, y_test, ax=ax, name='logistic regression')\n",
    "\n",
    "# add 'worst case scenario' line\n",
    "plt.plot([0,1], [0,1], label='null hypothesis/mean', linestyle='--', color='gray')\n",
    "\n",
    "# necessary to label the baseline\n",
    "plt.legend();"
   ]
  },
  {
   "cell_type": "code",
   "execution_count": 428,
   "id": "8f8d17ab-6c5c-4a12-8ad6-3699cced8f90",
   "metadata": {},
   "outputs": [
    {
     "data": {
      "text/html": [
       "<div>\n",
       "<style scoped>\n",
       "    .dataframe tbody tr th:only-of-type {\n",
       "        vertical-align: middle;\n",
       "    }\n",
       "\n",
       "    .dataframe tbody tr th {\n",
       "        vertical-align: top;\n",
       "    }\n",
       "\n",
       "    .dataframe thead th {\n",
       "        text-align: right;\n",
       "    }\n",
       "</style>\n",
       "<table border=\"1\" class=\"dataframe\">\n",
       "  <thead>\n",
       "    <tr style=\"text-align: right;\">\n",
       "      <th></th>\n",
       "      <th>bitcoin</th>\n",
       "      <th>ethereum</th>\n",
       "      <th>true_values</th>\n",
       "    </tr>\n",
       "  </thead>\n",
       "  <tbody>\n",
       "    <tr>\n",
       "      <th>0</th>\n",
       "      <td>0.676732</td>\n",
       "      <td>0.323268</td>\n",
       "      <td>0</td>\n",
       "    </tr>\n",
       "    <tr>\n",
       "      <th>1</th>\n",
       "      <td>0.939399</td>\n",
       "      <td>0.060601</td>\n",
       "      <td>0</td>\n",
       "    </tr>\n",
       "    <tr>\n",
       "      <th>2</th>\n",
       "      <td>0.900003</td>\n",
       "      <td>0.099997</td>\n",
       "      <td>0</td>\n",
       "    </tr>\n",
       "    <tr>\n",
       "      <th>3</th>\n",
       "      <td>0.186423</td>\n",
       "      <td>0.813577</td>\n",
       "      <td>1</td>\n",
       "    </tr>\n",
       "    <tr>\n",
       "      <th>4</th>\n",
       "      <td>0.979752</td>\n",
       "      <td>0.020248</td>\n",
       "      <td>0</td>\n",
       "    </tr>\n",
       "  </tbody>\n",
       "</table>\n",
       "</div>"
      ],
      "text/plain": [
       "    bitcoin  ethereum  true_values\n",
       "0  0.676732  0.323268            0\n",
       "1  0.939399  0.060601            0\n",
       "2  0.900003  0.099997            0\n",
       "3  0.186423  0.813577            1\n",
       "4  0.979752  0.020248            0"
      ]
     },
     "execution_count": 428,
     "metadata": {},
     "output_type": "execute_result"
    }
   ],
   "source": [
    "pred_df = pd.DataFrame(rs.predict_proba(X_test),columns=['bitcoin', 'ethereum'])\n",
    "\n",
    "pred_df['true_values'] = y_test.values\n",
    "\n",
    "pred_df.head()\n"
   ]
  },
  {
   "cell_type": "code",
   "execution_count": 429,
   "id": "cff65f21-f104-41ec-aebd-64588a6a0951",
   "metadata": {},
   "outputs": [],
   "source": [
    "bitcoinish_indexes = pred_df.loc[(pred_df['ethereum'] > .5) & (pred_df.true_values == 0)].index.values.astype(int)"
   ]
  },
  {
   "cell_type": "code",
   "execution_count": 430,
   "id": "2fede62f-836a-4f79-bd5c-a1252e6ab56d",
   "metadata": {},
   "outputs": [
    {
     "name": "stdout",
     "output_type": "stream",
     "text": [
      "what's the best investment plan for bitcoin just buy and hodl or sell every high and buy in every low \n",
      "\n",
      "bitcoin rationality and god i have a with a few bitcoin in it today i learned that there is an extremely small chance that some in my lifetime and at any time during my lifetime this second or year from now could accideally or forcibly get io my a i meid the chance of that is extremely small suppose winning the jackpot twice in a row btw i didn't cou this probability i made it up reddit mathematician be understanding in any case the very realization that bitcoins in an accou are not a certain thing is strange to me on the hand it would be unreasonable to defend against this risk for emple by diversifying private key and on the other hand there is alys a chance that some person will pay this tax on the existence of god and never find out about it i accept this but i am curious how do you guy deal with it \n",
      "\n",
      "help with decision on invest all in btc after canceling apartment purchase i hope this post find you well i recely had to cancel the purchase of an apartme and now i find myself with a significa amou of my that i had set aside for the purchase i am now unsure of what to do with this my and would greatly appreciate your help and advice i have been considering various option such a saving or investing the my using it to purchase another property paying off debt or even taking a vacation or planning a fun trip but i believe a lot in btc and i for my situation m without child is a good investme in the long term i'm not sure which would be the best fit for me a my curre financial situation is ok and i work a an engineer i would be grateful if you could offer some guidance on what to do with this my and how to make the most of it thank you in advance for your help \n",
      "\n",
      "any idea about the credibility of this site any idea about the credibility of this site for algorithmic trading of bitcoins is this site under maiainance \n",
      "\n",
      "cyber warfare what effect would overt cyber rfare between nation have on bitcoin targeting communication network iernet server etc would it survive and coinue in a limited capacity or would it pa uil conflict settle \n",
      "\n",
      "how can i safely dca into btc hi all i have reached the poi where i am ready to start my dca io btc i am looking for advice recommendation on how to technically go about doing that in a y where the below criterion is considdered my bank accou which will be funding the dca is outside of the u and the transfer will be in usd this mean i am subject to bank transfer fee on all transaction i a few bank transfer a possible i to dca usd every week i would prefer a solution where i do not have a large stack of usd or equivale stablecoin idling on an exchange i prefer binance or kraken if the acquisition will be through exchange i t mind having to transfer the crypto to self custody on a weekly basis i t mind having to initiate the dca manually on a weekly basis looking for any advise recommendation remark or suggestion on the topic thanks \n",
      "\n",
      "getting rich in a market that over time go up is easy this is how to buy dip t try to sell top of them that s this strategy are in good profit over time of those who loses some other stratetgy why make it hard really why \n",
      "\n",
      "we need this bear market bitcoin isn't ready for mass adoption yet we still need to build out ln and aim to make most s compatible with each other basically push for bips bip to be added to all s where possible \n",
      "\n"
     ]
    }
   ],
   "source": [
    "for i in df_selftext.iloc[bitcoinish_indexes].text:\n",
    "    print(i,'\\n')"
   ]
  },
  {
   "cell_type": "code",
   "execution_count": null,
   "id": "f3cc5994-b515-4381-8387-803eb39181c5",
   "metadata": {},
   "outputs": [],
   "source": []
  },
  {
   "cell_type": "code",
   "execution_count": 431,
   "id": "96c2cd69-06e8-4262-9c71-d57e4d98d4c8",
   "metadata": {},
   "outputs": [],
   "source": [
    "#notes\n",
    "def class_from_prob(probabilities, threshold):\n",
    "\n",
    "    return [0 if prob < threshold else 1 for prob in probabilities]\n"
   ]
  },
  {
   "cell_type": "code",
   "execution_count": 432,
   "id": "582af7b7-4a7a-4dc4-adb5-d4d4b77ef6b4",
   "metadata": {},
   "outputs": [],
   "source": [
    "threshold_list = [round(i*.01,2) for i in range(0,101,)]\n",
    "speclist = []\n",
    "senslist = []\n",
    "f1list = []\n",
    "\n",
    "for threshold in threshold_list:\n",
    "    predicted_classes = class_from_prob(pred_df['bitcoin'], threshold)\n",
    "    spec = specificity_score(y_test, predicted_classes)\n",
    "    sens = recall_score(y_test, predicted_classes, pos_label=1)\n",
    "    speclist.append(spec)\n",
    "    senslist.append(sens)\n",
    "    F1 = f1_score(y_test, predicted_classes)\n",
    "    f1list.append(F1)"
   ]
  },
  {
   "cell_type": "code",
   "execution_count": 433,
   "id": "0e2ec108-7b8d-4688-9104-d581ac83b484",
   "metadata": {},
   "outputs": [
    {
     "data": {
      "image/png": "[encoded data removed]",
      "text/plain": [
       "<Figure size 1000x500 with 1 Axes>"
      ]
     },
     "metadata": {},
     "output_type": "display_data"
    },
    {
     "data": {
      "text/plain": [
       "<Figure size 640x480 with 0 Axes>"
      ]
     },
     "metadata": {},
     "output_type": "display_data"
    }
   ],
   "source": [
    "%matplotlib inline\n",
    "fig = plt.figure(figsize = (10,5));\n",
    "ax1 = fig.add_subplot(111);\n",
    "\n",
    "ax1.scatter(x = threshold_list, y = speclist, s=10, c='b', marker=\"s\", label='specificity');\n",
    "ax1.scatter(x = threshold_list,y = senslist, s=10, c='r', marker=\"o\", label='sensitivity');\n",
    "ax1.scatter(x = threshold_list,y = f1list, s=10, c='g', marker=\"o\", label='F1 score');\n",
    "plt.legend(loc='upper left')\n",
    "plt.xlabel('Threshold');\n",
    "plt.ylabel('Score Value');\n",
    "plt.show();\n",
    "plt.tight_layout();\n"
   ]
  },
  {
   "cell_type": "code",
   "execution_count": null,
   "id": "18ff45ba-3ee7-4358-b44f-6aa7438abd05",
   "metadata": {},
   "outputs": [],
   "source": []
  },
  {
   "cell_type": "code",
   "execution_count": null,
   "id": "cb6f9792-29e7-4394-8501-23593a4b907c",
   "metadata": {},
   "outputs": [],
   "source": []
  },
  {
   "cell_type": "code",
   "execution_count": null,
   "id": "3d7a492e-3f37-4c40-9b34-5cfb9182ee43",
   "metadata": {},
   "outputs": [],
   "source": []
  },
  {
   "cell_type": "code",
   "execution_count": null,
   "id": "0c44811b-49d2-425e-9c02-c1356b0ba716",
   "metadata": {},
   "outputs": [],
   "source": []
  },
  {
   "cell_type": "code",
   "execution_count": null,
   "id": "75e1212a-7a82-4bf4-ad1f-ab70f4091bc6",
   "metadata": {},
   "outputs": [],
   "source": []
  },
  {
   "cell_type": "code",
   "execution_count": null,
   "id": "df16bebb-fdee-4cab-93e0-dc0aa519e6e8",
   "metadata": {},
   "outputs": [],
   "source": []
  }
 ],
 "metadata": {
  "kernelspec": {
   "display_name": "Python 3 (ipykernel)",
   "language": "python",
   "name": "python3"
  },
  "language_info": {
   "codemirror_mode": {
    "name": "ipython",
    "version": 3
   },
   "file_extension": ".py",
   "mimetype": "text/x-python",
   "name": "python",
   "nbconvert_exporter": "python",
   "pygments_lexer": "ipython3",
   "version": "3.9.12"
  }
 },
 "nbformat": 4,
 "nbformat_minor": 5
}
