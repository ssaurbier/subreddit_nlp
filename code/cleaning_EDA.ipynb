{
 "cells": [
  {
   "cell_type": "code",
   "execution_count": 214,
   "id": "f95056ce-9fca-49f1-9514-a67dd3ca0613",
   "metadata": {},
   "outputs": [],
   "source": [
    "import pandas as pd\n",
    "import numpy as np\n",
    "from nltk.stem import WordNetLemmatizer\n",
    "from nltk.tokenize import sent_tokenize, word_tokenize, RegexpTokenizer, WhitespaceTokenizer\n",
    "from nltk.corpus import stopwords\n",
    "\n",
    "import re"
   ]
  },
  {
   "cell_type": "code",
   "execution_count": 215,
   "id": "3513bdc1-11c5-4f66-a47a-95c5a5b8f151",
   "metadata": {},
   "outputs": [],
   "source": [
    "df = pd.read_csv('../data/source.csv')"
   ]
  },
  {
   "cell_type": "code",
   "execution_count": 216,
   "id": "e9cd6795-e44b-49d6-ba92-ed883c07641e",
   "metadata": {},
   "outputs": [
    {
     "name": "stdout",
     "output_type": "stream",
     "text": [
      "<class 'pandas.core.frame.DataFrame'>\n",
      "RangeIndex: 3496 entries, 0 to 3495\n",
      "Data columns (total 13 columns):\n",
      " #   Column         Non-Null Count  Dtype  \n",
      "---  ------         --------------  -----  \n",
      " 0   subreddit      3496 non-null   object \n",
      " 1   selftext       3496 non-null   object \n",
      " 2   title          3495 non-null   object \n",
      " 3   upvote_ratio   3496 non-null   float64\n",
      " 4   score          3496 non-null   int64  \n",
      " 5   id             3496 non-null   object \n",
      " 6   author         3496 non-null   object \n",
      " 7   num_comments   3496 non-null   int64  \n",
      " 8   created_utc    3496 non-null   object \n",
      " 9   retrieved_utc  3496 non-null   int64  \n",
      " 10  updated_utc    3496 non-null   int64  \n",
      " 11  post_date      3496 non-null   object \n",
      " 12  post_time      3496 non-null   object \n",
      "dtypes: float64(1), int64(4), object(8)\n",
      "memory usage: 355.2+ KB\n"
     ]
    }
   ],
   "source": [
    "df.info()"
   ]
  },
  {
   "cell_type": "markdown",
   "id": "3acd16c4-1012-4ffa-b1fa-f338f56b84eb",
   "metadata": {},
   "source": [
    "# target"
   ]
  },
  {
   "cell_type": "code",
   "execution_count": 217,
   "id": "b718effc-e47c-43c6-91cf-6768e01ce2f5",
   "metadata": {},
   "outputs": [
    {
     "data": {
      "text/html": [
       "<div>\n",
       "<style scoped>\n",
       "    .dataframe tbody tr th:only-of-type {\n",
       "        vertical-align: middle;\n",
       "    }\n",
       "\n",
       "    .dataframe tbody tr th {\n",
       "        vertical-align: top;\n",
       "    }\n",
       "\n",
       "    .dataframe thead th {\n",
       "        text-align: right;\n",
       "    }\n",
       "</style>\n",
       "<table border=\"1\" class=\"dataframe\">\n",
       "  <thead>\n",
       "    <tr style=\"text-align: right;\">\n",
       "      <th></th>\n",
       "      <th>subreddit</th>\n",
       "      <th>selftext</th>\n",
       "      <th>title</th>\n",
       "      <th>upvote_ratio</th>\n",
       "      <th>score</th>\n",
       "      <th>id</th>\n",
       "      <th>author</th>\n",
       "      <th>num_comments</th>\n",
       "      <th>created_utc</th>\n",
       "      <th>retrieved_utc</th>\n",
       "      <th>updated_utc</th>\n",
       "      <th>post_date</th>\n",
       "      <th>post_time</th>\n",
       "    </tr>\n",
       "  </thead>\n",
       "  <tbody>\n",
       "    <tr>\n",
       "      <th>0</th>\n",
       "      <td>0</td>\n",
       "      <td>you're only going to get hurt when this ends</td>\n",
       "      <td>i mean this in the kindest way possible can ev...</td>\n",
       "      <td>1.0</td>\n",
       "      <td>1</td>\n",
       "      <td>10bvjbg</td>\n",
       "      <td>rolo951</td>\n",
       "      <td>0</td>\n",
       "      <td>2023-01-14 18:29:08</td>\n",
       "      <td>1673720964</td>\n",
       "      <td>1673720964</td>\n",
       "      <td>2023-01-14</td>\n",
       "      <td>18:29:08</td>\n",
       "    </tr>\n",
       "    <tr>\n",
       "      <th>1</th>\n",
       "      <td>0</td>\n",
       "      <td>what was your fuck it i'm into this moment for...</td>\n",
       "      <td>all in</td>\n",
       "      <td>1.0</td>\n",
       "      <td>1</td>\n",
       "      <td>10bur6i</td>\n",
       "      <td>soliton-gaydar</td>\n",
       "      <td>0</td>\n",
       "      <td>2023-01-14 17:58:04</td>\n",
       "      <td>1673719099</td>\n",
       "      <td>1673719099</td>\n",
       "      <td>2023-01-14</td>\n",
       "      <td>17:58:04</td>\n",
       "    </tr>\n",
       "  </tbody>\n",
       "</table>\n",
       "</div>"
      ],
      "text/plain": [
       "   subreddit                                           selftext  \\\n",
       "0          0       you're only going to get hurt when this ends   \n",
       "1          0  what was your fuck it i'm into this moment for...   \n",
       "\n",
       "                                               title  upvote_ratio  score  \\\n",
       "0  i mean this in the kindest way possible can ev...           1.0      1   \n",
       "1                                             all in           1.0      1   \n",
       "\n",
       "        id          author  num_comments          created_utc  retrieved_utc  \\\n",
       "0  10bvjbg         rolo951             0  2023-01-14 18:29:08     1673720964   \n",
       "1  10bur6i  soliton-gaydar             0  2023-01-14 17:58:04     1673719099   \n",
       "\n",
       "   updated_utc   post_date post_time  \n",
       "0   1673720964  2023-01-14  18:29:08  \n",
       "1   1673719099  2023-01-14  17:58:04  "
      ]
     },
     "execution_count": 217,
     "metadata": {},
     "output_type": "execute_result"
    }
   ],
   "source": [
    "df['subreddit'] = df.subreddit.apply(lambda x: 1 if x == 'Bitcoin' else 0)\n",
    "df.head(2)"
   ]
  },
  {
   "cell_type": "code",
   "execution_count": 218,
   "id": "e4210c1d-53e8-4d54-84be-85c8e927d1c0",
   "metadata": {},
   "outputs": [],
   "source": [
    "#df.loc[df['title'] == '']\n",
    "# no blanks"
   ]
  },
  {
   "cell_type": "markdown",
   "id": "9a05e13f-5f8c-489d-8697-6b336b7f1870",
   "metadata": {},
   "source": [
    "# Eda, cleanup via tokenization / lemmatization"
   ]
  },
  {
   "cell_type": "code",
   "execution_count": null,
   "id": "f3c76b3a-da46-4189-b204-fbeddb8f7ee0",
   "metadata": {},
   "outputs": [],
   "source": []
  },
  {
   "cell_type": "code",
   "execution_count": 219,
   "id": "7fe8e921-9c60-47bc-afb9-404bfb0ca22e",
   "metadata": {},
   "outputs": [],
   "source": [
    "#https://stackoverflow.com/questions/61987040/how-to-lemmatise-a-dataframe-column-python\n",
    "# https://stackoverflow.com/questions/47557563/lemmatization-of-all-pandas-cells\n",
    "\n",
    "# could get very into lemmatization alone as all this is quite frustrating: https://stackoverflow.com/questions/25534214/nltk-wordnet-lemmatizer-shouldnt-it-lemmatize-all-inflections-of-a-word\n",
    "# as an aside, spoke with patrick burns about the http://cltk.org/ project, as i  was scraping and parsing catullus manually until i found cltk via lemmatization.\n",
    "# he specificically is working on this library for latin to tag part of speech with training to improve lemmatization https://github.com/diyclassics/la_dep_cltk_sm\n",
    "\n",
    "tokenizer = WhitespaceTokenizer()\n",
    "lemmatizer = WordNetLemmatizer()"
   ]
  },
  {
   "cell_type": "code",
   "execution_count": 220,
   "id": "a2f6d629-8c24-4a4c-a264-4d385f5a870e",
   "metadata": {},
   "outputs": [
    {
     "name": "stdout",
     "output_type": "stream",
     "text": [
      "nan\n"
     ]
    }
   ],
   "source": [
    "# found the float\n",
    "\n",
    "for i in df.title:\n",
    "    if type(i) != str:\n",
    "        print(i)"
   ]
  },
  {
   "cell_type": "code",
   "execution_count": 221,
   "id": "019621a7-b7ec-48d7-8678-11ec4b36ec0e",
   "metadata": {},
   "outputs": [],
   "source": [
    "df.dropna(inplace = True)"
   ]
  },
  {
   "cell_type": "code",
   "execution_count": 222,
   "id": "cd7c7aef-9d52-445d-ac3d-c13bf44d9d3e",
   "metadata": {},
   "outputs": [],
   "source": [
    "def lemmatize_func(text):\n",
    "        return [lemmatizer.lemmatize(i) for i in tokenizer.tokenize(text)]\n",
    "\n",
    "df['text'] = df.selftext.apply(lemmatize_func)\n",
    "df['titletext'] = df.title.apply(lemmatize_func)"
   ]
  },
  {
   "cell_type": "code",
   "execution_count": 223,
   "id": "c745e049-6bac-4830-933d-446fed961fb1",
   "metadata": {},
   "outputs": [],
   "source": [
    "# no blanks\n",
    "#df.loc[df.title==''].value_counts()"
   ]
  },
  {
   "cell_type": "code",
   "execution_count": 224,
   "id": "26fa148e-7cb7-4ec1-9686-71ead709ab47",
   "metadata": {},
   "outputs": [],
   "source": [
    "tokenizer = RegexpTokenizer(r'\\w+')\n",
    "lemmatizer = WordNetLemmatizer()\n",
    "\n",
    "def lemmatize_text(text):\n",
    "    tokens = tokenizer.tokenize(text)\n",
    "    tokens_lem = [lemmatizer.lemmatize(i) for i in tokens]\n",
    "\n",
    "\n",
    "df['lem_text'] = df['selftext'].apply(lemmatize_text)"
   ]
  },
  {
   "cell_type": "code",
   "execution_count": 226,
   "id": "e20592f3-a243-4f8a-a7a5-e86e800ddc2b",
   "metadata": {},
   "outputs": [
    {
     "data": {
      "text/plain": [
       "0       None\n",
       "1       None\n",
       "2       None\n",
       "3       None\n",
       "4       None\n",
       "        ... \n",
       "3491    None\n",
       "3492    None\n",
       "3493    None\n",
       "3494    None\n",
       "3495    None\n",
       "Name: lem_text, Length: 3495, dtype: object"
      ]
     },
     "execution_count": 226,
     "metadata": {},
     "output_type": "execute_result"
    }
   ],
   "source": [
    "df.lem_text"
   ]
  },
  {
   "cell_type": "code",
   "execution_count": null,
   "id": "7c3eea3d-e141-4f78-951b-b13025a97847",
   "metadata": {},
   "outputs": [],
   "source": []
  }
 ],
 "metadata": {
  "kernelspec": {
   "display_name": "Python 3 (ipykernel)",
   "language": "python",
   "name": "python3"
  },
  "language_info": {
   "codemirror_mode": {
    "name": "ipython",
    "version": 3
   },
   "file_extension": ".py",
   "mimetype": "text/x-python",
   "name": "python",
   "nbconvert_exporter": "python",
   "pygments_lexer": "ipython3",
   "version": "3.9.12"
  }
 },
 "nbformat": 4,
 "nbformat_minor": 5
}
