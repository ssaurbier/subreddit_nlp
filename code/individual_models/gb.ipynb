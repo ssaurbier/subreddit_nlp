{
 "cells": [
  {
   "cell_type": "code",
   "execution_count": 58,
   "id": "26c8c700-69eb-476f-bc9d-27b0844d4ecc",
   "metadata": {},
   "outputs": [],
   "source": [
    "import pandas as pd\n",
    "import numpy as np\n",
    "from sklearn.model_selection import train_test_split, RandomizedSearchCV\n",
    "from sklearn.pipeline import Pipeline\n",
    "from sklearn.feature_extraction.text import TfidfVectorizer\n",
    "from sklearn.metrics import (confusion_matrix, ConfusionMatrixDisplay,\n",
    "    accuracy_score, roc_auc_score, recall_score,\n",
    "    precision_score, f1_score, RocCurveDisplay)\n",
    "from imblearn.metrics import specificity_score\n",
    "\n",
    "from nltk.corpus import stopwords\n",
    "import re\n",
    "\n",
    "\n",
    "\n",
    "from sklearn.ensemble import GradientBoostingClassifier\n",
    "\n",
    "\n",
    "\n",
    "import matplotlib.pyplot as plt\n"
   ]
  },
  {
   "cell_type": "code",
   "execution_count": 59,
   "id": "981011e9-558a-4aea-a2b4-981e641e43ee",
   "metadata": {},
   "outputs": [
    {
     "data": {
      "text/html": [
       "<div>\n",
       "<style scoped>\n",
       "    .dataframe tbody tr th:only-of-type {\n",
       "        vertical-align: middle;\n",
       "    }\n",
       "\n",
       "    .dataframe tbody tr th {\n",
       "        vertical-align: top;\n",
       "    }\n",
       "\n",
       "    .dataframe thead th {\n",
       "        text-align: right;\n",
       "    }\n",
       "</style>\n",
       "<table border=\"1\" class=\"dataframe\">\n",
       "  <thead>\n",
       "    <tr style=\"text-align: right;\">\n",
       "      <th></th>\n",
       "      <th>subreddit</th>\n",
       "      <th>text</th>\n",
       "    </tr>\n",
       "  </thead>\n",
       "  <tbody>\n",
       "    <tr>\n",
       "      <th>0</th>\n",
       "      <td>0</td>\n",
       "      <td>using electric water boiler to mine bitcoin th...</td>\n",
       "    </tr>\n",
       "    <tr>\n",
       "      <th>1</th>\n",
       "      <td>0</td>\n",
       "      <td>btc to usdt hello i am looking to swap a good ...</td>\n",
       "    </tr>\n",
       "  </tbody>\n",
       "</table>\n",
       "</div>"
      ],
      "text/plain": [
       "   subreddit                                               text\n",
       "0          0  using electric water boiler to mine bitcoin th...\n",
       "1          0  btc to usdt hello i am looking to swap a good ..."
      ]
     },
     "execution_count": 59,
     "metadata": {},
     "output_type": "execute_result"
    }
   ],
   "source": [
    "df_selftext = pd.read_csv('../../data/cleaned_selftext.csv')\n",
    "df_notext = pd.read_csv('../../data/cleaned_notext.csv')\n",
    "df_selftext.head(2)"
   ]
  },
  {
   "cell_type": "code",
   "execution_count": 60,
   "id": "5ab056b0-14e2-4203-9d9a-d0043cc0dc99",
   "metadata": {},
   "outputs": [
    {
     "name": "stdout",
     "output_type": "stream",
     "text": [
      "0    4017\n",
      "1     787\n",
      "Name: subreddit, dtype: int64\n"
     ]
    },
    {
     "data": {
      "text/plain": [
       "0    9938\n",
       "1    2059\n",
       "Name: subreddit, dtype: int64"
      ]
     },
     "execution_count": 60,
     "metadata": {},
     "output_type": "execute_result"
    }
   ],
   "source": [
    "print(df_selftext.subreddit.value_counts())\n",
    "df_notext.subreddit.value_counts()"
   ]
  },
  {
   "cell_type": "markdown",
   "id": "fd1b1d92-3bda-436a-b72d-d793579a6ae6",
   "metadata": {},
   "source": [
    "# Adding stop words to not make it too easy"
   ]
  },
  {
   "cell_type": "code",
   "execution_count": 61,
   "id": "61d99e0f-41dd-481e-944c-9e2463e4e429",
   "metadata": {},
   "outputs": [],
   "source": [
    "stop = list(stopwords.words('english'))\n",
    "stop.extend('btc eth bitcoin ethereum lightning vitalik metamask nft nfts'.split())\n"
   ]
  },
  {
   "cell_type": "markdown",
   "id": "f6da16c5-29d2-4864-9d15-af9c9bb16bec",
   "metadata": {},
   "source": [
    "# Model"
   ]
  },
  {
   "cell_type": "code",
   "execution_count": 62,
   "id": "8552c791-8e62-481f-a684-7287bcde817a",
   "metadata": {},
   "outputs": [],
   "source": [
    "X = df_selftext.text\n",
    "y = df_selftext.subreddit"
   ]
  },
  {
   "cell_type": "code",
   "execution_count": 63,
   "id": "2a70c302-0e55-4339-8d17-af0b2959cada",
   "metadata": {},
   "outputs": [
    {
     "data": {
      "text/plain": [
       "0    4017\n",
       "1     787\n",
       "Name: subreddit, dtype: int64"
      ]
     },
     "execution_count": 63,
     "metadata": {},
     "output_type": "execute_result"
    }
   ],
   "source": [
    "y.value_counts()"
   ]
  },
  {
   "cell_type": "code",
   "execution_count": 64,
   "id": "55061841-2e4b-4118-bd78-f0cbdf322687",
   "metadata": {},
   "outputs": [],
   "source": [
    "X_train, X_test, y_train, y_test = train_test_split(X,\n",
    "                                                    y,\n",
    "                                                    stratify=y,\n",
    "                                                    random_state=42)"
   ]
  },
  {
   "cell_type": "code",
   "execution_count": null,
   "id": "2e8c8136-b6d4-402d-8e22-c721e00ac597",
   "metadata": {},
   "outputs": [],
   "source": []
  },
  {
   "cell_type": "code",
   "execution_count": 65,
   "id": "ee29da9c-880d-4b49-8d59-c9e6feee1e06",
   "metadata": {},
   "outputs": [],
   "source": [
    "# Pipeline accepts multiple transformers, but only one vectorizer. See cgpt results:\n",
    "\n",
    "'''The error message is caused by the fact that you are trying to fit two different vectorizers (TfidfVectorizer and CountVectorizer) \n",
    "in the same pipeline, but only providing one input (X_train) to the pipeline. This is causing the pipeline to raise an error as it doesn't \n",
    "know which vectorizer to apply to the input. \n",
    "\n",
    "You can fix this by either removing one of the vectorizers or providing separate inputs to the pipeline for each vectorizer.'''\n",
    "\n",
    "\n",
    "gb_pipe = Pipeline([\n",
    "    ('tvec', TfidfVectorizer()),\n",
    "    ('gb', GradientBoostingClassifier())\n",
    "])"
   ]
  },
  {
   "cell_type": "code",
   "execution_count": 66,
   "id": "d3f71c4c-3fe4-40e6-93a7-10a3ba650c95",
   "metadata": {},
   "outputs": [],
   "source": [
    "gb_pipe_params = {\n",
    "    'tvec__max_features': range(600,800,5),\n",
    "    'tvec__stop_words': [stop],\n",
    "    'tvec__ngram_range': [(1,1), (1,2), (1,3),(2,3),(3,3)],\n",
    "    'gb__n_estimators': range(50,200,50),\n",
    "    'gb__max_features': range(50, 80)\n",
    "}"
   ]
  },
  {
   "cell_type": "code",
   "execution_count": 67,
   "id": "91d2879f-9997-4d7d-a96a-0e05a85d24eb",
   "metadata": {},
   "outputs": [],
   "source": [
    "rs = RandomizedSearchCV(gb_pipe, \n",
    "                  gb_pipe_params, \n",
    "                    cv = 5) "
   ]
  },
  {
   "cell_type": "code",
   "execution_count": 68,
   "id": "4b235a3f-2298-46e5-b1b0-b3195af7bb42",
   "metadata": {},
   "outputs": [
    {
     "data": {
      "text/plain": [
       "RandomizedSearchCV(cv=5,\n",
       "                   estimator=Pipeline(steps=[('tvec', TfidfVectorizer()),\n",
       "                                             ('gb',\n",
       "                                              GradientBoostingClassifier())]),\n",
       "                   param_distributions={'gb__max_features': range(50, 80),\n",
       "                                        'gb__n_estimators': range(50, 200, 50),\n",
       "                                        'tvec__max_features': range(600, 800, 5),\n",
       "                                        'tvec__ngram_range': [(1, 1), (1, 2),\n",
       "                                                              (1, 3), (2, 3),\n",
       "                                                              (3, 3)],\n",
       "                                        'tvec__stop_words': [['i', 'me', 'my',\n",
       "                                                              'myself', 'we',\n",
       "                                                              'our', 'ours',\n",
       "                                                              'ourselves',\n",
       "                                                              'you', \"you're\",\n",
       "                                                              \"you've\",\n",
       "                                                              \"you'll\", \"you'd\",\n",
       "                                                              'your', 'yours',\n",
       "                                                              'yourself',\n",
       "                                                              'yourselves',\n",
       "                                                              'he', 'him',\n",
       "                                                              'his', 'himself',\n",
       "                                                              'she', \"she's\",\n",
       "                                                              'her', 'hers',\n",
       "                                                              'herself', 'it',\n",
       "                                                              \"it's\", 'its',\n",
       "                                                              'itself', ...]]})"
      ]
     },
     "execution_count": 68,
     "metadata": {},
     "output_type": "execute_result"
    }
   ],
   "source": [
    "rs.fit(X_train, y_train)"
   ]
  },
  {
   "cell_type": "code",
   "execution_count": 69,
   "id": "022dd732-db57-4cb1-86a0-f75833b394fe",
   "metadata": {},
   "outputs": [
    {
     "name": "stdout",
     "output_type": "stream",
     "text": [
      "0.9206217041354426\n"
     ]
    },
    {
     "data": {
      "text/plain": [
       "0.8767693588676103"
      ]
     },
     "execution_count": 69,
     "metadata": {},
     "output_type": "execute_result"
    }
   ],
   "source": [
    "#using all stopwords lowers scores to 0.8823747680890538 / 0.8654060066740823\n",
    "\n",
    "print(rs.score(X_train, y_train))\n",
    "rs.score(X_test, y_test)"
   ]
  },
  {
   "cell_type": "code",
   "execution_count": 70,
   "id": "883d8055-0e54-4203-a3f8-225b5cc95301",
   "metadata": {},
   "outputs": [
    {
     "data": {
      "text/plain": [
       "{'tvec__stop_words': ['i',\n",
       "  'me',\n",
       "  'my',\n",
       "  'myself',\n",
       "  'we',\n",
       "  'our',\n",
       "  'ours',\n",
       "  'ourselves',\n",
       "  'you',\n",
       "  \"you're\",\n",
       "  \"you've\",\n",
       "  \"you'll\",\n",
       "  \"you'd\",\n",
       "  'your',\n",
       "  'yours',\n",
       "  'yourself',\n",
       "  'yourselves',\n",
       "  'he',\n",
       "  'him',\n",
       "  'his',\n",
       "  'himself',\n",
       "  'she',\n",
       "  \"she's\",\n",
       "  'her',\n",
       "  'hers',\n",
       "  'herself',\n",
       "  'it',\n",
       "  \"it's\",\n",
       "  'its',\n",
       "  'itself',\n",
       "  'they',\n",
       "  'them',\n",
       "  'their',\n",
       "  'theirs',\n",
       "  'themselves',\n",
       "  'what',\n",
       "  'which',\n",
       "  'who',\n",
       "  'whom',\n",
       "  'this',\n",
       "  'that',\n",
       "  \"that'll\",\n",
       "  'these',\n",
       "  'those',\n",
       "  'am',\n",
       "  'is',\n",
       "  'are',\n",
       "  'was',\n",
       "  'were',\n",
       "  'be',\n",
       "  'been',\n",
       "  'being',\n",
       "  'have',\n",
       "  'has',\n",
       "  'had',\n",
       "  'having',\n",
       "  'do',\n",
       "  'does',\n",
       "  'did',\n",
       "  'doing',\n",
       "  'a',\n",
       "  'an',\n",
       "  'the',\n",
       "  'and',\n",
       "  'but',\n",
       "  'if',\n",
       "  'or',\n",
       "  'because',\n",
       "  'as',\n",
       "  'until',\n",
       "  'while',\n",
       "  'of',\n",
       "  'at',\n",
       "  'by',\n",
       "  'for',\n",
       "  'with',\n",
       "  'about',\n",
       "  'against',\n",
       "  'between',\n",
       "  'into',\n",
       "  'through',\n",
       "  'during',\n",
       "  'before',\n",
       "  'after',\n",
       "  'above',\n",
       "  'below',\n",
       "  'to',\n",
       "  'from',\n",
       "  'up',\n",
       "  'down',\n",
       "  'in',\n",
       "  'out',\n",
       "  'on',\n",
       "  'off',\n",
       "  'over',\n",
       "  'under',\n",
       "  'again',\n",
       "  'further',\n",
       "  'then',\n",
       "  'once',\n",
       "  'here',\n",
       "  'there',\n",
       "  'when',\n",
       "  'where',\n",
       "  'why',\n",
       "  'how',\n",
       "  'all',\n",
       "  'any',\n",
       "  'both',\n",
       "  'each',\n",
       "  'few',\n",
       "  'more',\n",
       "  'most',\n",
       "  'other',\n",
       "  'some',\n",
       "  'such',\n",
       "  'no',\n",
       "  'nor',\n",
       "  'not',\n",
       "  'only',\n",
       "  'own',\n",
       "  'same',\n",
       "  'so',\n",
       "  'than',\n",
       "  'too',\n",
       "  'very',\n",
       "  's',\n",
       "  't',\n",
       "  'can',\n",
       "  'will',\n",
       "  'just',\n",
       "  'don',\n",
       "  \"don't\",\n",
       "  'should',\n",
       "  \"should've\",\n",
       "  'now',\n",
       "  'd',\n",
       "  'll',\n",
       "  'm',\n",
       "  'o',\n",
       "  're',\n",
       "  've',\n",
       "  'y',\n",
       "  'ain',\n",
       "  'aren',\n",
       "  \"aren't\",\n",
       "  'couldn',\n",
       "  \"couldn't\",\n",
       "  'didn',\n",
       "  \"didn't\",\n",
       "  'doesn',\n",
       "  \"doesn't\",\n",
       "  'hadn',\n",
       "  \"hadn't\",\n",
       "  'hasn',\n",
       "  \"hasn't\",\n",
       "  'haven',\n",
       "  \"haven't\",\n",
       "  'isn',\n",
       "  \"isn't\",\n",
       "  'ma',\n",
       "  'mightn',\n",
       "  \"mightn't\",\n",
       "  'mustn',\n",
       "  \"mustn't\",\n",
       "  'needn',\n",
       "  \"needn't\",\n",
       "  'shan',\n",
       "  \"shan't\",\n",
       "  'shouldn',\n",
       "  \"shouldn't\",\n",
       "  'wasn',\n",
       "  \"wasn't\",\n",
       "  'weren',\n",
       "  \"weren't\",\n",
       "  'won',\n",
       "  \"won't\",\n",
       "  'wouldn',\n",
       "  \"wouldn't\",\n",
       "  'btc',\n",
       "  'eth',\n",
       "  'bitcoin',\n",
       "  'ethereum',\n",
       "  'lightning',\n",
       "  'vitalik',\n",
       "  'metamask',\n",
       "  'nft',\n",
       "  'nfts'],\n",
       " 'tvec__ngram_range': (1, 3),\n",
       " 'tvec__max_features': 735,\n",
       " 'gb__n_estimators': 150,\n",
       " 'gb__max_features': 79}"
      ]
     },
     "execution_count": 70,
     "metadata": {},
     "output_type": "execute_result"
    }
   ],
   "source": [
    "rs.best_params_"
   ]
  },
  {
   "cell_type": "code",
   "execution_count": 71,
   "id": "945dc49b-fad5-4bbe-82cc-b4682a47d6fe",
   "metadata": {},
   "outputs": [
    {
     "data": {
      "text/plain": [
       "0.8767693588676103"
      ]
     },
     "execution_count": 71,
     "metadata": {},
     "output_type": "execute_result"
    }
   ],
   "source": [
    "rs.score(X_test, y_test)"
   ]
  },
  {
   "cell_type": "code",
   "execution_count": 72,
   "id": "cb5cdfb7-2e92-4737-9d89-e95376019568",
   "metadata": {},
   "outputs": [],
   "source": [
    "preds = rs.predict(X_test)"
   ]
  },
  {
   "cell_type": "code",
   "execution_count": 73,
   "id": "948f87a2-ad5f-4bbd-b490-e3d60e1252a0",
   "metadata": {},
   "outputs": [
    {
     "data": {
      "image/png": "[encoded data removed]",
      "text/plain": [
       "<Figure size 640x480 with 2 Axes>"
      ]
     },
     "metadata": {},
     "output_type": "display_data"
    }
   ],
   "source": [
    "cm = confusion_matrix(y_test, preds)\n",
    "\n",
    "display = ConfusionMatrixDisplay(confusion_matrix = cm,\n",
    "                             display_labels = rs.classes_)\n",
    "\n",
    "display.plot();"
   ]
  },
  {
   "cell_type": "code",
   "execution_count": 74,
   "id": "ff26a2d1-3467-466d-b6d8-6d0e88ae30aa",
   "metadata": {},
   "outputs": [
    {
     "data": {
      "image/png": "[encoded data removed]",
      "text/plain": [
       "<Figure size 640x480 with 1 Axes>"
      ]
     },
     "metadata": {},
     "output_type": "display_data"
    }
   ],
   "source": [
    "# Basic ROC\n",
    "\n",
    "# cf ROC\n",
    "# create an ax object\n",
    "ax = plt.gca()\n",
    "\n",
    "# use RocCurveDisplay for both estimators\n",
    "RocCurveDisplay.from_estimator(rs, X_test, y_test, ax=ax, name='NB')\n",
    "\n",
    "# add 'worst case scenario' line\n",
    "plt.plot([0,1], [0,1], label='null hypothesis/mean', linestyle='--', color='gray')\n",
    "\n",
    "# necessary to label the baseline\n",
    "plt.legend();"
   ]
  },
  {
   "cell_type": "markdown",
   "id": "761e53ee-effa-4e32-baf6-60ae7a489058",
   "metadata": {},
   "source": [
    "# Preds analysis"
   ]
  },
  {
   "cell_type": "code",
   "execution_count": 75,
   "id": "8f8d17ab-6c5c-4a12-8ad6-3699cced8f90",
   "metadata": {},
   "outputs": [
    {
     "data": {
      "text/html": [
       "<div>\n",
       "<style scoped>\n",
       "    .dataframe tbody tr th:only-of-type {\n",
       "        vertical-align: middle;\n",
       "    }\n",
       "\n",
       "    .dataframe tbody tr th {\n",
       "        vertical-align: top;\n",
       "    }\n",
       "\n",
       "    .dataframe thead th {\n",
       "        text-align: right;\n",
       "    }\n",
       "</style>\n",
       "<table border=\"1\" class=\"dataframe\">\n",
       "  <thead>\n",
       "    <tr style=\"text-align: right;\">\n",
       "      <th></th>\n",
       "      <th>bitcoin</th>\n",
       "      <th>ethereum</th>\n",
       "      <th>true_values</th>\n",
       "    </tr>\n",
       "  </thead>\n",
       "  <tbody>\n",
       "    <tr>\n",
       "      <th>0</th>\n",
       "      <td>0.922865</td>\n",
       "      <td>0.077135</td>\n",
       "      <td>0</td>\n",
       "    </tr>\n",
       "    <tr>\n",
       "      <th>1</th>\n",
       "      <td>0.339712</td>\n",
       "      <td>0.660288</td>\n",
       "      <td>1</td>\n",
       "    </tr>\n",
       "    <tr>\n",
       "      <th>2</th>\n",
       "      <td>0.905713</td>\n",
       "      <td>0.094287</td>\n",
       "      <td>0</td>\n",
       "    </tr>\n",
       "    <tr>\n",
       "      <th>3</th>\n",
       "      <td>0.832721</td>\n",
       "      <td>0.167279</td>\n",
       "      <td>0</td>\n",
       "    </tr>\n",
       "    <tr>\n",
       "      <th>4</th>\n",
       "      <td>0.935342</td>\n",
       "      <td>0.064658</td>\n",
       "      <td>0</td>\n",
       "    </tr>\n",
       "  </tbody>\n",
       "</table>\n",
       "</div>"
      ],
      "text/plain": [
       "    bitcoin  ethereum  true_values\n",
       "0  0.922865  0.077135            0\n",
       "1  0.339712  0.660288            1\n",
       "2  0.905713  0.094287            0\n",
       "3  0.832721  0.167279            0\n",
       "4  0.935342  0.064658            0"
      ]
     },
     "execution_count": 75,
     "metadata": {},
     "output_type": "execute_result"
    }
   ],
   "source": [
    "pred_df = pd.DataFrame(rs.predict_proba(X_test),columns=['bitcoin', 'ethereum'])\n",
    "\n",
    "pred_df['true_values'] = y_test.values\n",
    "\n",
    "pred_df.head()\n"
   ]
  },
  {
   "cell_type": "code",
   "execution_count": 76,
   "id": "5f42cfdd-3534-40e2-9e3a-48b8f64157e4",
   "metadata": {},
   "outputs": [],
   "source": [
    "full_pred_df = pd.DataFrame(rs.predict_proba(X),columns=['bitcoin', 'ethereum'])"
   ]
  },
  {
   "cell_type": "code",
   "execution_count": 77,
   "id": "55793ae7-36d6-4115-acab-a579a29c9d7c",
   "metadata": {},
   "outputs": [
    {
     "data": {
      "text/html": [
       "<div>\n",
       "<style scoped>\n",
       "    .dataframe tbody tr th:only-of-type {\n",
       "        vertical-align: middle;\n",
       "    }\n",
       "\n",
       "    .dataframe tbody tr th {\n",
       "        vertical-align: top;\n",
       "    }\n",
       "\n",
       "    .dataframe thead th {\n",
       "        text-align: right;\n",
       "    }\n",
       "</style>\n",
       "<table border=\"1\" class=\"dataframe\">\n",
       "  <thead>\n",
       "    <tr style=\"text-align: right;\">\n",
       "      <th></th>\n",
       "      <th>bitcoin</th>\n",
       "      <th>ethereum</th>\n",
       "      <th>true_values</th>\n",
       "    </tr>\n",
       "  </thead>\n",
       "  <tbody>\n",
       "    <tr>\n",
       "      <th>0</th>\n",
       "      <td>0.928904</td>\n",
       "      <td>0.071096</td>\n",
       "      <td>0</td>\n",
       "    </tr>\n",
       "    <tr>\n",
       "      <th>1</th>\n",
       "      <td>0.937977</td>\n",
       "      <td>0.062023</td>\n",
       "      <td>0</td>\n",
       "    </tr>\n",
       "    <tr>\n",
       "      <th>2</th>\n",
       "      <td>0.850264</td>\n",
       "      <td>0.149736</td>\n",
       "      <td>0</td>\n",
       "    </tr>\n",
       "    <tr>\n",
       "      <th>3</th>\n",
       "      <td>0.919445</td>\n",
       "      <td>0.080555</td>\n",
       "      <td>0</td>\n",
       "    </tr>\n",
       "    <tr>\n",
       "      <th>4</th>\n",
       "      <td>0.682735</td>\n",
       "      <td>0.317265</td>\n",
       "      <td>0</td>\n",
       "    </tr>\n",
       "  </tbody>\n",
       "</table>\n",
       "</div>"
      ],
      "text/plain": [
       "    bitcoin  ethereum  true_values\n",
       "0  0.928904  0.071096            0\n",
       "1  0.937977  0.062023            0\n",
       "2  0.850264  0.149736            0\n",
       "3  0.919445  0.080555            0\n",
       "4  0.682735  0.317265            0"
      ]
     },
     "execution_count": 77,
     "metadata": {},
     "output_type": "execute_result"
    }
   ],
   "source": [
    "full_pred_df['true_values'] = y.values\n",
    "\n",
    "full_pred_df.head()"
   ]
  },
  {
   "cell_type": "code",
   "execution_count": 78,
   "id": "e49382d5-4ef0-47b2-abb0-f206fe9b03fe",
   "metadata": {},
   "outputs": [],
   "source": [
    "df_selftext = df_selftext.join(full_pred_df)"
   ]
  },
  {
   "cell_type": "code",
   "execution_count": 79,
   "id": "e0a418c4-78ef-4d19-911b-3a37d8c42930",
   "metadata": {},
   "outputs": [
    {
     "data": {
      "text/html": [
       "<div>\n",
       "<style scoped>\n",
       "    .dataframe tbody tr th:only-of-type {\n",
       "        vertical-align: middle;\n",
       "    }\n",
       "\n",
       "    .dataframe tbody tr th {\n",
       "        vertical-align: top;\n",
       "    }\n",
       "\n",
       "    .dataframe thead th {\n",
       "        text-align: right;\n",
       "    }\n",
       "</style>\n",
       "<table border=\"1\" class=\"dataframe\">\n",
       "  <thead>\n",
       "    <tr style=\"text-align: right;\">\n",
       "      <th></th>\n",
       "      <th>subreddit</th>\n",
       "      <th>text</th>\n",
       "      <th>bitcoin</th>\n",
       "      <th>ethereum</th>\n",
       "      <th>true_values</th>\n",
       "    </tr>\n",
       "  </thead>\n",
       "  <tbody>\n",
       "    <tr>\n",
       "      <th>4043</th>\n",
       "      <td>1</td>\n",
       "      <td>idea fully decentralized pixel war with decent...</td>\n",
       "      <td>0.007529</td>\n",
       "      <td>0.992471</td>\n",
       "      <td>1</td>\n",
       "    </tr>\n",
       "    <tr>\n",
       "      <th>4621</th>\n",
       "      <td>1</td>\n",
       "      <td>fifacup win we are li on pinksale presale time...</td>\n",
       "      <td>0.009000</td>\n",
       "      <td>0.991000</td>\n",
       "      <td>1</td>\n",
       "    </tr>\n",
       "    <tr>\n",
       "      <th>4197</th>\n",
       "      <td>1</td>\n",
       "      <td>do similar address on ethereum and polygon cha...</td>\n",
       "      <td>0.010398</td>\n",
       "      <td>0.989602</td>\n",
       "      <td>1</td>\n",
       "    </tr>\n",
       "    <tr>\n",
       "      <th>4022</th>\n",
       "      <td>1</td>\n",
       "      <td>on chain privacy for enterprise a nightfall up...</td>\n",
       "      <td>0.013156</td>\n",
       "      <td>0.986844</td>\n",
       "      <td>1</td>\n",
       "    </tr>\n",
       "    <tr>\n",
       "      <th>4237</th>\n",
       "      <td>1</td>\n",
       "      <td>deep a decentralized gaming platform built on ...</td>\n",
       "      <td>0.014064</td>\n",
       "      <td>0.985936</td>\n",
       "      <td>1</td>\n",
       "    </tr>\n",
       "    <tr>\n",
       "      <th>...</th>\n",
       "      <td>...</td>\n",
       "      <td>...</td>\n",
       "      <td>...</td>\n",
       "      <td>...</td>\n",
       "      <td>...</td>\n",
       "    </tr>\n",
       "    <tr>\n",
       "      <th>4407</th>\n",
       "      <td>1</td>\n",
       "      <td>here s how l are planning on moving from fast ...</td>\n",
       "      <td>0.127351</td>\n",
       "      <td>0.872649</td>\n",
       "      <td>1</td>\n",
       "    </tr>\n",
       "    <tr>\n",
       "      <th>4534</th>\n",
       "      <td>1</td>\n",
       "      <td>layer solution zk rollups according to vitalik...</td>\n",
       "      <td>0.127713</td>\n",
       "      <td>0.872287</td>\n",
       "      <td>1</td>\n",
       "    </tr>\n",
       "    <tr>\n",
       "      <th>4765</th>\n",
       "      <td>1</td>\n",
       "      <td>could someone eli why i see people saying poly...</td>\n",
       "      <td>0.128161</td>\n",
       "      <td>0.871839</td>\n",
       "      <td>1</td>\n",
       "    </tr>\n",
       "    <tr>\n",
       "      <th>4183</th>\n",
       "      <td>1</td>\n",
       "      <td>smartlink marketplace buy and sell anything us...</td>\n",
       "      <td>0.132039</td>\n",
       "      <td>0.867961</td>\n",
       "      <td>1</td>\n",
       "    </tr>\n",
       "    <tr>\n",
       "      <th>4605</th>\n",
       "      <td>1</td>\n",
       "      <td>decentralised exchange dydx reinstates liquidi...</td>\n",
       "      <td>0.136542</td>\n",
       "      <td>0.863458</td>\n",
       "      <td>1</td>\n",
       "    </tr>\n",
       "  </tbody>\n",
       "</table>\n",
       "<p>100 rows × 5 columns</p>\n",
       "</div>"
      ],
      "text/plain": [
       "      subreddit                                               text   bitcoin  \\\n",
       "4043          1  idea fully decentralized pixel war with decent...  0.007529   \n",
       "4621          1  fifacup win we are li on pinksale presale time...  0.009000   \n",
       "4197          1  do similar address on ethereum and polygon cha...  0.010398   \n",
       "4022          1  on chain privacy for enterprise a nightfall up...  0.013156   \n",
       "4237          1  deep a decentralized gaming platform built on ...  0.014064   \n",
       "...         ...                                                ...       ...   \n",
       "4407          1  here s how l are planning on moving from fast ...  0.127351   \n",
       "4534          1  layer solution zk rollups according to vitalik...  0.127713   \n",
       "4765          1  could someone eli why i see people saying poly...  0.128161   \n",
       "4183          1  smartlink marketplace buy and sell anything us...  0.132039   \n",
       "4605          1  decentralised exchange dydx reinstates liquidi...  0.136542   \n",
       "\n",
       "      ethereum  true_values  \n",
       "4043  0.992471            1  \n",
       "4621  0.991000            1  \n",
       "4197  0.989602            1  \n",
       "4022  0.986844            1  \n",
       "4237  0.985936            1  \n",
       "...        ...          ...  \n",
       "4407  0.872649            1  \n",
       "4534  0.872287            1  \n",
       "4765  0.871839            1  \n",
       "4183  0.867961            1  \n",
       "4605  0.863458            1  \n",
       "\n",
       "[100 rows x 5 columns]"
      ]
     },
     "execution_count": 79,
     "metadata": {},
     "output_type": "execute_result"
    }
   ],
   "source": [
    "df_selftext.sort_values(by = 'bitcoin')[0:100]"
   ]
  },
  {
   "cell_type": "markdown",
   "id": "4889bd8d-f32a-43e1-a224-9ea2a5eb6e9a",
   "metadata": {},
   "source": [
    "# Which bitcoin users are most susceptible to eth (or are we just modeling words)"
   ]
  },
  {
   "cell_type": "code",
   "execution_count": 80,
   "id": "afd61e39-5369-495f-9082-219e0ea16e24",
   "metadata": {},
   "outputs": [
    {
     "data": {
      "text/html": [
       "<div>\n",
       "<style scoped>\n",
       "    .dataframe tbody tr th:only-of-type {\n",
       "        vertical-align: middle;\n",
       "    }\n",
       "\n",
       "    .dataframe tbody tr th {\n",
       "        vertical-align: top;\n",
       "    }\n",
       "\n",
       "    .dataframe thead th {\n",
       "        text-align: right;\n",
       "    }\n",
       "</style>\n",
       "<table border=\"1\" class=\"dataframe\">\n",
       "  <thead>\n",
       "    <tr style=\"text-align: right;\">\n",
       "      <th></th>\n",
       "      <th>subreddit</th>\n",
       "      <th>text</th>\n",
       "      <th>bitcoin</th>\n",
       "      <th>ethereum</th>\n",
       "      <th>true_values</th>\n",
       "    </tr>\n",
       "  </thead>\n",
       "  <tbody>\n",
       "    <tr>\n",
       "      <th>4622</th>\n",
       "      <td>1</td>\n",
       "      <td>anyone else ner heard of ftx or sbf just got t...</td>\n",
       "      <td>0.939248</td>\n",
       "      <td>0.060752</td>\n",
       "      <td>1</td>\n",
       "    </tr>\n",
       "    <tr>\n",
       "      <th>4574</th>\n",
       "      <td>1</td>\n",
       "      <td>staked eth what are your thought on having eth...</td>\n",
       "      <td>0.937616</td>\n",
       "      <td>0.062384</td>\n",
       "      <td>1</td>\n",
       "    </tr>\n",
       "    <tr>\n",
       "      <th>4420</th>\n",
       "      <td>1</td>\n",
       "      <td>psa selling your worthless nfts can help you s...</td>\n",
       "      <td>0.937001</td>\n",
       "      <td>0.062999</td>\n",
       "      <td>1</td>\n",
       "    </tr>\n",
       "    <tr>\n",
       "      <th>4663</th>\n",
       "      <td>1</td>\n",
       "      <td>eth or btc since eth is at k rn and btc at k i...</td>\n",
       "      <td>0.935342</td>\n",
       "      <td>0.064658</td>\n",
       "      <td>1</td>\n",
       "    </tr>\n",
       "    <tr>\n",
       "      <th>4229</th>\n",
       "      <td>1</td>\n",
       "      <td>ethereum deflationary is ethereum truly deflat...</td>\n",
       "      <td>0.934727</td>\n",
       "      <td>0.065273</td>\n",
       "      <td>1</td>\n",
       "    </tr>\n",
       "    <tr>\n",
       "      <th>...</th>\n",
       "      <td>...</td>\n",
       "      <td>...</td>\n",
       "      <td>...</td>\n",
       "      <td>...</td>\n",
       "      <td>...</td>\n",
       "    </tr>\n",
       "    <tr>\n",
       "      <th>4165</th>\n",
       "      <td>1</td>\n",
       "      <td>what is eth btc rsi crossor i ha a wallet wher...</td>\n",
       "      <td>0.506694</td>\n",
       "      <td>0.493306</td>\n",
       "      <td>1</td>\n",
       "    </tr>\n",
       "    <tr>\n",
       "      <th>4670</th>\n",
       "      <td>1</td>\n",
       "      <td>eth app idea i'm planning to possibly build a ...</td>\n",
       "      <td>0.505764</td>\n",
       "      <td>0.494236</td>\n",
       "      <td>1</td>\n",
       "    </tr>\n",
       "    <tr>\n",
       "      <th>4161</th>\n",
       "      <td>1</td>\n",
       "      <td>ethereum v bitcoin hi i m an actuarial analyst...</td>\n",
       "      <td>0.505450</td>\n",
       "      <td>0.494550</td>\n",
       "      <td>1</td>\n",
       "    </tr>\n",
       "    <tr>\n",
       "      <th>4454</th>\n",
       "      <td>1</td>\n",
       "      <td>anti phishing in a web era hi people of etheri...</td>\n",
       "      <td>0.503215</td>\n",
       "      <td>0.496785</td>\n",
       "      <td>1</td>\n",
       "    </tr>\n",
       "    <tr>\n",
       "      <th>4323</th>\n",
       "      <td>1</td>\n",
       "      <td>are there advantage to putting tokenised equit...</td>\n",
       "      <td>0.501413</td>\n",
       "      <td>0.498587</td>\n",
       "      <td>1</td>\n",
       "    </tr>\n",
       "  </tbody>\n",
       "</table>\n",
       "<p>409 rows × 5 columns</p>\n",
       "</div>"
      ],
      "text/plain": [
       "      subreddit                                               text   bitcoin  \\\n",
       "4622          1  anyone else ner heard of ftx or sbf just got t...  0.939248   \n",
       "4574          1  staked eth what are your thought on having eth...  0.937616   \n",
       "4420          1  psa selling your worthless nfts can help you s...  0.937001   \n",
       "4663          1  eth or btc since eth is at k rn and btc at k i...  0.935342   \n",
       "4229          1  ethereum deflationary is ethereum truly deflat...  0.934727   \n",
       "...         ...                                                ...       ...   \n",
       "4165          1  what is eth btc rsi crossor i ha a wallet wher...  0.506694   \n",
       "4670          1  eth app idea i'm planning to possibly build a ...  0.505764   \n",
       "4161          1  ethereum v bitcoin hi i m an actuarial analyst...  0.505450   \n",
       "4454          1  anti phishing in a web era hi people of etheri...  0.503215   \n",
       "4323          1  are there advantage to putting tokenised equit...  0.501413   \n",
       "\n",
       "      ethereum  true_values  \n",
       "4622  0.060752            1  \n",
       "4574  0.062384            1  \n",
       "4420  0.062999            1  \n",
       "4663  0.064658            1  \n",
       "4229  0.065273            1  \n",
       "...        ...          ...  \n",
       "4165  0.493306            1  \n",
       "4670  0.494236            1  \n",
       "4161  0.494550            1  \n",
       "4454  0.496785            1  \n",
       "4323  0.498587            1  \n",
       "\n",
       "[409 rows x 5 columns]"
      ]
     },
     "execution_count": 80,
     "metadata": {},
     "output_type": "execute_result"
    }
   ],
   "source": [
    "df_selftext[(df_selftext.true_values == 1) & (df_selftext.bitcoin > .5)].sort_values(by = 'bitcoin', ascending = False)"
   ]
  },
  {
   "cell_type": "markdown",
   "id": "5e6b43f9-0915-4dc2-9159-7840e0e8840c",
   "metadata": {},
   "source": [
    "# False negatives"
   ]
  },
  {
   "cell_type": "code",
   "execution_count": 81,
   "id": "b184fa86-3fb5-4c99-bc4a-2ee692bccd80",
   "metadata": {},
   "outputs": [],
   "source": [
    "# uncomment to see \"ethish BTC\"\n",
    "\n",
    "#for i in df_selftext[(df_selftext.true_values == 1) & (df_selftext.bitcoin > .5)]['text']:\n",
    "#    print(i, '\\n')"
   ]
  },
  {
   "cell_type": "markdown",
   "id": "32f4de2b-83f3-4415-93ed-09840840d1b9",
   "metadata": {},
   "source": [
    "# False Positives"
   ]
  },
  {
   "cell_type": "code",
   "execution_count": 82,
   "id": "cff65f21-f104-41ec-aebd-64588a6a0951",
   "metadata": {},
   "outputs": [],
   "source": [
    "FP = pred_df.loc[(pred_df['ethereum'] > .5) & (pred_df.true_values == 0)].index.values.astype(int)"
   ]
  },
  {
   "cell_type": "code",
   "execution_count": 83,
   "id": "2fede62f-836a-4f79-bd5c-a1252e6ab56d",
   "metadata": {},
   "outputs": [
    {
     "name": "stdout",
     "output_type": "stream",
     "text": [
      "bitcoin revolution the future of finance is here bitcoin ha come a long way since it inception or a decade ago from a small group of enthusiast to a global moment of beliers in decentralization and financial freedom a we look to the future it's important to remember that bitcoin is still in it early stage the technology is constantly evolving and more and more people are starting to realize the potential of this revolutionary digital asset it's easy to get caught up in the day to day fluctuation of the price but it's important to remember the bigger picture bitcoin is about so much more than just the price it's about creating a decentralized financial system that put power back in the hand of the people it's about giving individual the ability to take control of their own financial destiny bitcoin is still in it infancy and there are still many challenge to orcome but with ery obstacle we are one step closer to realizing the true potential of this revolutionary technology so let's stay focused stay determined and keep pushing forward together we can create a better future for oursels and for future generation let's be the one who change the world and make bitcoin the standard currency for international trade and the legal tender in many country let's be the one who make it possible for business and gornments to ha btc on their balance sheet we are the early adopter the pioneer the one who belie in the power of decentralization and the potential of bitcoin let's keep the faith and let's make history \n",
      "\n",
      "btc price during chinese new year doe anybody remember if chinese new year holiday ha affected bitcoin in the past a lot of money are changing hand during this time and i am wondering if this ha caused any uptrend in the past curious to hear your opinion \n",
      "\n",
      "sold after keeping it for year before the price raise ended up sleeping in my car for a bit and really needed the money it wasn't much but it still hurt that i kept it for so long highest value i got to wa dollar that's a lot for me but had to pull out when it wa only worth suck but this is the end for me and i wish eryone else luck i t ha the fund to pour into bitcoin and it feel pointless anyways now \n",
      "\n",
      "first item i er bought with bitcoin before i wa only interested in bitcoin the asset now i am a proud member of bitcoin the network can't wait to see where this journey is taking u \n",
      "\n",
      "t worry guy i just bought to bring the price down again per my curse so the rest of you can buy it down cheap you re welcome for my sacrifice \n",
      "\n",
      "slovakia eu instment property yield from rent per year hello my name is tomáš and i am a real estate broker in slovakia our company ha decided to mo in the direction where we would like to attract foreign instors to the real estate sector a in some region the net rental yield is more than per year in slovakia it is also possible to establish a mortgage a a foreign citizen up to of the price of the property we will be happy to explain erything to you via zoom whatsapp call or video call we are contacting you mainly with the possibility of cooperation we currently cooperate with real estate agency real estate broker and private tipster in seral country around the world feel free to dm me and get more information \n",
      "\n",
      "just after a little advice looking to inst some money for first time hello guy i m ry new to cryptocurrency and ha little knowledge on it which i m hoping to change and start researching more on it and gain a understanding of it i will be receiving some money in the next few month around i would like to inst into a crypto would my best bet be to just buy a whole bitcoin and sit and wait or if you ha additional information you think i you d think i d find helpful thanks in advance \n",
      "\n",
      "this need to happen we need to get the intip bot onto nsfw sub reddit content maker could be getting tip for there service to reddit sat for twat bit for tit people would be setting up wallet to tip there favourite modles and the creaters would obviously want to redeem there money thus boosting lighting adoption porn is always a good motivator you think of the internet you think of porn \n",
      "\n",
      "release calendar for cpi just thought it could be useful to someone to know source u s bureau of labour statistic link to source s \n",
      "\n",
      "intersango pm me if you are still owed btc by strateman and taaki there is someone who would like to speak to you \n",
      "\n",
      "bitcoin shop do you think there will be any site actually dedicated to bitcoin like ebay i think it about time the main stream shop started the push \n",
      "\n",
      "is there a way to find out which cryptocurrencies are the most popular on twitter is there a way to find out which cryptocurrencies are the most popular on twitter i want to join the hype train but i 't want to get left behind by choosing a crypto that nobody care about help me find the top cryptos sorted by twitter follower \n",
      "\n",
      "ponzi scheme aside could bernie madoff turn the sentiment on bitcoin so he had a legal trading business which did make abo arage return for instors could he do the same with bitcoin or is it another ball game added to this could he change the sentiment on bitcoin one way or another \n",
      "\n",
      "do you think satoshi would be proud about the direction bitcoin ha took do you think satoshi would be fulfilled and proud about the route and direction bitcoin is taking today i e segwit lightning etc \n",
      "\n",
      "happy th birthday btc may you li forer bitcoin the world's biggest and most popular cryptocurrency is celebrating it th birthday today on january the currency began use in when it implementation wa released a open source software the word bitcoin wa defined in a white paper published on october it is a compound of the word bit and coin \n",
      "\n",
      "question for btc millionaire how did you set up your life when money wa no more object in your life bitcoin is a life changing asset curious to know how you structured your life when money wa no object craziest thing you bought to lifestyle change want to know it all \n",
      "\n",
      "bitcoin node w ledger help hey eryone so i set up a node using umbrel and i am trying to successfully set up my node to be used with my ledger bitcoin account the node is up and running and synchronized i am then able to successfully connected my node to my ledger account but then ery time i open satstack to run the executable the file open in my terminal running on my macos and it begin to run but then i get an error failed to initialize bus there are other thing written too but this is the first thing that pop up in the terminal i consider myself to be intermidate with this stuff not dumb but not brilliant so i am stuck and ha no idea where to go from here or how to resol this so that i can get satstack working properly so my ledger bitcoin account can communicate with my node properly please help thanks \n",
      "\n",
      "really my wife asked me to grab a dozen egg recently i normally do not buy grocery my great wife take care of that but i wa shocked to see the egg price can you share your price in your state \n",
      "\n",
      "daily discussion december please utilize this sticky thread for all general bitcoin discussion if you see post on the front page or r bitcoin new which are better suited for this daily discussion thread please help out by directing the op to this thread instead thank you if you 't get an answer to your question you can try phrasing it differently or commenting again tomorrow join u in the r bitcoin chatroom please check the previous discussion thread s for unanswered question \n",
      "\n",
      "i f want to learn about bitcoin hello so i just turned and i t really ha interest in all of this stuff though en a a child my mind ha been set on leaving the system and being self sufficient i feel like i m wasting time a i m now and getting nowhere learning about bitcoin is way great way to start can someone please gi me simple but informati rundown on what exactly bitcoin is how it work and how to trade and sell i am not good with number or math my adhd is pretty bad do you think i d still be able to do it google isn t helping me they are trying to sell me their b course \n",
      "\n",
      "how to withdraw money from crypto com hello eryone i need to withdraw from crypto com to my bank account hower it requires plaid and ask me to fill in my online bank username and password is it legit if i do so will my money in crypto com be transferred to my bank account and my bank account info is still ok thank you \n",
      "\n",
      "whale mo m same day a sbf extradition whale wallet just so happened to mo out k btc worth almost m usd on the same day that scam bankman fried wa extradited to the u and just prior to him posting m bail bond sbf's parent put up their house but checking local property value show there is absolutely no way this could en come close to coring such massi bail along with the fact sbf's own net worth is lt k along with the timing seems ry fishy what are the odds that this wallet wa used to essentially store stolen customer fund or is this just another series of odd coincidence in the already plot twist filled story behind the fraud \n",
      "\n"
     ]
    }
   ],
   "source": [
    "for i in df_selftext.iloc[FP].text:\n",
    "    print(i,'\\n')"
   ]
  },
  {
   "cell_type": "code",
   "execution_count": null,
   "id": "f3cc5994-b515-4381-8387-803eb39181c5",
   "metadata": {},
   "outputs": [],
   "source": []
  },
  {
   "cell_type": "code",
   "execution_count": 84,
   "id": "96c2cd69-06e8-4262-9c71-d57e4d98d4c8",
   "metadata": {},
   "outputs": [],
   "source": [
    "#notes\n",
    "def class_from_prob(probabilities, threshold):\n",
    "\n",
    "    return [0 if prob < threshold else 1 for prob in probabilities]\n"
   ]
  },
  {
   "cell_type": "code",
   "execution_count": 85,
   "id": "582af7b7-4a7a-4dc4-adb5-d4d4b77ef6b4",
   "metadata": {},
   "outputs": [],
   "source": [
    "threshold_list = [round(i*.01,2) for i in range(0,101,)]\n",
    "speclist = []\n",
    "senslist = []\n",
    "f1list = []\n",
    "\n",
    "for threshold in threshold_list:\n",
    "    predicted_classes = class_from_prob(pred_df['ethereum'], threshold)\n",
    "    spec = specificity_score(y_test, predicted_classes)\n",
    "    sens = recall_score(y_test, predicted_classes, pos_label=1)\n",
    "    speclist.append(spec)\n",
    "    senslist.append(sens)\n",
    "    F1 = f1_score(y_test, predicted_classes)\n",
    "    f1list.append(F1)"
   ]
  },
  {
   "cell_type": "code",
   "execution_count": 86,
   "id": "0e2ec108-7b8d-4688-9104-d581ac83b484",
   "metadata": {},
   "outputs": [
    {
     "data": {
      "image/png": "[encoded data removed]",
      "text/plain": [
       "<Figure size 1000x500 with 1 Axes>"
      ]
     },
     "metadata": {},
     "output_type": "display_data"
    },
    {
     "data": {
      "text/plain": [
       "<Figure size 640x480 with 0 Axes>"
      ]
     },
     "metadata": {},
     "output_type": "display_data"
    }
   ],
   "source": [
    "%matplotlib inline\n",
    "fig = plt.figure(figsize = (10,5));\n",
    "ax1 = fig.add_subplot(111);\n",
    "\n",
    "ax1.scatter(x = threshold_list, y = speclist, s=10, c='b', marker=\"s\", label='specificity');\n",
    "ax1.scatter(x = threshold_list,y = senslist, s=10, c='r', marker=\"o\", label='sensitivity');\n",
    "ax1.scatter(x = threshold_list,y = f1list, s=10, c='g', marker=\"o\", label='F1 score');\n",
    "plt.legend(loc='upper left')\n",
    "plt.xlabel('Threshold');\n",
    "plt.ylabel('Score Value');\n",
    "plt.show();\n",
    "plt.tight_layout();\n"
   ]
  },
  {
   "cell_type": "code",
   "execution_count": null,
   "id": "18ff45ba-3ee7-4358-b44f-6aa7438abd05",
   "metadata": {},
   "outputs": [],
   "source": []
  },
  {
   "cell_type": "code",
   "execution_count": null,
   "id": "cb6f9792-29e7-4394-8501-23593a4b907c",
   "metadata": {},
   "outputs": [],
   "source": []
  },
  {
   "cell_type": "code",
   "execution_count": null,
   "id": "3d7a492e-3f37-4c40-9b34-5cfb9182ee43",
   "metadata": {},
   "outputs": [],
   "source": []
  },
  {
   "cell_type": "code",
   "execution_count": null,
   "id": "0c44811b-49d2-425e-9c02-c1356b0ba716",
   "metadata": {},
   "outputs": [],
   "source": []
  },
  {
   "cell_type": "code",
   "execution_count": null,
   "id": "75e1212a-7a82-4bf4-ad1f-ab70f4091bc6",
   "metadata": {},
   "outputs": [],
   "source": []
  },
  {
   "cell_type": "code",
   "execution_count": null,
   "id": "df16bebb-fdee-4cab-93e0-dc0aa519e6e8",
   "metadata": {},
   "outputs": [],
   "source": []
  },
  {
   "cell_type": "code",
   "execution_count": null,
   "id": "2ac71000-f654-4166-a06d-7dc0549b1862",
   "metadata": {},
   "outputs": [],
   "source": []
  },
  {
   "cell_type": "code",
   "execution_count": null,
   "id": "2d19f2ba-9b26-4455-880e-ab9340e44341",
   "metadata": {},
   "outputs": [],
   "source": []
  },
  {
   "cell_type": "code",
   "execution_count": null,
   "id": "fcf7bde8-5c22-4267-97a4-eb6a185ff315",
   "metadata": {},
   "outputs": [],
   "source": []
  },
  {
   "cell_type": "code",
   "execution_count": null,
   "id": "41ed66ab-0908-42e4-a74e-c9af157ce239",
   "metadata": {},
   "outputs": [],
   "source": []
  },
  {
   "cell_type": "code",
   "execution_count": null,
   "id": "319f66b8-8be7-4e3d-8130-b59b8cd474b4",
   "metadata": {},
   "outputs": [],
   "source": []
  }
 ],
 "metadata": {
  "kernelspec": {
   "display_name": "Python 3 (ipykernel)",
   "language": "python",
   "name": "python3"
  },
  "language_info": {
   "codemirror_mode": {
    "name": "ipython",
    "version": 3
   },
   "file_extension": ".py",
   "mimetype": "text/x-python",
   "name": "python",
   "nbconvert_exporter": "python",
   "pygments_lexer": "ipython3",
   "version": "3.9.12"
  }
 },
 "nbformat": 4,
 "nbformat_minor": 5
}
