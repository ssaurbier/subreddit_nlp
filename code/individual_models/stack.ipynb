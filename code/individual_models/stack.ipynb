{
 "cells": [
  {
   "cell_type": "code",
   "execution_count": 3,
   "id": "26c8c700-69eb-476f-bc9d-27b0844d4ecc",
   "metadata": {},
   "outputs": [],
   "source": [
    "import pandas as pd\n",
    "import numpy as np\n",
    "from sklearn.model_selection import train_test_split, RandomizedSearchCV,  cross_val_score\n",
    "from sklearn.pipeline import Pipeline\n",
    "from sklearn.feature_extraction.text import TfidfVectorizer\n",
    "from sklearn.naive_bayes import MultinomialNB\n",
    "from sklearn.linear_model import LogisticRegression, LassoCV\n",
    "from sklearn.metrics import (confusion_matrix, ConfusionMatrixDisplay,\n",
    "    accuracy_score, roc_auc_score, recall_score,\n",
    "    precision_score, f1_score, RocCurveDisplay)\n",
    "from imblearn.metrics import specificity_score\n",
    "\n",
    "from nltk.stem import WordNetLemmatizer\n",
    "from nltk.corpus import stopwords\n",
    "import re\n",
    "\n",
    "\n",
    "from sklearn.neighbors import KNeighborsClassifier\n",
    "from sklearn.preprocessing import StandardScaler\n",
    "\n",
    "from sklearn.ensemble import StackingClassifier, RandomForestClassifier, GradientBoostingClassifier, BaggingClassifier\n",
    "\n",
    "\n",
    "\n",
    "import matplotlib.pyplot as plt\n"
   ]
  },
  {
   "cell_type": "code",
   "execution_count": 4,
   "id": "981011e9-558a-4aea-a2b4-981e641e43ee",
   "metadata": {},
   "outputs": [
    {
     "data": {
      "text/html": [
       "<div>\n",
       "<style scoped>\n",
       "    .dataframe tbody tr th:only-of-type {\n",
       "        vertical-align: middle;\n",
       "    }\n",
       "\n",
       "    .dataframe tbody tr th {\n",
       "        vertical-align: top;\n",
       "    }\n",
       "\n",
       "    .dataframe thead th {\n",
       "        text-align: right;\n",
       "    }\n",
       "</style>\n",
       "<table border=\"1\" class=\"dataframe\">\n",
       "  <thead>\n",
       "    <tr style=\"text-align: right;\">\n",
       "      <th></th>\n",
       "      <th>subreddit</th>\n",
       "      <th>text</th>\n",
       "    </tr>\n",
       "  </thead>\n",
       "  <tbody>\n",
       "    <tr>\n",
       "      <th>0</th>\n",
       "      <td>0</td>\n",
       "      <td>using electric water boiler to mine bitcoin th...</td>\n",
       "    </tr>\n",
       "    <tr>\n",
       "      <th>1</th>\n",
       "      <td>0</td>\n",
       "      <td>btc to usdt hello i am looking to swap a good ...</td>\n",
       "    </tr>\n",
       "  </tbody>\n",
       "</table>\n",
       "</div>"
      ],
      "text/plain": [
       "   subreddit                                               text\n",
       "0          0  using electric water boiler to mine bitcoin th...\n",
       "1          0  btc to usdt hello i am looking to swap a good ..."
      ]
     },
     "execution_count": 4,
     "metadata": {},
     "output_type": "execute_result"
    }
   ],
   "source": [
    "df_selftext = pd.read_csv('../../data/cleaned_selftext.csv')\n",
    "df_notext = pd.read_csv('../../data/cleaned_notext.csv')\n",
    "df_selftext.head(2)"
   ]
  },
  {
   "cell_type": "code",
   "execution_count": 5,
   "id": "5ab056b0-14e2-4203-9d9a-d0043cc0dc99",
   "metadata": {},
   "outputs": [
    {
     "name": "stdout",
     "output_type": "stream",
     "text": [
      "0    4017\n",
      "1     787\n",
      "Name: subreddit, dtype: int64\n"
     ]
    },
    {
     "data": {
      "text/plain": [
       "0    9938\n",
       "1    2059\n",
       "Name: subreddit, dtype: int64"
      ]
     },
     "execution_count": 5,
     "metadata": {},
     "output_type": "execute_result"
    }
   ],
   "source": [
    "print(df_selftext.subreddit.value_counts())\n",
    "df_notext.subreddit.value_counts()"
   ]
  },
  {
   "cell_type": "markdown",
   "id": "fd1b1d92-3bda-436a-b72d-d793579a6ae6",
   "metadata": {},
   "source": [
    "# Adding stop words to not make it too easy"
   ]
  },
  {
   "cell_type": "code",
   "execution_count": 6,
   "id": "61d99e0f-41dd-481e-944c-9e2463e4e429",
   "metadata": {},
   "outputs": [],
   "source": [
    "stop = list(stopwords.words('english'))\n",
    "stop.extend('btc eth bitcoin ethereum lightning vitalik'.split())\n"
   ]
  },
  {
   "cell_type": "markdown",
   "id": "f6da16c5-29d2-4864-9d15-af9c9bb16bec",
   "metadata": {},
   "source": [
    "# Model"
   ]
  },
  {
   "cell_type": "code",
   "execution_count": 7,
   "id": "8552c791-8e62-481f-a684-7287bcde817a",
   "metadata": {},
   "outputs": [],
   "source": [
    "X = df_selftext.text\n",
    "y = df_selftext.subreddit"
   ]
  },
  {
   "cell_type": "code",
   "execution_count": 8,
   "id": "2a70c302-0e55-4339-8d17-af0b2959cada",
   "metadata": {},
   "outputs": [
    {
     "data": {
      "text/plain": [
       "0    0.836178\n",
       "1    0.163822\n",
       "Name: subreddit, dtype: float64"
      ]
     },
     "execution_count": 8,
     "metadata": {},
     "output_type": "execute_result"
    }
   ],
   "source": [
    "y.value_counts(normalize=True)"
   ]
  },
  {
   "cell_type": "code",
   "execution_count": 9,
   "id": "55061841-2e4b-4118-bd78-f0cbdf322687",
   "metadata": {},
   "outputs": [],
   "source": [
    "X_train, X_test, y_train, y_test = train_test_split(X,\n",
    "                                                    y,\n",
    "                                                    stratify=y,\n",
    "                                                    random_state=42)"
   ]
  },
  {
   "cell_type": "code",
   "execution_count": 10,
   "id": "d3054865-16ec-4eae-992b-b257f8f51aaf",
   "metadata": {},
   "outputs": [],
   "source": [
    "# Hyperparams from individual model opt\n",
    "nb_pipe = Pipeline([\n",
    "    ('tvec', TfidfVectorizer(stop_words=stop, ngram_range = (1, 2),max_features = 775)),\n",
    "    ('nb', MultinomialNB(alpha = 0.01))\n",
    "])\n",
    "\n",
    "\n",
    "\n",
    "knn_pipe = Pipeline([\n",
    "        ('ss', StandardScaler()),\n",
    "        ('tvec', TfidfVectorizer(stop_words=stop, ngram_range = (2,3),max_features = 400)),\n",
    "        ('knn', KNeighborsClassifier(n_neighbors = 12))\n",
    "])\n",
    "\n",
    "\n",
    "gb_pipe = Pipeline([\n",
    "        ('tvec', TfidfVectorizer(stop_words=stop)),\n",
    "        ('gb', GradientBoostingClassifier(n_estimators = 150, max_features = 60))\n",
    "])\n",
    "\n",
    "\n",
    "logr_pipe = Pipeline([\n",
    "        ('tvec', TfidfVectorizer(stop_words=stop)),\n",
    "        ('logr', LogisticRegression())\n",
    "])"
   ]
  },
  {
   "cell_type": "code",
   "execution_count": 11,
   "id": "0e56b214-d398-4e45-af99-041026c9108a",
   "metadata": {},
   "outputs": [
    {
     "data": {
      "text/plain": [
       "0.9039655570966252"
      ]
     },
     "execution_count": 11,
     "metadata": {},
     "output_type": "execute_result"
    }
   ],
   "source": [
    "stack_estimators = [\n",
    "    ('nb_pipe', nb_pipe),\n",
    "#    ('knn_pipe', knn_pipe),\n",
    "    ('gb_pipe', gb_pipe),\n",
    "    ('logr_pipe', logr_pipe)   \n",
    "]\n",
    "\n",
    "stack = StackingClassifier(estimators=stack_estimators, final_estimator=LogisticRegression())\n",
    "\n",
    "cross_val_score(stack, X_train, y_train).mean()\n"
   ]
  },
  {
   "cell_type": "code",
   "execution_count": 12,
   "id": "4b235a3f-2298-46e5-b1b0-b3195af7bb42",
   "metadata": {},
   "outputs": [
    {
     "data": {
      "text/plain": [
       "StackingClassifier(estimators=[('nb_pipe',\n",
       "                                Pipeline(steps=[('tvec',\n",
       "                                                 TfidfVectorizer(max_features=775,\n",
       "                                                                 ngram_range=(1,\n",
       "                                                                              2),\n",
       "                                                                 stop_words=['i',\n",
       "                                                                             'me',\n",
       "                                                                             'my',\n",
       "                                                                             'myself',\n",
       "                                                                             'we',\n",
       "                                                                             'our',\n",
       "                                                                             'ours',\n",
       "                                                                             'ourselves',\n",
       "                                                                             'you',\n",
       "                                                                             \"you're\",\n",
       "                                                                             \"you've\",\n",
       "                                                                             \"you'll\",\n",
       "                                                                             \"you'd\",\n",
       "                                                                             'your',\n",
       "                                                                             'yours',\n",
       "                                                                             'yourself',\n",
       "                                                                             'yourselves',\n",
       "                                                                             'he',\n",
       "                                                                             'him',\n",
       "                                                                             'his',\n",
       "                                                                             'himself',\n",
       "                                                                             'she',\n",
       "                                                                             \"she's\",\n",
       "                                                                             'her',\n",
       "                                                                             'hers',\n",
       "                                                                             'herself',\n",
       "                                                                             'it',\n",
       "                                                                             \"it's\",\n",
       "                                                                             'its',\n",
       "                                                                             'itsel...\n",
       "                                Pipeline(steps=[('tvec',\n",
       "                                                 TfidfVectorizer(stop_words=['i',\n",
       "                                                                             'me',\n",
       "                                                                             'my',\n",
       "                                                                             'myself',\n",
       "                                                                             'we',\n",
       "                                                                             'our',\n",
       "                                                                             'ours',\n",
       "                                                                             'ourselves',\n",
       "                                                                             'you',\n",
       "                                                                             \"you're\",\n",
       "                                                                             \"you've\",\n",
       "                                                                             \"you'll\",\n",
       "                                                                             \"you'd\",\n",
       "                                                                             'your',\n",
       "                                                                             'yours',\n",
       "                                                                             'yourself',\n",
       "                                                                             'yourselves',\n",
       "                                                                             'he',\n",
       "                                                                             'him',\n",
       "                                                                             'his',\n",
       "                                                                             'himself',\n",
       "                                                                             'she',\n",
       "                                                                             \"she's\",\n",
       "                                                                             'her',\n",
       "                                                                             'hers',\n",
       "                                                                             'herself',\n",
       "                                                                             'it',\n",
       "                                                                             \"it's\",\n",
       "                                                                             'its',\n",
       "                                                                             'itself', ...])),\n",
       "                                                ('logr',\n",
       "                                                 LogisticRegression())]))],\n",
       "                   final_estimator=LogisticRegression())"
      ]
     },
     "execution_count": 12,
     "metadata": {},
     "output_type": "execute_result"
    }
   ],
   "source": [
    "stack.fit(X_train, y_train)"
   ]
  },
  {
   "cell_type": "code",
   "execution_count": 13,
   "id": "50c170fa-9eb0-453a-b043-21af5dce9800",
   "metadata": {},
   "outputs": [
    {
     "name": "stdout",
     "output_type": "stream",
     "text": [
      "0.9417152373022482\n"
     ]
    },
    {
     "data": {
      "text/plain": [
       "0.9125728559533722"
      ]
     },
     "execution_count": 13,
     "metadata": {},
     "output_type": "execute_result"
    }
   ],
   "source": [
    "print(stack.score(X_train, y_train))\n",
    "stack.score(X_test, y_test)"
   ]
  },
  {
   "cell_type": "code",
   "execution_count": 14,
   "id": "cb5cdfb7-2e92-4737-9d89-e95376019568",
   "metadata": {},
   "outputs": [],
   "source": [
    "preds = stack.predict(X_test)"
   ]
  },
  {
   "cell_type": "code",
   "execution_count": 15,
   "id": "948f87a2-ad5f-4bbd-b490-e3d60e1252a0",
   "metadata": {},
   "outputs": [
    {
     "data": {
      "image/png": "[encoded data removed]",
      "text/plain": [
       "<Figure size 640x480 with 2 Axes>"
      ]
     },
     "metadata": {},
     "output_type": "display_data"
    }
   ],
   "source": [
    "cm = confusion_matrix(y_test, preds)\n",
    "\n",
    "display = ConfusionMatrixDisplay(confusion_matrix = cm,\n",
    "                             display_labels = stack.classes_)\n",
    "\n",
    "display.plot();"
   ]
  },
  {
   "cell_type": "code",
   "execution_count": 16,
   "id": "ff26a2d1-3467-466d-b6d8-6d0e88ae30aa",
   "metadata": {},
   "outputs": [
    {
     "data": {
      "image/png": "[encoded data removed]",
      "text/plain": [
       "<Figure size 640x480 with 1 Axes>"
      ]
     },
     "metadata": {},
     "output_type": "display_data"
    }
   ],
   "source": [
    "# Basic ROC\n",
    "\n",
    "# cf ROC\n",
    "# create an ax object\n",
    "ax = plt.gca()\n",
    "\n",
    "# use RocCurveDisplay for both estimators\n",
    "RocCurveDisplay.from_estimator(stack, X_test, y_test, ax=ax, name='stack')\n",
    "\n",
    "# add 'worst case scenario' line\n",
    "plt.plot([0,1], [0,1], label='null hypothesis/mean', linestyle='--', color='gray')\n",
    "\n",
    "# necessary to label the baseline\n",
    "plt.legend();"
   ]
  },
  {
   "cell_type": "code",
   "execution_count": 17,
   "id": "8f8d17ab-6c5c-4a12-8ad6-3699cced8f90",
   "metadata": {},
   "outputs": [
    {
     "data": {
      "text/html": [
       "<div>\n",
       "<style scoped>\n",
       "    .dataframe tbody tr th:only-of-type {\n",
       "        vertical-align: middle;\n",
       "    }\n",
       "\n",
       "    .dataframe tbody tr th {\n",
       "        vertical-align: top;\n",
       "    }\n",
       "\n",
       "    .dataframe thead th {\n",
       "        text-align: right;\n",
       "    }\n",
       "</style>\n",
       "<table border=\"1\" class=\"dataframe\">\n",
       "  <thead>\n",
       "    <tr style=\"text-align: right;\">\n",
       "      <th></th>\n",
       "      <th>bitcoin</th>\n",
       "      <th>ethereum</th>\n",
       "      <th>true_values</th>\n",
       "    </tr>\n",
       "  </thead>\n",
       "  <tbody>\n",
       "    <tr>\n",
       "      <th>0</th>\n",
       "      <td>0.941171</td>\n",
       "      <td>0.058829</td>\n",
       "      <td>0</td>\n",
       "    </tr>\n",
       "    <tr>\n",
       "      <th>1</th>\n",
       "      <td>0.404770</td>\n",
       "      <td>0.595230</td>\n",
       "      <td>1</td>\n",
       "    </tr>\n",
       "    <tr>\n",
       "      <th>2</th>\n",
       "      <td>0.939135</td>\n",
       "      <td>0.060865</td>\n",
       "      <td>0</td>\n",
       "    </tr>\n",
       "    <tr>\n",
       "      <th>3</th>\n",
       "      <td>0.942827</td>\n",
       "      <td>0.057173</td>\n",
       "      <td>0</td>\n",
       "    </tr>\n",
       "    <tr>\n",
       "      <th>4</th>\n",
       "      <td>0.960477</td>\n",
       "      <td>0.039523</td>\n",
       "      <td>0</td>\n",
       "    </tr>\n",
       "  </tbody>\n",
       "</table>\n",
       "</div>"
      ],
      "text/plain": [
       "    bitcoin  ethereum  true_values\n",
       "0  0.941171  0.058829            0\n",
       "1  0.404770  0.595230            1\n",
       "2  0.939135  0.060865            0\n",
       "3  0.942827  0.057173            0\n",
       "4  0.960477  0.039523            0"
      ]
     },
     "execution_count": 17,
     "metadata": {},
     "output_type": "execute_result"
    }
   ],
   "source": [
    "pred_df = pd.DataFrame(stack.predict_proba(X_test),columns=['bitcoin', 'ethereum'])\n",
    "\n",
    "pred_df['true_values'] = y_test.values\n",
    "\n",
    "pred_df.head()\n"
   ]
  },
  {
   "cell_type": "markdown",
   "id": "a738d70a-176e-4cbb-b0d8-d733dc4fd03b",
   "metadata": {},
   "source": [
    "# False postitives"
   ]
  },
  {
   "cell_type": "code",
   "execution_count": 18,
   "id": "cff65f21-f104-41ec-aebd-64588a6a0951",
   "metadata": {},
   "outputs": [],
   "source": [
    "ethish_indexes = pred_df.loc[(pred_df['ethereum'] > .5) & (pred_df.true_values == 0)].index.values.astype(int)"
   ]
  },
  {
   "cell_type": "code",
   "execution_count": 19,
   "id": "2fede62f-836a-4f79-bd5c-a1252e6ab56d",
   "metadata": {},
   "outputs": [
    {
     "name": "stdout",
     "output_type": "stream",
     "text": [
      "btc price during chinese new year doe anybody remember if chinese new year holiday ha affected bitcoin in the past a lot of money are changing hand during this time and i am wondering if this ha caused any uptrend in the past curious to hear your opinion \n",
      "\n",
      "not your key not your coin forbes article on binance's asset value loss in the last day are we about to see another major crash like the ftx affair i know a lot of bitcoiners are not really into mainstream medium narrati but what are your thought about the entuality of binance becoming the next ftx basing on this instigation by forbes s \n",
      "\n",
      "sold after keeping it for year before the price raise ended up sleeping in my car for a bit and really needed the money it wasn't much but it still hurt that i kept it for so long highest value i got to wa dollar that's a lot for me but had to pull out when it wa only worth suck but this is the end for me and i wish eryone else luck i t ha the fund to pour into bitcoin and it feel pointless anyways now \n",
      "\n",
      "first item i er bought with bitcoin before i wa only interested in bitcoin the asset now i am a proud member of bitcoin the network can't wait to see where this journey is taking u \n",
      "\n",
      "t worry guy i just bought to bring the price down again per my curse so the rest of you can buy it down cheap you re welcome for my sacrifice \n",
      "\n",
      "just after a little advice looking to inst some money for first time hello guy i m ry new to cryptocurrency and ha little knowledge on it which i m hoping to change and start researching more on it and gain a understanding of it i will be receiving some money in the next few month around i would like to inst into a crypto would my best bet be to just buy a whole bitcoin and sit and wait or if you ha additional information you think i you d think i d find helpful thanks in advance \n",
      "\n",
      "intersango pm me if you are still owed btc by strateman and taaki there is someone who would like to speak to you \n",
      "\n",
      "is there a way to find out which cryptocurrencies are the most popular on twitter is there a way to find out which cryptocurrencies are the most popular on twitter i want to join the hype train but i 't want to get left behind by choosing a crypto that nobody care about help me find the top cryptos sorted by twitter follower \n",
      "\n",
      "can someone confirm to me that btc com is a scam phishing website thanks i m new to bitcoin and i m just trying to be cautious \n",
      "\n",
      "do you see bitcoin at during a recession is this feasible or wishful thinking \n",
      "\n",
      "what change will bitcoin undergo in the future other than the mining reward and size of the data that will be stored on any gin node what can user expect to change about the protocol and actual bitcoin infrastructure mass adoption obviously come with more external infrastructure to support use and exchange but when that time come will eryone ha to use lightning transaction time are much too long to expect bitcoin in it current state to replace a credit card in a shopping situation so is lightning the final solution to that \n",
      "\n",
      "cold storage advice after lot of fud in this sub about coke storage i myself bought a ledger a long time back but after seeing backlash of being closed source ha me worried and my crypto doe not feel safe in the ledger what is the best i d like to buy one where i can setup my own node and also am happy to use an air gapped laptop what do whale use to store help \n",
      "\n",
      "ponzi scheme aside could bernie madoff turn the sentiment on bitcoin so he had a legal trading business which did make abo arage return for instors could he do the same with bitcoin or is it another ball game added to this could he change the sentiment on bitcoin one way or another \n",
      "\n",
      "do you think satoshi would be proud about the direction bitcoin ha took do you think satoshi would be fulfilled and proud about the route and direction bitcoin is taking today i e segwit lightning etc \n",
      "\n",
      "happy th birthday btc may you li forer bitcoin the world's biggest and most popular cryptocurrency is celebrating it th birthday today on january the currency began use in when it implementation wa released a open source software the word bitcoin wa defined in a white paper published on october it is a compound of the word bit and coin \n",
      "\n",
      "rich wallet glitch i lo when my wallet glitch and show i ha million of dollar in usd of a particular crypto make me feel like i m seeing my future if i m patient and continue to dca \n",
      "\n",
      "question for btc millionaire how did you set up your life when money wa no more object in your life bitcoin is a life changing asset curious to know how you structured your life when money wa no object craziest thing you bought to lifestyle change want to know it all \n",
      "\n",
      "really my wife asked me to grab a dozen egg recently i normally do not buy grocery my great wife take care of that but i wa shocked to see the egg price can you share your price in your state \n",
      "\n",
      "happy new year party hard \n",
      "\n",
      "daily discussion december please utilize this sticky thread for all general bitcoin discussion if you see post on the front page or r bitcoin new which are better suited for this daily discussion thread please help out by directing the op to this thread instead thank you if you 't get an answer to your question you can try phrasing it differently or commenting again tomorrow join u in the r bitcoin chatroom please check the previous discussion thread s for unanswered question \n",
      "\n",
      "ation good day eryone i m new in the crypto world and i m not financially capable to go into it this is just me asking for help kindlyyour ations into my crypto wallet would go a long way en if it s i d really appreciate please comment below if you want to helpthank you so much in advance bitcoin \n",
      "\n",
      "security question about living off of bitcoin and traling so i wa visiting friend out of the country for christmas and i wa teaching one of them about bitcoin i walked them through downloading bluewallet sent them money via lightning etc and it got me thinking how could i li off of bitcoin completely if i'm traling do i just ha to make sure i put enough bitcoin on a hotwallet like my phone do i tral with a hardware wallet with my saving on it and keep the recory backup in my hometown in case i lose the hardware wallet \n",
      "\n",
      "bitcoin bottom i belie the bottom for bitcoin will be this cycle \n",
      "\n",
      "are there any apps similar to strike i'm talking when you can buy bitcoin for almost no fee and can withdraw it immediately \n",
      "\n"
     ]
    }
   ],
   "source": [
    "for i in df_selftext.iloc[ethish_indexes].text:\n",
    "    print(i,'\\n')"
   ]
  },
  {
   "cell_type": "code",
   "execution_count": 20,
   "id": "96c2cd69-06e8-4262-9c71-d57e4d98d4c8",
   "metadata": {},
   "outputs": [],
   "source": [
    "#notes\n",
    "def class_from_prob(probabilities, threshold):\n",
    "\n",
    "    return [0 if prob < threshold else 1 for prob in probabilities]\n"
   ]
  },
  {
   "cell_type": "code",
   "execution_count": 21,
   "id": "582af7b7-4a7a-4dc4-adb5-d4d4b77ef6b4",
   "metadata": {},
   "outputs": [],
   "source": [
    "threshold_list = [round(i*.01,2) for i in range(0,101,)]\n",
    "speclist = []\n",
    "senslist = []\n",
    "f1list = []\n",
    "\n",
    "for threshold in threshold_list:\n",
    "    predicted_classes = class_from_prob(pred_df['bitcoin'], threshold)\n",
    "    spec = specificity_score(y_test, predicted_classes)\n",
    "    sens = recall_score(y_test, predicted_classes, pos_label=1)\n",
    "    speclist.append(spec)\n",
    "    senslist.append(sens)\n",
    "    F1 = f1_score(y_test, predicted_classes)\n",
    "    f1list.append(F1)"
   ]
  },
  {
   "cell_type": "code",
   "execution_count": 22,
   "id": "0e2ec108-7b8d-4688-9104-d581ac83b484",
   "metadata": {},
   "outputs": [
    {
     "data": {
      "image/png": "[encoded data removed]",
      "text/plain": [
       "<Figure size 1000x500 with 1 Axes>"
      ]
     },
     "metadata": {},
     "output_type": "display_data"
    },
    {
     "data": {
      "text/plain": [
       "<Figure size 640x480 with 0 Axes>"
      ]
     },
     "metadata": {},
     "output_type": "display_data"
    }
   ],
   "source": [
    "%matplotlib inline\n",
    "fig = plt.figure(figsize = (10,5));\n",
    "ax1 = fig.add_subplot(111);\n",
    "\n",
    "ax1.scatter(x = threshold_list, y = speclist, s=10, c='b', marker=\"s\", label='specificity');\n",
    "ax1.scatter(x = threshold_list,y = senslist, s=10, c='r', marker=\"o\", label='sensitivity');\n",
    "ax1.scatter(x = threshold_list,y = f1list, s=10, c='g', marker=\"o\", label='F1 score');\n",
    "plt.legend(loc='upper left')\n",
    "plt.xlabel('Threshold');\n",
    "plt.ylabel('Score Value');\n",
    "plt.show();\n",
    "plt.tight_layout();\n"
   ]
  },
  {
   "cell_type": "code",
   "execution_count": null,
   "id": "18ff45ba-3ee7-4358-b44f-6aa7438abd05",
   "metadata": {},
   "outputs": [],
   "source": []
  },
  {
   "cell_type": "code",
   "execution_count": null,
   "id": "cb6f9792-29e7-4394-8501-23593a4b907c",
   "metadata": {},
   "outputs": [],
   "source": []
  },
  {
   "cell_type": "code",
   "execution_count": null,
   "id": "3d7a492e-3f37-4c40-9b34-5cfb9182ee43",
   "metadata": {},
   "outputs": [],
   "source": []
  },
  {
   "cell_type": "code",
   "execution_count": null,
   "id": "0c44811b-49d2-425e-9c02-c1356b0ba716",
   "metadata": {},
   "outputs": [],
   "source": []
  },
  {
   "cell_type": "code",
   "execution_count": null,
   "id": "75e1212a-7a82-4bf4-ad1f-ab70f4091bc6",
   "metadata": {},
   "outputs": [],
   "source": []
  },
  {
   "cell_type": "code",
   "execution_count": null,
   "id": "df16bebb-fdee-4cab-93e0-dc0aa519e6e8",
   "metadata": {},
   "outputs": [],
   "source": []
  },
  {
   "cell_type": "code",
   "execution_count": null,
   "id": "e1ac7953-2a43-4f4d-9031-3f714c2500b2",
   "metadata": {},
   "outputs": [],
   "source": []
  }
 ],
 "metadata": {
  "kernelspec": {
   "display_name": "Python 3 (ipykernel)",
   "language": "python",
   "name": "python3"
  },
  "language_info": {
   "codemirror_mode": {
    "name": "ipython",
    "version": 3
   },
   "file_extension": ".py",
   "mimetype": "text/x-python",
   "name": "python",
   "nbconvert_exporter": "python",
   "pygments_lexer": "ipython3",
   "version": "3.9.12"
  }
 },
 "nbformat": 4,
 "nbformat_minor": 5
}
