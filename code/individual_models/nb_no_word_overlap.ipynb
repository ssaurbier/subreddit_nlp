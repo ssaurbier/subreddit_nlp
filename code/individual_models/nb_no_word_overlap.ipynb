{
 "cells": [
  {
   "cell_type": "code",
   "execution_count": 64,
   "id": "26c8c700-69eb-476f-bc9d-27b0844d4ecc",
   "metadata": {},
   "outputs": [],
   "source": [
    "import pandas as pd\n",
    "import numpy as np\n",
    "from sklearn.model_selection import train_test_split, RandomizedSearchCV\n",
    "from sklearn.pipeline import Pipeline\n",
    "from sklearn.feature_extraction.text import TfidfVectorizer\n",
    "from sklearn.metrics import (confusion_matrix, ConfusionMatrixDisplay,\n",
    "    accuracy_score, roc_auc_score, recall_score,\n",
    "    precision_score, f1_score, RocCurveDisplay)\n",
    "from imblearn.metrics import specificity_score\n",
    "\n",
    "from nltk.stem import WordNetLemmatizer\n",
    "from nltk.corpus import stopwords\n",
    "import re\n",
    "\n",
    "\n",
    "\n",
    "\n",
    "import matplotlib.pyplot as plt\n",
    "%store -r dual_list\n"
   ]
  },
  {
   "cell_type": "code",
   "execution_count": 65,
   "id": "981011e9-558a-4aea-a2b4-981e641e43ee",
   "metadata": {},
   "outputs": [
    {
     "data": {
      "text/html": [
       "<div>\n",
       "<style scoped>\n",
       "    .dataframe tbody tr th:only-of-type {\n",
       "        vertical-align: middle;\n",
       "    }\n",
       "\n",
       "    .dataframe tbody tr th {\n",
       "        vertical-align: top;\n",
       "    }\n",
       "\n",
       "    .dataframe thead th {\n",
       "        text-align: right;\n",
       "    }\n",
       "</style>\n",
       "<table border=\"1\" class=\"dataframe\">\n",
       "  <thead>\n",
       "    <tr style=\"text-align: right;\">\n",
       "      <th></th>\n",
       "      <th>subreddit</th>\n",
       "      <th>text</th>\n",
       "    </tr>\n",
       "  </thead>\n",
       "  <tbody>\n",
       "    <tr>\n",
       "      <th>0</th>\n",
       "      <td>0</td>\n",
       "      <td>using electric water boiler to mine bitcoin th...</td>\n",
       "    </tr>\n",
       "    <tr>\n",
       "      <th>1</th>\n",
       "      <td>0</td>\n",
       "      <td>btc to usdt hello i am looking to swap a good ...</td>\n",
       "    </tr>\n",
       "  </tbody>\n",
       "</table>\n",
       "</div>"
      ],
      "text/plain": [
       "   subreddit                                               text\n",
       "0          0  using electric water boiler to mine bitcoin th...\n",
       "1          0  btc to usdt hello i am looking to swap a good ..."
      ]
     },
     "execution_count": 65,
     "metadata": {},
     "output_type": "execute_result"
    }
   ],
   "source": [
    "df_selftext = pd.read_csv('../../data/cleaned_selftext.csv')\n",
    "df_notext = pd.read_csv('../../data/cleaned_notext.csv')\n",
    "df_selftext.head(2)"
   ]
  },
  {
   "cell_type": "code",
   "execution_count": 66,
   "id": "5ab056b0-14e2-4203-9d9a-d0043cc0dc99",
   "metadata": {},
   "outputs": [
    {
     "name": "stdout",
     "output_type": "stream",
     "text": [
      "0    4017\n",
      "1     787\n",
      "Name: subreddit, dtype: int64\n"
     ]
    },
    {
     "data": {
      "text/plain": [
       "0    9938\n",
       "1    2059\n",
       "Name: subreddit, dtype: int64"
      ]
     },
     "execution_count": 66,
     "metadata": {},
     "output_type": "execute_result"
    }
   ],
   "source": [
    "print(df_selftext.subreddit.value_counts())\n",
    "df_notext.subreddit.value_counts()"
   ]
  },
  {
   "cell_type": "markdown",
   "id": "fd1b1d92-3bda-436a-b72d-d793579a6ae6",
   "metadata": {},
   "source": [
    "# Adding all overlapping words to stoplist"
   ]
  },
  {
   "cell_type": "code",
   "execution_count": 67,
   "id": "61d99e0f-41dd-481e-944c-9e2463e4e429",
   "metadata": {},
   "outputs": [],
   "source": [
    "stop = list(stopwords.words('english'))\n",
    "stop.extend('btc eth bitcoin ethereum lightning vitalik metamask nft nfts'.split())\n",
    "stop.extend([i for i in dual_list])\n"
   ]
  },
  {
   "cell_type": "markdown",
   "id": "f6da16c5-29d2-4864-9d15-af9c9bb16bec",
   "metadata": {},
   "source": [
    "# Model"
   ]
  },
  {
   "cell_type": "code",
   "execution_count": 68,
   "id": "8552c791-8e62-481f-a684-7287bcde817a",
   "metadata": {},
   "outputs": [],
   "source": [
    "X = df_selftext.text\n",
    "y = df_selftext.subreddit"
   ]
  },
  {
   "cell_type": "code",
   "execution_count": 69,
   "id": "2a70c302-0e55-4339-8d17-af0b2959cada",
   "metadata": {},
   "outputs": [
    {
     "data": {
      "text/plain": [
       "0    0.836178\n",
       "1    0.163822\n",
       "Name: subreddit, dtype: float64"
      ]
     },
     "execution_count": 69,
     "metadata": {},
     "output_type": "execute_result"
    }
   ],
   "source": [
    "y.value_counts(normalize=True)"
   ]
  },
  {
   "cell_type": "code",
   "execution_count": 70,
   "id": "55061841-2e4b-4118-bd78-f0cbdf322687",
   "metadata": {},
   "outputs": [],
   "source": [
    "X_train, X_test, y_train, y_test = train_test_split(X,\n",
    "                                                    y,\n",
    "                                                    stratify=y,\n",
    "                                                    random_state=42)"
   ]
  },
  {
   "cell_type": "code",
   "execution_count": null,
   "id": "2e8c8136-b6d4-402d-8e22-c721e00ac597",
   "metadata": {},
   "outputs": [],
   "source": []
  },
  {
   "cell_type": "code",
   "execution_count": 71,
   "id": "ee29da9c-880d-4b49-8d59-c9e6feee1e06",
   "metadata": {},
   "outputs": [],
   "source": [
    "# Pipeline accepts multiple transformers, but only one vectorizer. See cgpt results:\n",
    "\n",
    "'''The error message is caused by the fact that you are trying to fit two different vectorizers (TfidfVectorizer and CountVectorizer) \n",
    "in the same pipeline, but only providing one input (X_train) to the pipeline. This is causing the pipeline to raise an error as it doesn't \n",
    "know which vectorizer to apply to the input. \n",
    "\n",
    "You can fix this by either removing one of the vectorizers or providing separate inputs to the pipeline for each vectorizer.'''\n",
    "\n",
    "\n",
    "nb_pipe = Pipeline([\n",
    "    ('tvec', TfidfVectorizer()),\n",
    "    ('nb', MultinomialNB())\n",
    "])"
   ]
  },
  {
   "cell_type": "code",
   "execution_count": 72,
   "id": "d3f71c4c-3fe4-40e6-93a7-10a3ba650c95",
   "metadata": {},
   "outputs": [],
   "source": [
    "nb_pipe_params = {\n",
    "    'tvec__max_features': range(600,800,5),\n",
    "    'tvec__stop_words': [stop],\n",
    "    'tvec__ngram_range': [(1,1), (1,2), (1,3),(2,3),(3,3)],\n",
    "    'nb__alpha': [.01, .05, .1, .25, .5, .1]\n",
    "}"
   ]
  },
  {
   "cell_type": "code",
   "execution_count": 73,
   "id": "91d2879f-9997-4d7d-a96a-0e05a85d24eb",
   "metadata": {},
   "outputs": [],
   "source": [
    "rs = RandomizedSearchCV(nb_pipe, \n",
    "                  nb_pipe_params, \n",
    "                    cv = 5) "
   ]
  },
  {
   "cell_type": "code",
   "execution_count": 74,
   "id": "4b235a3f-2298-46e5-b1b0-b3195af7bb42",
   "metadata": {},
   "outputs": [
    {
     "data": {
      "text/plain": [
       "RandomizedSearchCV(cv=5,\n",
       "                   estimator=Pipeline(steps=[('tvec', TfidfVectorizer()),\n",
       "                                             ('nb', MultinomialNB())]),\n",
       "                   param_distributions={'nb__alpha': [0.01, 0.05, 0.1, 0.25,\n",
       "                                                      0.5, 0.1],\n",
       "                                        'tvec__max_features': range(600, 800, 5),\n",
       "                                        'tvec__ngram_range': [(1, 1), (1, 2),\n",
       "                                                              (1, 3), (2, 3),\n",
       "                                                              (3, 3)],\n",
       "                                        'tvec__stop_words': [['i', 'me', 'my',\n",
       "                                                              'myself', 'we',\n",
       "                                                              'our', 'ours',\n",
       "                                                              'ourselves',\n",
       "                                                              'you', \"you're\",\n",
       "                                                              \"you've\",\n",
       "                                                              \"you'll\", \"you'd\",\n",
       "                                                              'your', 'yours',\n",
       "                                                              'yourself',\n",
       "                                                              'yourselves',\n",
       "                                                              'he', 'him',\n",
       "                                                              'his', 'himself',\n",
       "                                                              'she', \"she's\",\n",
       "                                                              'her', 'hers',\n",
       "                                                              'herself', 'it',\n",
       "                                                              \"it's\", 'its',\n",
       "                                                              'itself', ...]]})"
      ]
     },
     "execution_count": 74,
     "metadata": {},
     "output_type": "execute_result"
    }
   ],
   "source": [
    "rs.fit(X_train, y_train)"
   ]
  },
  {
   "cell_type": "code",
   "execution_count": 75,
   "id": "022dd732-db57-4cb1-86a0-f75833b394fe",
   "metadata": {},
   "outputs": [
    {
     "name": "stdout",
     "output_type": "stream",
     "text": [
      "0.9072994726616709\n"
     ]
    },
    {
     "data": {
      "text/plain": [
       "0.8959200666111574"
      ]
     },
     "execution_count": 75,
     "metadata": {},
     "output_type": "execute_result"
    }
   ],
   "source": [
    "#using all stopwords lowers scores to 0.8823747680890538 / 0.8654060066740823\n",
    "\n",
    "print(rs.score(X_train, y_train))\n",
    "rs.score(X_test, y_test)"
   ]
  },
  {
   "cell_type": "code",
   "execution_count": 76,
   "id": "883d8055-0e54-4203-a3f8-225b5cc95301",
   "metadata": {},
   "outputs": [],
   "source": [
    "#rs.best_params_"
   ]
  },
  {
   "cell_type": "code",
   "execution_count": 77,
   "id": "945dc49b-fad5-4bbe-82cc-b4682a47d6fe",
   "metadata": {},
   "outputs": [
    {
     "data": {
      "text/plain": [
       "0.8959200666111574"
      ]
     },
     "execution_count": 77,
     "metadata": {},
     "output_type": "execute_result"
    }
   ],
   "source": [
    "rs.score(X_test, y_test)"
   ]
  },
  {
   "cell_type": "code",
   "execution_count": 78,
   "id": "cb5cdfb7-2e92-4737-9d89-e95376019568",
   "metadata": {},
   "outputs": [],
   "source": [
    "preds = rs.predict(X_test)"
   ]
  },
  {
   "cell_type": "code",
   "execution_count": 79,
   "id": "948f87a2-ad5f-4bbd-b490-e3d60e1252a0",
   "metadata": {},
   "outputs": [
    {
     "data": {
      "image/png": "[encoded data removed]",
      "text/plain": [
       "<Figure size 640x480 with 2 Axes>"
      ]
     },
     "metadata": {},
     "output_type": "display_data"
    }
   ],
   "source": [
    "cm = confusion_matrix(y_test, preds)\n",
    "\n",
    "display = ConfusionMatrixDisplay(confusion_matrix = cm,\n",
    "                             display_labels = rs.classes_)\n",
    "\n",
    "display.plot();"
   ]
  },
  {
   "cell_type": "code",
   "execution_count": 80,
   "id": "ff26a2d1-3467-466d-b6d8-6d0e88ae30aa",
   "metadata": {},
   "outputs": [
    {
     "data": {
      "image/png": "[encoded data removed]",
      "text/plain": [
       "<Figure size 640x480 with 1 Axes>"
      ]
     },
     "metadata": {},
     "output_type": "display_data"
    }
   ],
   "source": [
    "# Basic ROC\n",
    "\n",
    "# cf ROC\n",
    "# create an ax object\n",
    "ax = plt.gca()\n",
    "\n",
    "# use RocCurveDisplay for both estimators\n",
    "RocCurveDisplay.from_estimator(rs, X_test, y_test, ax=ax, name='NB')\n",
    "\n",
    "# add 'worst case scenario' line\n",
    "plt.plot([0,1], [0,1], label='null hypothesis/mean', linestyle='--', color='gray')\n",
    "\n",
    "# necessary to label the baseline\n",
    "plt.legend();"
   ]
  },
  {
   "cell_type": "markdown",
   "id": "761e53ee-effa-4e32-baf6-60ae7a489058",
   "metadata": {},
   "source": [
    "# Preds analysis"
   ]
  },
  {
   "cell_type": "code",
   "execution_count": 81,
   "id": "8f8d17ab-6c5c-4a12-8ad6-3699cced8f90",
   "metadata": {},
   "outputs": [
    {
     "data": {
      "text/html": [
       "<div>\n",
       "<style scoped>\n",
       "    .dataframe tbody tr th:only-of-type {\n",
       "        vertical-align: middle;\n",
       "    }\n",
       "\n",
       "    .dataframe tbody tr th {\n",
       "        vertical-align: top;\n",
       "    }\n",
       "\n",
       "    .dataframe thead th {\n",
       "        text-align: right;\n",
       "    }\n",
       "</style>\n",
       "<table border=\"1\" class=\"dataframe\">\n",
       "  <thead>\n",
       "    <tr style=\"text-align: right;\">\n",
       "      <th></th>\n",
       "      <th>bitcoin</th>\n",
       "      <th>ethereum</th>\n",
       "      <th>true_values</th>\n",
       "    </tr>\n",
       "  </thead>\n",
       "  <tbody>\n",
       "    <tr>\n",
       "      <th>0</th>\n",
       "      <td>0.836248</td>\n",
       "      <td>0.163752</td>\n",
       "      <td>0</td>\n",
       "    </tr>\n",
       "    <tr>\n",
       "      <th>1</th>\n",
       "      <td>0.782580</td>\n",
       "      <td>0.217420</td>\n",
       "      <td>1</td>\n",
       "    </tr>\n",
       "    <tr>\n",
       "      <th>2</th>\n",
       "      <td>0.999838</td>\n",
       "      <td>0.000162</td>\n",
       "      <td>0</td>\n",
       "    </tr>\n",
       "    <tr>\n",
       "      <th>3</th>\n",
       "      <td>0.994037</td>\n",
       "      <td>0.005963</td>\n",
       "      <td>0</td>\n",
       "    </tr>\n",
       "    <tr>\n",
       "      <th>4</th>\n",
       "      <td>0.970876</td>\n",
       "      <td>0.029124</td>\n",
       "      <td>0</td>\n",
       "    </tr>\n",
       "  </tbody>\n",
       "</table>\n",
       "</div>"
      ],
      "text/plain": [
       "    bitcoin  ethereum  true_values\n",
       "0  0.836248  0.163752            0\n",
       "1  0.782580  0.217420            1\n",
       "2  0.999838  0.000162            0\n",
       "3  0.994037  0.005963            0\n",
       "4  0.970876  0.029124            0"
      ]
     },
     "execution_count": 81,
     "metadata": {},
     "output_type": "execute_result"
    }
   ],
   "source": [
    "pred_df = pd.DataFrame(rs.predict_proba(X_test),columns=['bitcoin', 'ethereum'])\n",
    "\n",
    "pred_df['true_values'] = y_test.values\n",
    "\n",
    "pred_df.head()\n"
   ]
  },
  {
   "cell_type": "code",
   "execution_count": 82,
   "id": "5f42cfdd-3534-40e2-9e3a-48b8f64157e4",
   "metadata": {},
   "outputs": [],
   "source": [
    "full_pred_df = pd.DataFrame(rs.predict_proba(X),columns=['bitcoin', 'ethereum'])"
   ]
  },
  {
   "cell_type": "code",
   "execution_count": 83,
   "id": "55793ae7-36d6-4115-acab-a579a29c9d7c",
   "metadata": {},
   "outputs": [
    {
     "data": {
      "text/html": [
       "<div>\n",
       "<style scoped>\n",
       "    .dataframe tbody tr th:only-of-type {\n",
       "        vertical-align: middle;\n",
       "    }\n",
       "\n",
       "    .dataframe tbody tr th {\n",
       "        vertical-align: top;\n",
       "    }\n",
       "\n",
       "    .dataframe thead th {\n",
       "        text-align: right;\n",
       "    }\n",
       "</style>\n",
       "<table border=\"1\" class=\"dataframe\">\n",
       "  <thead>\n",
       "    <tr style=\"text-align: right;\">\n",
       "      <th></th>\n",
       "      <th>bitcoin</th>\n",
       "      <th>ethereum</th>\n",
       "      <th>true_values</th>\n",
       "    </tr>\n",
       "  </thead>\n",
       "  <tbody>\n",
       "    <tr>\n",
       "      <th>0</th>\n",
       "      <td>0.999872</td>\n",
       "      <td>0.000128</td>\n",
       "      <td>0</td>\n",
       "    </tr>\n",
       "    <tr>\n",
       "      <th>1</th>\n",
       "      <td>0.999854</td>\n",
       "      <td>0.000146</td>\n",
       "      <td>0</td>\n",
       "    </tr>\n",
       "    <tr>\n",
       "      <th>2</th>\n",
       "      <td>0.988418</td>\n",
       "      <td>0.011582</td>\n",
       "      <td>0</td>\n",
       "    </tr>\n",
       "    <tr>\n",
       "      <th>3</th>\n",
       "      <td>0.999642</td>\n",
       "      <td>0.000358</td>\n",
       "      <td>0</td>\n",
       "    </tr>\n",
       "    <tr>\n",
       "      <th>4</th>\n",
       "      <td>0.999945</td>\n",
       "      <td>0.000055</td>\n",
       "      <td>0</td>\n",
       "    </tr>\n",
       "  </tbody>\n",
       "</table>\n",
       "</div>"
      ],
      "text/plain": [
       "    bitcoin  ethereum  true_values\n",
       "0  0.999872  0.000128            0\n",
       "1  0.999854  0.000146            0\n",
       "2  0.988418  0.011582            0\n",
       "3  0.999642  0.000358            0\n",
       "4  0.999945  0.000055            0"
      ]
     },
     "execution_count": 83,
     "metadata": {},
     "output_type": "execute_result"
    }
   ],
   "source": [
    "full_pred_df['true_values'] = y.values\n",
    "\n",
    "full_pred_df.head()"
   ]
  },
  {
   "cell_type": "code",
   "execution_count": 84,
   "id": "9e991856-2706-4dbe-af1e-36531cf4976a",
   "metadata": {},
   "outputs": [
    {
     "data": {
      "text/html": [
       "<div>\n",
       "<style scoped>\n",
       "    .dataframe tbody tr th:only-of-type {\n",
       "        vertical-align: middle;\n",
       "    }\n",
       "\n",
       "    .dataframe tbody tr th {\n",
       "        vertical-align: top;\n",
       "    }\n",
       "\n",
       "    .dataframe thead th {\n",
       "        text-align: right;\n",
       "    }\n",
       "</style>\n",
       "<table border=\"1\" class=\"dataframe\">\n",
       "  <thead>\n",
       "    <tr style=\"text-align: right;\">\n",
       "      <th></th>\n",
       "      <th>subreddit</th>\n",
       "      <th>text</th>\n",
       "    </tr>\n",
       "  </thead>\n",
       "  <tbody>\n",
       "    <tr>\n",
       "      <th>0</th>\n",
       "      <td>0</td>\n",
       "      <td>using electric water boiler to mine bitcoin th...</td>\n",
       "    </tr>\n",
       "    <tr>\n",
       "      <th>1</th>\n",
       "      <td>0</td>\n",
       "      <td>btc to usdt hello i am looking to swap a good ...</td>\n",
       "    </tr>\n",
       "    <tr>\n",
       "      <th>2</th>\n",
       "      <td>0</td>\n",
       "      <td>hypothetically what if we just treated bitcoin...</td>\n",
       "    </tr>\n",
       "    <tr>\n",
       "      <th>3</th>\n",
       "      <td>0</td>\n",
       "      <td>how to manage different btcs on one ledger so ...</td>\n",
       "    </tr>\n",
       "    <tr>\n",
       "      <th>4</th>\n",
       "      <td>0</td>\n",
       "      <td>can we discus dollar cost araging dca a an ins...</td>\n",
       "    </tr>\n",
       "    <tr>\n",
       "      <th>...</th>\n",
       "      <td>...</td>\n",
       "      <td>...</td>\n",
       "    </tr>\n",
       "    <tr>\n",
       "      <th>4799</th>\n",
       "      <td>1</td>\n",
       "      <td>how to generate your wallet friend we are glad...</td>\n",
       "    </tr>\n",
       "    <tr>\n",
       "      <th>4800</th>\n",
       "      <td>1</td>\n",
       "      <td>instagram is launching nft's on polygon this i...</td>\n",
       "    </tr>\n",
       "    <tr>\n",
       "      <th>4801</th>\n",
       "      <td>1</td>\n",
       "      <td>betplay fastest crypto casino with eth is one ...</td>\n",
       "    </tr>\n",
       "    <tr>\n",
       "      <th>4802</th>\n",
       "      <td>1</td>\n",
       "      <td>essay reducing the barrier for crypto using me...</td>\n",
       "    </tr>\n",
       "    <tr>\n",
       "      <th>4803</th>\n",
       "      <td>1</td>\n",
       "      <td>hi for my staking and lending rate comparator ...</td>\n",
       "    </tr>\n",
       "  </tbody>\n",
       "</table>\n",
       "<p>4804 rows × 2 columns</p>\n",
       "</div>"
      ],
      "text/plain": [
       "      subreddit                                               text\n",
       "0             0  using electric water boiler to mine bitcoin th...\n",
       "1             0  btc to usdt hello i am looking to swap a good ...\n",
       "2             0  hypothetically what if we just treated bitcoin...\n",
       "3             0  how to manage different btcs on one ledger so ...\n",
       "4             0  can we discus dollar cost araging dca a an ins...\n",
       "...         ...                                                ...\n",
       "4799          1  how to generate your wallet friend we are glad...\n",
       "4800          1  instagram is launching nft's on polygon this i...\n",
       "4801          1  betplay fastest crypto casino with eth is one ...\n",
       "4802          1  essay reducing the barrier for crypto using me...\n",
       "4803          1  hi for my staking and lending rate comparator ...\n",
       "\n",
       "[4804 rows x 2 columns]"
      ]
     },
     "execution_count": 84,
     "metadata": {},
     "output_type": "execute_result"
    }
   ],
   "source": [
    "df_selftext"
   ]
  },
  {
   "cell_type": "code",
   "execution_count": 85,
   "id": "e49382d5-4ef0-47b2-abb0-f206fe9b03fe",
   "metadata": {},
   "outputs": [],
   "source": [
    "df_selftext = df_selftext.join(full_pred_df)"
   ]
  },
  {
   "cell_type": "code",
   "execution_count": 86,
   "id": "e0a418c4-78ef-4d19-911b-3a37d8c42930",
   "metadata": {},
   "outputs": [
    {
     "data": {
      "text/html": [
       "<div>\n",
       "<style scoped>\n",
       "    .dataframe tbody tr th:only-of-type {\n",
       "        vertical-align: middle;\n",
       "    }\n",
       "\n",
       "    .dataframe tbody tr th {\n",
       "        vertical-align: top;\n",
       "    }\n",
       "\n",
       "    .dataframe thead th {\n",
       "        text-align: right;\n",
       "    }\n",
       "</style>\n",
       "<table border=\"1\" class=\"dataframe\">\n",
       "  <thead>\n",
       "    <tr style=\"text-align: right;\">\n",
       "      <th></th>\n",
       "      <th>subreddit</th>\n",
       "      <th>text</th>\n",
       "      <th>bitcoin</th>\n",
       "      <th>ethereum</th>\n",
       "      <th>true_values</th>\n",
       "    </tr>\n",
       "  </thead>\n",
       "  <tbody>\n",
       "    <tr>\n",
       "      <th>4455</th>\n",
       "      <td>1</td>\n",
       "      <td>the daily gwei summary on the latest news on e...</td>\n",
       "      <td>4.029109e-08</td>\n",
       "      <td>1.000000</td>\n",
       "      <td>1</td>\n",
       "    </tr>\n",
       "    <tr>\n",
       "      <th>4534</th>\n",
       "      <td>1</td>\n",
       "      <td>layer solution zk rollups according to vitalik...</td>\n",
       "      <td>1.823179e-06</td>\n",
       "      <td>0.999998</td>\n",
       "      <td>1</td>\n",
       "    </tr>\n",
       "    <tr>\n",
       "      <th>4267</th>\n",
       "      <td>1</td>\n",
       "      <td>should we be concerned about the censorship is...</td>\n",
       "      <td>1.886500e-06</td>\n",
       "      <td>0.999998</td>\n",
       "      <td>1</td>\n",
       "    </tr>\n",
       "    <tr>\n",
       "      <th>4345</th>\n",
       "      <td>1</td>\n",
       "      <td>post merge ethereum fee continue to remain muc...</td>\n",
       "      <td>2.963420e-06</td>\n",
       "      <td>0.999997</td>\n",
       "      <td>1</td>\n",
       "    </tr>\n",
       "    <tr>\n",
       "      <th>4150</th>\n",
       "      <td>1</td>\n",
       "      <td>please help me to sir and madam i am asking fo...</td>\n",
       "      <td>3.765777e-06</td>\n",
       "      <td>0.999996</td>\n",
       "      <td>1</td>\n",
       "    </tr>\n",
       "    <tr>\n",
       "      <th>...</th>\n",
       "      <td>...</td>\n",
       "      <td>...</td>\n",
       "      <td>...</td>\n",
       "      <td>...</td>\n",
       "      <td>...</td>\n",
       "    </tr>\n",
       "    <tr>\n",
       "      <th>4045</th>\n",
       "      <td>1</td>\n",
       "      <td>need some assistance with an eth issue okay so...</td>\n",
       "      <td>4.653396e-04</td>\n",
       "      <td>0.999535</td>\n",
       "      <td>1</td>\n",
       "    </tr>\n",
       "    <tr>\n",
       "      <th>4310</th>\n",
       "      <td>1</td>\n",
       "      <td>what do you think a mature gamefi project need...</td>\n",
       "      <td>4.728902e-04</td>\n",
       "      <td>0.999527</td>\n",
       "      <td>1</td>\n",
       "    </tr>\n",
       "    <tr>\n",
       "      <th>4689</th>\n",
       "      <td>1</td>\n",
       "      <td>crypto gaming need to be fun to be successful ...</td>\n",
       "      <td>5.063218e-04</td>\n",
       "      <td>0.999494</td>\n",
       "      <td>1</td>\n",
       "    </tr>\n",
       "    <tr>\n",
       "      <th>4431</th>\n",
       "      <td>1</td>\n",
       "      <td>is there anyway to defeat someone using your o...</td>\n",
       "      <td>5.161778e-04</td>\n",
       "      <td>0.999484</td>\n",
       "      <td>1</td>\n",
       "    </tr>\n",
       "    <tr>\n",
       "      <th>4404</th>\n",
       "      <td>1</td>\n",
       "      <td>anatomy of a scam and how i felt for it what t...</td>\n",
       "      <td>5.320286e-04</td>\n",
       "      <td>0.999468</td>\n",
       "      <td>1</td>\n",
       "    </tr>\n",
       "  </tbody>\n",
       "</table>\n",
       "<p>100 rows × 5 columns</p>\n",
       "</div>"
      ],
      "text/plain": [
       "      subreddit                                               text  \\\n",
       "4455          1  the daily gwei summary on the latest news on e...   \n",
       "4534          1  layer solution zk rollups according to vitalik...   \n",
       "4267          1  should we be concerned about the censorship is...   \n",
       "4345          1  post merge ethereum fee continue to remain muc...   \n",
       "4150          1  please help me to sir and madam i am asking fo...   \n",
       "...         ...                                                ...   \n",
       "4045          1  need some assistance with an eth issue okay so...   \n",
       "4310          1  what do you think a mature gamefi project need...   \n",
       "4689          1  crypto gaming need to be fun to be successful ...   \n",
       "4431          1  is there anyway to defeat someone using your o...   \n",
       "4404          1  anatomy of a scam and how i felt for it what t...   \n",
       "\n",
       "           bitcoin  ethereum  true_values  \n",
       "4455  4.029109e-08  1.000000            1  \n",
       "4534  1.823179e-06  0.999998            1  \n",
       "4267  1.886500e-06  0.999998            1  \n",
       "4345  2.963420e-06  0.999997            1  \n",
       "4150  3.765777e-06  0.999996            1  \n",
       "...            ...       ...          ...  \n",
       "4045  4.653396e-04  0.999535            1  \n",
       "4310  4.728902e-04  0.999527            1  \n",
       "4689  5.063218e-04  0.999494            1  \n",
       "4431  5.161778e-04  0.999484            1  \n",
       "4404  5.320286e-04  0.999468            1  \n",
       "\n",
       "[100 rows x 5 columns]"
      ]
     },
     "execution_count": 86,
     "metadata": {},
     "output_type": "execute_result"
    }
   ],
   "source": [
    "df_selftext.sort_values(by = 'bitcoin')[0:100]"
   ]
  },
  {
   "cell_type": "markdown",
   "id": "4889bd8d-f32a-43e1-a224-9ea2a5eb6e9a",
   "metadata": {},
   "source": [
    "# False negatives"
   ]
  },
  {
   "cell_type": "code",
   "execution_count": 87,
   "id": "afd61e39-5369-495f-9082-219e0ea16e24",
   "metadata": {},
   "outputs": [
    {
     "data": {
      "text/html": [
       "<div>\n",
       "<style scoped>\n",
       "    .dataframe tbody tr th:only-of-type {\n",
       "        vertical-align: middle;\n",
       "    }\n",
       "\n",
       "    .dataframe tbody tr th {\n",
       "        vertical-align: top;\n",
       "    }\n",
       "\n",
       "    .dataframe thead th {\n",
       "        text-align: right;\n",
       "    }\n",
       "</style>\n",
       "<table border=\"1\" class=\"dataframe\">\n",
       "  <thead>\n",
       "    <tr style=\"text-align: right;\">\n",
       "      <th></th>\n",
       "      <th>subreddit</th>\n",
       "      <th>text</th>\n",
       "      <th>bitcoin</th>\n",
       "      <th>ethereum</th>\n",
       "      <th>true_values</th>\n",
       "    </tr>\n",
       "  </thead>\n",
       "  <tbody>\n",
       "    <tr>\n",
       "      <th>4553</th>\n",
       "      <td>1</td>\n",
       "      <td>what if a dao bought alexa from amazon i feel ...</td>\n",
       "      <td>0.994420</td>\n",
       "      <td>0.005580</td>\n",
       "      <td>1</td>\n",
       "    </tr>\n",
       "    <tr>\n",
       "      <th>4295</th>\n",
       "      <td>1</td>\n",
       "      <td>cbdcs good or bad for ethereum and crypto a a ...</td>\n",
       "      <td>0.987038</td>\n",
       "      <td>0.012962</td>\n",
       "      <td>1</td>\n",
       "    </tr>\n",
       "    <tr>\n",
       "      <th>4288</th>\n",
       "      <td>1</td>\n",
       "      <td>information information information i recently...</td>\n",
       "      <td>0.914382</td>\n",
       "      <td>0.085618</td>\n",
       "      <td>1</td>\n",
       "    </tr>\n",
       "    <tr>\n",
       "      <th>4549</th>\n",
       "      <td>1</td>\n",
       "      <td>gin robinhood is also for trading stock would ...</td>\n",
       "      <td>0.911963</td>\n",
       "      <td>0.088037</td>\n",
       "      <td>1</td>\n",
       "    </tr>\n",
       "    <tr>\n",
       "      <th>4083</th>\n",
       "      <td>1</td>\n",
       "      <td>did anyone's eth staking reward just randomly ...</td>\n",
       "      <td>0.874280</td>\n",
       "      <td>0.125720</td>\n",
       "      <td>1</td>\n",
       "    </tr>\n",
       "    <tr>\n",
       "      <th>...</th>\n",
       "      <td>...</td>\n",
       "      <td>...</td>\n",
       "      <td>...</td>\n",
       "      <td>...</td>\n",
       "      <td>...</td>\n",
       "    </tr>\n",
       "    <tr>\n",
       "      <th>4757</th>\n",
       "      <td>1</td>\n",
       "      <td>decentralised social network growing rapidly w...</td>\n",
       "      <td>0.609676</td>\n",
       "      <td>0.390324</td>\n",
       "      <td>1</td>\n",
       "    </tr>\n",
       "    <tr>\n",
       "      <th>4751</th>\n",
       "      <td>1</td>\n",
       "      <td>here are the top code contributor to the ether...</td>\n",
       "      <td>0.604116</td>\n",
       "      <td>0.395884</td>\n",
       "      <td>1</td>\n",
       "    </tr>\n",
       "    <tr>\n",
       "      <th>4639</th>\n",
       "      <td>1</td>\n",
       "      <td>another state quad state supply burnt or of st...</td>\n",
       "      <td>0.565470</td>\n",
       "      <td>0.434530</td>\n",
       "      <td>1</td>\n",
       "    </tr>\n",
       "    <tr>\n",
       "      <th>4208</th>\n",
       "      <td>1</td>\n",
       "      <td>interview about post quantum cryptography hey ...</td>\n",
       "      <td>0.550122</td>\n",
       "      <td>0.449878</td>\n",
       "      <td>1</td>\n",
       "    </tr>\n",
       "    <tr>\n",
       "      <th>4660</th>\n",
       "      <td>1</td>\n",
       "      <td>safest remaining exchange with all the chaos g...</td>\n",
       "      <td>0.529839</td>\n",
       "      <td>0.470161</td>\n",
       "      <td>1</td>\n",
       "    </tr>\n",
       "  </tbody>\n",
       "</table>\n",
       "<p>444 rows × 5 columns</p>\n",
       "</div>"
      ],
      "text/plain": [
       "      subreddit                                               text   bitcoin  \\\n",
       "4553          1  what if a dao bought alexa from amazon i feel ...  0.994420   \n",
       "4295          1  cbdcs good or bad for ethereum and crypto a a ...  0.987038   \n",
       "4288          1  information information information i recently...  0.914382   \n",
       "4549          1  gin robinhood is also for trading stock would ...  0.911963   \n",
       "4083          1  did anyone's eth staking reward just randomly ...  0.874280   \n",
       "...         ...                                                ...       ...   \n",
       "4757          1  decentralised social network growing rapidly w...  0.609676   \n",
       "4751          1  here are the top code contributor to the ether...  0.604116   \n",
       "4639          1  another state quad state supply burnt or of st...  0.565470   \n",
       "4208          1  interview about post quantum cryptography hey ...  0.550122   \n",
       "4660          1  safest remaining exchange with all the chaos g...  0.529839   \n",
       "\n",
       "      ethereum  true_values  \n",
       "4553  0.005580            1  \n",
       "4295  0.012962            1  \n",
       "4288  0.085618            1  \n",
       "4549  0.088037            1  \n",
       "4083  0.125720            1  \n",
       "...        ...          ...  \n",
       "4757  0.390324            1  \n",
       "4751  0.395884            1  \n",
       "4639  0.434530            1  \n",
       "4208  0.449878            1  \n",
       "4660  0.470161            1  \n",
       "\n",
       "[444 rows x 5 columns]"
      ]
     },
     "execution_count": 87,
     "metadata": {},
     "output_type": "execute_result"
    }
   ],
   "source": [
    "df_selftext[(df_selftext.true_values == 1) & (df_selftext.bitcoin > .5)].sort_values(by = 'bitcoin', ascending = False)"
   ]
  },
  {
   "cell_type": "code",
   "execution_count": null,
   "id": "fea94510-587e-49f6-b509-5b095e6d3996",
   "metadata": {},
   "outputs": [],
   "source": []
  },
  {
   "cell_type": "code",
   "execution_count": 88,
   "id": "9f01d57e-2977-4e3b-9605-16746e59e98e",
   "metadata": {},
   "outputs": [],
   "source": [
    "# uncomment to see all ethereum posts that were categorized as BTC\n",
    "\n",
    "#for i in df_selftext[(df_selftext.true_values == 1) & (df_selftext.bitcoin > .5)]['text']:\n",
    "#    print(i, '\\n')"
   ]
  },
  {
   "cell_type": "markdown",
   "id": "59369ca9-b50d-4b7f-8755-eed46ae0d4e8",
   "metadata": {},
   "source": [
    "# False Positives"
   ]
  },
  {
   "cell_type": "code",
   "execution_count": 89,
   "id": "cff65f21-f104-41ec-aebd-64588a6a0951",
   "metadata": {},
   "outputs": [],
   "source": [
    "bitcoinish_indexes = pred_df.loc[(pred_df['ethereum'] > .5) & (pred_df.true_values == 0)].index.values.astype(int)"
   ]
  },
  {
   "cell_type": "code",
   "execution_count": 90,
   "id": "2fede62f-836a-4f79-bd5c-a1252e6ab56d",
   "metadata": {},
   "outputs": [
    {
     "name": "stdout",
     "output_type": "stream",
     "text": [
      "sell bitcoin now buy back at k either end of or early if you must do something with bitcoin short it one of my source pretty easy to track his accuracy by looking at his video during big btc market shift he's not been wrong yet \n",
      "\n",
      "crypto mining starter s support hey y'all i am trying to get into crypto mining and i 't know how for any of you that had successful i would lo if any of you could help me by just answering to some question to help me get started \n",
      "\n",
      "you won't want to miss out on this reason why bitcoin btc is the ultimate instment in share your thought in the comment hello bitcoin enthusiast a we enter the new year i wanted to share some thought on why i belie bitcoin btc is a strong instment opportunity in while many people are aware of the more well known reason for insting in btc such a it limited supply and role a a store of value here are some lesser known factor to consider institutional adoption in recent year we ha seen an increasing number of institutional instors such a hedge fund and pension fund adding bitcoin to their portfolio this trend is likely to continue in which could provide a boost to the value of btc increasing use in deloping country bitcoin and other cryptocurrencies are being used more and more a a way to transfer money internationally especially in deloping country where traditional financial system may be le stable or accessible this trend could dri up demand for btc potential for further halvings bitcoin's block reward which is the amount of new btc issued with each block is set to hal again in this ent known a the halving ha historically had a positi impact on the price of btc infrastructure improments the bitcoin network is constantly evolving and improving with new technology being deloped to make it faster cheaper and more secure these improments could make btc a more appealing instment dirsification benefit adding bitcoin to a dirsified instment portfolio can potentially provide a hedge against market volatility and economic uncertainty what do you think of these reason do you belie that bitcoin is a smart instment in share your thought in the comment bitcoin cryptoinsting trend \n",
      "\n",
      "what hppens if there an extremely strong solar blast so i wa thinking bitcoin and all that business is fantastic but if we had an extreme solar flare which caused massi power surge and outage completely destroying the technological link we ha today could the blockchain be destroyed like im not talkin thunderstorm and candle for a week im talking is there the possibility of a total reset of info just curious \n",
      "\n",
      "security question about living off of bitcoin and traling so i wa visiting friend out of the country for christmas and i wa teaching one of them about bitcoin i walked them through downloading bluewallet sent them money via lightning etc and it got me thinking how could i li off of bitcoin completely if i'm traling do i just ha to make sure i put enough bitcoin on a hotwallet like my phone do i tral with a hardware wallet with my saving on it and keep the recory backup in my hometown in case i lose the hardware wallet \n",
      "\n",
      "the youtube algo ha gathered u once again the youtube algo ga today year ago enjoy s \n",
      "\n"
     ]
    }
   ],
   "source": [
    "for i in df_selftext.iloc[bitcoinish_indexes].text:\n",
    "    print(i,'\\n')"
   ]
  },
  {
   "cell_type": "code",
   "execution_count": null,
   "id": "f3cc5994-b515-4381-8387-803eb39181c5",
   "metadata": {},
   "outputs": [],
   "source": []
  },
  {
   "cell_type": "code",
   "execution_count": 91,
   "id": "96c2cd69-06e8-4262-9c71-d57e4d98d4c8",
   "metadata": {},
   "outputs": [],
   "source": [
    "#notes\n",
    "def class_from_prob(probabilities, threshold):\n",
    "\n",
    "    return [0 if prob < threshold else 1 for prob in probabilities]\n"
   ]
  },
  {
   "cell_type": "code",
   "execution_count": 92,
   "id": "582af7b7-4a7a-4dc4-adb5-d4d4b77ef6b4",
   "metadata": {},
   "outputs": [],
   "source": [
    "threshold_list = [round(i*.01,2) for i in range(0,101,)]\n",
    "speclist = []\n",
    "senslist = []\n",
    "f1list = []\n",
    "\n",
    "for threshold in threshold_list:\n",
    "    predicted_classes = class_from_prob(pred_df['ethereum'], threshold)\n",
    "    spec = specificity_score(y_test, predicted_classes)\n",
    "    sens = recall_score(y_test, predicted_classes, pos_label=1)\n",
    "    speclist.append(spec)\n",
    "    senslist.append(sens)\n",
    "    F1 = f1_score(y_test, predicted_classes)\n",
    "    f1list.append(F1)"
   ]
  },
  {
   "cell_type": "code",
   "execution_count": 93,
   "id": "0e2ec108-7b8d-4688-9104-d581ac83b484",
   "metadata": {},
   "outputs": [
    {
     "data": {
      "image/png": "[encoded data removed]",
      "text/plain": [
       "<Figure size 1000x500 with 1 Axes>"
      ]
     },
     "metadata": {},
     "output_type": "display_data"
    },
    {
     "data": {
      "text/plain": [
       "<Figure size 640x480 with 0 Axes>"
      ]
     },
     "metadata": {},
     "output_type": "display_data"
    }
   ],
   "source": [
    "%matplotlib inline\n",
    "fig = plt.figure(figsize = (10,5));\n",
    "ax1 = fig.add_subplot(111);\n",
    "\n",
    "ax1.scatter(x = threshold_list, y = speclist, s=10, c='b', marker=\"s\", label='specificity');\n",
    "ax1.scatter(x = threshold_list,y = senslist, s=10, c='r', marker=\"o\", label='sensitivity');\n",
    "ax1.scatter(x = threshold_list,y = f1list, s=10, c='g', marker=\"o\", label='F1 score');\n",
    "plt.legend(loc='upper left')\n",
    "plt.xlabel('Threshold');\n",
    "plt.ylabel('Score Value');\n",
    "plt.show();\n",
    "plt.tight_layout();\n"
   ]
  },
  {
   "cell_type": "code",
   "execution_count": null,
   "id": "08253d8b-ead8-4009-b2ad-4e82dc0b0ec8",
   "metadata": {},
   "outputs": [],
   "source": []
  },
  {
   "cell_type": "code",
   "execution_count": null,
   "id": "0c0ad90d-a813-4954-a0aa-e27966cf27fb",
   "metadata": {},
   "outputs": [],
   "source": []
  }
 ],
 "metadata": {
  "kernelspec": {
   "display_name": "Python 3 (ipykernel)",
   "language": "python",
   "name": "python3"
  },
  "language_info": {
   "codemirror_mode": {
    "name": "ipython",
    "version": 3
   },
   "file_extension": ".py",
   "mimetype": "text/x-python",
   "name": "python",
   "nbconvert_exporter": "python",
   "pygments_lexer": "ipython3",
   "version": "3.9.12"
  }
 },
 "nbformat": 4,
 "nbformat_minor": 5
}
