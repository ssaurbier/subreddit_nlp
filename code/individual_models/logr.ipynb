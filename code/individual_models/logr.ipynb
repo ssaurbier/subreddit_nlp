{
 "cells": [
  {
   "cell_type": "code",
   "execution_count": 193,
   "id": "26c8c700-69eb-476f-bc9d-27b0844d4ecc",
   "metadata": {},
   "outputs": [],
   "source": [
    "import pandas as pd\n",
    "import numpy as np\n",
    "from sklearn.model_selection import train_test_split, GridSearchCV, RandomizedSearchCV\n",
    "from sklearn.pipeline import Pipeline\n",
    "from sklearn.feature_extraction.text import CountVectorizer, TfidfVectorizer\n",
    "from sklearn.naive_bayes import MultinomialNB\n",
    "from sklearn.linear_model import LogisticRegression\n",
    "from sklearn.metrics import (confusion_matrix, ConfusionMatrixDisplay,\n",
    "    accuracy_score, roc_auc_score, recall_score,\n",
    "    precision_score, f1_score, RocCurveDisplay)\n",
    "from imblearn.metrics import specificity_score\n",
    "\n",
    "from nltk.stem import WordNetLemmatizer\n",
    "from nltk.corpus import stopwords\n",
    "import re\n",
    "\n",
    "\n",
    "\n",
    "from sklearn.neighbors import KNeighborsClassifier\n",
    "from sklearn.preprocessing import StandardScaler\n",
    "\n",
    "from sklearn.ensemble import StackingClassifier, RandomForestClassifier, GradientBoostingClassifier, BaggingClassifier\n",
    "\n",
    "\n",
    "\n",
    "import matplotlib.pyplot as plt\n"
   ]
  },
  {
   "cell_type": "code",
   "execution_count": 194,
   "id": "981011e9-558a-4aea-a2b4-981e641e43ee",
   "metadata": {},
   "outputs": [
    {
     "data": {
      "text/html": [
       "<div>\n",
       "<style scoped>\n",
       "    .dataframe tbody tr th:only-of-type {\n",
       "        vertical-align: middle;\n",
       "    }\n",
       "\n",
       "    .dataframe tbody tr th {\n",
       "        vertical-align: top;\n",
       "    }\n",
       "\n",
       "    .dataframe thead th {\n",
       "        text-align: right;\n",
       "    }\n",
       "</style>\n",
       "<table border=\"1\" class=\"dataframe\">\n",
       "  <thead>\n",
       "    <tr style=\"text-align: right;\">\n",
       "      <th></th>\n",
       "      <th>subreddit</th>\n",
       "      <th>text</th>\n",
       "    </tr>\n",
       "  </thead>\n",
       "  <tbody>\n",
       "    <tr>\n",
       "      <th>0</th>\n",
       "      <td>0</td>\n",
       "      <td>using electric water boiler to mine bitcoin th...</td>\n",
       "    </tr>\n",
       "    <tr>\n",
       "      <th>1</th>\n",
       "      <td>0</td>\n",
       "      <td>btc to usdt hello i am looking to swap a good ...</td>\n",
       "    </tr>\n",
       "  </tbody>\n",
       "</table>\n",
       "</div>"
      ],
      "text/plain": [
       "   subreddit                                               text\n",
       "0          0  using electric water boiler to mine bitcoin th...\n",
       "1          0  btc to usdt hello i am looking to swap a good ..."
      ]
     },
     "execution_count": 194,
     "metadata": {},
     "output_type": "execute_result"
    }
   ],
   "source": [
    "df_selftext = pd.read_csv('../data/cleaned_selftext.csv')\n",
    "df_notext = pd.read_csv('../data/cleaned_notext.csv')\n",
    "df_selftext.head(2)"
   ]
  },
  {
   "cell_type": "code",
   "execution_count": 195,
   "id": "5ab056b0-14e2-4203-9d9a-d0043cc0dc99",
   "metadata": {},
   "outputs": [
    {
     "name": "stdout",
     "output_type": "stream",
     "text": [
      "0    4017\n",
      "1     787\n",
      "Name: subreddit, dtype: int64\n"
     ]
    },
    {
     "data": {
      "text/plain": [
       "0    9938\n",
       "1    2059\n",
       "Name: subreddit, dtype: int64"
      ]
     },
     "execution_count": 195,
     "metadata": {},
     "output_type": "execute_result"
    }
   ],
   "source": [
    "print(df_selftext.subreddit.value_counts())\n",
    "df_notext.subreddit.value_counts()"
   ]
  },
  {
   "cell_type": "markdown",
   "id": "fd1b1d92-3bda-436a-b72d-d793579a6ae6",
   "metadata": {},
   "source": [
    "# Adding stop words to not make it too easy"
   ]
  },
  {
   "cell_type": "code",
   "execution_count": 196,
   "id": "61d99e0f-41dd-481e-944c-9e2463e4e429",
   "metadata": {},
   "outputs": [],
   "source": [
    "stop = list(stopwords.words('english'))\n",
    "stop.extend('btc eth bitcoin ethereum lightning vitalik wa ha amp text would get llet like nt know one use think http'.split())\n"
   ]
  },
  {
   "cell_type": "markdown",
   "id": "f6da16c5-29d2-4864-9d15-af9c9bb16bec",
   "metadata": {},
   "source": [
    "# Model"
   ]
  },
  {
   "cell_type": "code",
   "execution_count": 197,
   "id": "8552c791-8e62-481f-a684-7287bcde817a",
   "metadata": {},
   "outputs": [],
   "source": [
    "X = df_selftext.text\n",
    "y = df_selftext.subreddit"
   ]
  },
  {
   "cell_type": "code",
   "execution_count": 198,
   "id": "2a70c302-0e55-4339-8d17-af0b2959cada",
   "metadata": {},
   "outputs": [
    {
     "data": {
      "text/plain": [
       "0    0.836178\n",
       "1    0.163822\n",
       "Name: subreddit, dtype: float64"
      ]
     },
     "execution_count": 198,
     "metadata": {},
     "output_type": "execute_result"
    }
   ],
   "source": [
    "y.value_counts(normalize=True)"
   ]
  },
  {
   "cell_type": "code",
   "execution_count": 199,
   "id": "55061841-2e4b-4118-bd78-f0cbdf322687",
   "metadata": {},
   "outputs": [],
   "source": [
    "X_train, X_test, y_train, y_test = train_test_split(X,\n",
    "                                                    y,\n",
    "                                                    stratify=y,\n",
    "                                                    random_state=42)"
   ]
  },
  {
   "cell_type": "code",
   "execution_count": null,
   "id": "2e8c8136-b6d4-402d-8e22-c721e00ac597",
   "metadata": {},
   "outputs": [],
   "source": []
  },
  {
   "cell_type": "code",
   "execution_count": 200,
   "id": "ee29da9c-880d-4b49-8d59-c9e6feee1e06",
   "metadata": {},
   "outputs": [],
   "source": [
    "# Pipeline accepts multiple transformers, but only one vectorizer. See cgpt results:\n",
    "\n",
    "'''The error message is caused by the fact that you are trying to fit two different vectorizers (TfidfVectorizer and CountVectorizer) \n",
    "in the same pipeline, but only providing one input (X_train) to the pipeline. This is causing the pipeline to raise an error as it doesn't \n",
    "know which vectorizer to apply to the input. \n",
    "\n",
    "You can fix this by either removing one of the vectorizers or providing separate inputs to the pipeline for each vectorizer.'''\n",
    "\n",
    "\n",
    "logr_pipe = Pipeline([\n",
    "    ('tvec', TfidfVectorizer()),\n",
    "    #('cvec', CountVectorizer()),\n",
    "    ('logr', LogisticRegression())\n",
    "])"
   ]
  },
  {
   "cell_type": "code",
   "execution_count": 201,
   "id": "d3f71c4c-3fe4-40e6-93a7-10a3ba650c95",
   "metadata": {},
   "outputs": [],
   "source": [
    "logr_pipe_params = {\n",
    "    'tvec__max_features': range(600,800,5),\n",
    "    'tvec__stop_words': [stop],\n",
    "    'tvec__ngram_range': [(1,1), (1,2), (1,3),(2,3),(3,3)],\n",
    "    'logr__C': [.01, .1 ,.5 , 1.0, 2, 5, 10]\n",
    "    #'logr_penalty': ['l1', 'l2', 'elasticnet', None]\n",
    "    #'cvec__max_features': range(2500, 3500, 100),\n",
    "    #'cvec__min_df': range(1,5),\n",
    "    #'cvec__max_df': [i/100 for i in range(0, 100, 5)],\n",
    "    #'cvec__ngram_range': [(1,1),(1, 2), (1,3)]\n",
    "}"
   ]
  },
  {
   "cell_type": "code",
   "execution_count": 202,
   "id": "91d2879f-9997-4d7d-a96a-0e05a85d24eb",
   "metadata": {},
   "outputs": [],
   "source": [
    "rs = RandomizedSearchCV(logr_pipe, \n",
    "                  logr_pipe_params, \n",
    "                    cv = 5) "
   ]
  },
  {
   "cell_type": "code",
   "execution_count": 203,
   "id": "4b235a3f-2298-46e5-b1b0-b3195af7bb42",
   "metadata": {},
   "outputs": [
    {
     "data": {
      "text/plain": [
       "RandomizedSearchCV(cv=5,\n",
       "                   estimator=Pipeline(steps=[('tvec', TfidfVectorizer()),\n",
       "                                             ('logr', LogisticRegression())]),\n",
       "                   param_distributions={'logr__C': [0.01, 0.1, 0.5, 1.0, 2, 5,\n",
       "                                                    10],\n",
       "                                        'tvec__max_features': range(600, 800, 5),\n",
       "                                        'tvec__ngram_range': [(1, 1), (1, 2),\n",
       "                                                              (1, 3), (2, 3),\n",
       "                                                              (3, 3)],\n",
       "                                        'tvec__stop_words': [['i', 'me', 'my',\n",
       "                                                              'myself', 'we',\n",
       "                                                              'our', 'ours',\n",
       "                                                              'ourselves',\n",
       "                                                              'you', \"you're\",\n",
       "                                                              \"you've\",\n",
       "                                                              \"you'll\", \"you'd\",\n",
       "                                                              'your', 'yours',\n",
       "                                                              'yourself',\n",
       "                                                              'yourselves',\n",
       "                                                              'he', 'him',\n",
       "                                                              'his', 'himself',\n",
       "                                                              'she', \"she's\",\n",
       "                                                              'her', 'hers',\n",
       "                                                              'herself', 'it',\n",
       "                                                              \"it's\", 'its',\n",
       "                                                              'itself', ...]]})"
      ]
     },
     "execution_count": 203,
     "metadata": {},
     "output_type": "execute_result"
    }
   ],
   "source": [
    "rs.fit(X_train, y_train)"
   ]
  },
  {
   "cell_type": "code",
   "execution_count": 204,
   "id": "fd4d8670-aca3-4496-b239-f72b311730cc",
   "metadata": {},
   "outputs": [
    {
     "data": {
      "text/plain": [
       "dict_keys(['C', 'class_weight', 'dual', 'fit_intercept', 'intercept_scaling', 'l1_ratio', 'max_iter', 'multi_class', 'n_jobs', 'penalty', 'random_state', 'solver', 'tol', 'verbose', 'warm_start'])"
      ]
     },
     "execution_count": 204,
     "metadata": {},
     "output_type": "execute_result"
    }
   ],
   "source": [
    "LogisticRegression().get_params().keys()"
   ]
  },
  {
   "cell_type": "code",
   "execution_count": 205,
   "id": "022dd732-db57-4cb1-86a0-f75833b394fe",
   "metadata": {},
   "outputs": [
    {
     "name": "stdout",
     "output_type": "stream",
     "text": [
      "0.925895087427144\n"
     ]
    },
    {
     "data": {
      "text/plain": [
       "0.8975853455453788"
      ]
     },
     "execution_count": 205,
     "metadata": {},
     "output_type": "execute_result"
    }
   ],
   "source": [
    "#using all stopwords lowers scores to 0.8823747680890538 / 0.8654060066740823\n",
    "\n",
    "print(rs.score(X_train, y_train))\n",
    "rs.score(X_test, y_test)"
   ]
  },
  {
   "cell_type": "code",
   "execution_count": 206,
   "id": "883d8055-0e54-4203-a3f8-225b5cc95301",
   "metadata": {},
   "outputs": [],
   "source": [
    "#rs.best_params_"
   ]
  },
  {
   "cell_type": "code",
   "execution_count": 207,
   "id": "cb5cdfb7-2e92-4737-9d89-e95376019568",
   "metadata": {},
   "outputs": [],
   "source": [
    "preds = rs.predict(X_test)"
   ]
  },
  {
   "cell_type": "code",
   "execution_count": 208,
   "id": "948f87a2-ad5f-4bbd-b490-e3d60e1252a0",
   "metadata": {},
   "outputs": [
    {
     "data": {
      "image/png": "[encoded data removed]",
      "text/plain": [
       "<Figure size 640x480 with 2 Axes>"
      ]
     },
     "metadata": {},
     "output_type": "display_data"
    }
   ],
   "source": [
    "cm = confusion_matrix(y_test, preds)\n",
    "\n",
    "display = ConfusionMatrixDisplay(confusion_matrix = cm,\n",
    "                             display_labels = rs.classes_)\n",
    "\n",
    "display.plot();"
   ]
  },
  {
   "cell_type": "code",
   "execution_count": 209,
   "id": "ff26a2d1-3467-466d-b6d8-6d0e88ae30aa",
   "metadata": {},
   "outputs": [
    {
     "data": {
      "image/png": "[encoded data removed]",
      "text/plain": [
       "<Figure size 640x480 with 1 Axes>"
      ]
     },
     "metadata": {},
     "output_type": "display_data"
    }
   ],
   "source": [
    "# Basic ROC\n",
    "\n",
    "# cf ROC\n",
    "# create an ax object\n",
    "ax = plt.gca()\n",
    "\n",
    "# use RocCurveDisplay for both estimators\n",
    "RocCurveDisplay.from_estimator(rs, X_test, y_test, ax=ax, name='LOGR')\n",
    "\n",
    "# add 'worst case scenario' line\n",
    "plt.plot([0,1], [0,1], label='null hypothesis/mean', linestyle='--', color='gray')\n",
    "\n",
    "# necessary to label the baseline\n",
    "plt.legend();"
   ]
  },
  {
   "cell_type": "markdown",
   "id": "761e53ee-effa-4e32-baf6-60ae7a489058",
   "metadata": {},
   "source": [
    "# Preds analysis"
   ]
  },
  {
   "cell_type": "code",
   "execution_count": 210,
   "id": "8f8d17ab-6c5c-4a12-8ad6-3699cced8f90",
   "metadata": {},
   "outputs": [
    {
     "data": {
      "text/html": [
       "<div>\n",
       "<style scoped>\n",
       "    .dataframe tbody tr th:only-of-type {\n",
       "        vertical-align: middle;\n",
       "    }\n",
       "\n",
       "    .dataframe tbody tr th {\n",
       "        vertical-align: top;\n",
       "    }\n",
       "\n",
       "    .dataframe thead th {\n",
       "        text-align: right;\n",
       "    }\n",
       "</style>\n",
       "<table border=\"1\" class=\"dataframe\">\n",
       "  <thead>\n",
       "    <tr style=\"text-align: right;\">\n",
       "      <th></th>\n",
       "      <th>bitcoin</th>\n",
       "      <th>ethereum</th>\n",
       "      <th>true_values</th>\n",
       "    </tr>\n",
       "  </thead>\n",
       "  <tbody>\n",
       "    <tr>\n",
       "      <th>0</th>\n",
       "      <td>0.977709</td>\n",
       "      <td>0.022291</td>\n",
       "      <td>0</td>\n",
       "    </tr>\n",
       "    <tr>\n",
       "      <th>1</th>\n",
       "      <td>0.467014</td>\n",
       "      <td>0.532986</td>\n",
       "      <td>1</td>\n",
       "    </tr>\n",
       "    <tr>\n",
       "      <th>2</th>\n",
       "      <td>0.967651</td>\n",
       "      <td>0.032349</td>\n",
       "      <td>0</td>\n",
       "    </tr>\n",
       "    <tr>\n",
       "      <th>3</th>\n",
       "      <td>0.948238</td>\n",
       "      <td>0.051762</td>\n",
       "      <td>0</td>\n",
       "    </tr>\n",
       "    <tr>\n",
       "      <th>4</th>\n",
       "      <td>0.935816</td>\n",
       "      <td>0.064184</td>\n",
       "      <td>0</td>\n",
       "    </tr>\n",
       "  </tbody>\n",
       "</table>\n",
       "</div>"
      ],
      "text/plain": [
       "    bitcoin  ethereum  true_values\n",
       "0  0.977709  0.022291            0\n",
       "1  0.467014  0.532986            1\n",
       "2  0.967651  0.032349            0\n",
       "3  0.948238  0.051762            0\n",
       "4  0.935816  0.064184            0"
      ]
     },
     "execution_count": 210,
     "metadata": {},
     "output_type": "execute_result"
    }
   ],
   "source": [
    "pred_df = pd.DataFrame(rs.predict_proba(X_test),columns=['bitcoin', 'ethereum'])\n",
    "\n",
    "pred_df['true_values'] = y_test.values\n",
    "\n",
    "pred_df.head()\n"
   ]
  },
  {
   "cell_type": "code",
   "execution_count": 211,
   "id": "5f42cfdd-3534-40e2-9e3a-48b8f64157e4",
   "metadata": {},
   "outputs": [],
   "source": [
    "full_pred_df = pd.DataFrame(rs.predict_proba(X),columns=['bitcoin', 'ethereum'])"
   ]
  },
  {
   "cell_type": "code",
   "execution_count": 212,
   "id": "55793ae7-36d6-4115-acab-a579a29c9d7c",
   "metadata": {},
   "outputs": [
    {
     "data": {
      "text/html": [
       "<div>\n",
       "<style scoped>\n",
       "    .dataframe tbody tr th:only-of-type {\n",
       "        vertical-align: middle;\n",
       "    }\n",
       "\n",
       "    .dataframe tbody tr th {\n",
       "        vertical-align: top;\n",
       "    }\n",
       "\n",
       "    .dataframe thead th {\n",
       "        text-align: right;\n",
       "    }\n",
       "</style>\n",
       "<table border=\"1\" class=\"dataframe\">\n",
       "  <thead>\n",
       "    <tr style=\"text-align: right;\">\n",
       "      <th></th>\n",
       "      <th>bitcoin</th>\n",
       "      <th>ethereum</th>\n",
       "      <th>true_values</th>\n",
       "    </tr>\n",
       "  </thead>\n",
       "  <tbody>\n",
       "    <tr>\n",
       "      <th>0</th>\n",
       "      <td>0.994544</td>\n",
       "      <td>0.005456</td>\n",
       "      <td>0</td>\n",
       "    </tr>\n",
       "    <tr>\n",
       "      <th>1</th>\n",
       "      <td>0.974616</td>\n",
       "      <td>0.025384</td>\n",
       "      <td>0</td>\n",
       "    </tr>\n",
       "    <tr>\n",
       "      <th>2</th>\n",
       "      <td>0.948950</td>\n",
       "      <td>0.051050</td>\n",
       "      <td>0</td>\n",
       "    </tr>\n",
       "    <tr>\n",
       "      <th>3</th>\n",
       "      <td>0.989694</td>\n",
       "      <td>0.010306</td>\n",
       "      <td>0</td>\n",
       "    </tr>\n",
       "    <tr>\n",
       "      <th>4</th>\n",
       "      <td>0.984183</td>\n",
       "      <td>0.015817</td>\n",
       "      <td>0</td>\n",
       "    </tr>\n",
       "  </tbody>\n",
       "</table>\n",
       "</div>"
      ],
      "text/plain": [
       "    bitcoin  ethereum  true_values\n",
       "0  0.994544  0.005456            0\n",
       "1  0.974616  0.025384            0\n",
       "2  0.948950  0.051050            0\n",
       "3  0.989694  0.010306            0\n",
       "4  0.984183  0.015817            0"
      ]
     },
     "execution_count": 212,
     "metadata": {},
     "output_type": "execute_result"
    }
   ],
   "source": [
    "full_pred_df['true_values'] = y.values\n",
    "\n",
    "full_pred_df.head()"
   ]
  },
  {
   "cell_type": "code",
   "execution_count": 213,
   "id": "e49382d5-4ef0-47b2-abb0-f206fe9b03fe",
   "metadata": {},
   "outputs": [],
   "source": [
    "df_selftext = df_selftext.join(full_pred_df)"
   ]
  },
  {
   "cell_type": "code",
   "execution_count": 214,
   "id": "e0a418c4-78ef-4d19-911b-3a37d8c42930",
   "metadata": {},
   "outputs": [
    {
     "data": {
      "text/html": [
       "<div>\n",
       "<style scoped>\n",
       "    .dataframe tbody tr th:only-of-type {\n",
       "        vertical-align: middle;\n",
       "    }\n",
       "\n",
       "    .dataframe tbody tr th {\n",
       "        vertical-align: top;\n",
       "    }\n",
       "\n",
       "    .dataframe thead th {\n",
       "        text-align: right;\n",
       "    }\n",
       "</style>\n",
       "<table border=\"1\" class=\"dataframe\">\n",
       "  <thead>\n",
       "    <tr style=\"text-align: right;\">\n",
       "      <th></th>\n",
       "      <th>subreddit</th>\n",
       "      <th>text</th>\n",
       "      <th>bitcoin</th>\n",
       "      <th>ethereum</th>\n",
       "      <th>true_values</th>\n",
       "    </tr>\n",
       "  </thead>\n",
       "  <tbody>\n",
       "    <tr>\n",
       "      <th>4793</th>\n",
       "      <td>1</td>\n",
       "      <td>polygon matic is not beneficial to ethereum an...</td>\n",
       "      <td>0.001235</td>\n",
       "      <td>0.998765</td>\n",
       "      <td>1</td>\n",
       "    </tr>\n",
       "    <tr>\n",
       "      <th>4043</th>\n",
       "      <td>1</td>\n",
       "      <td>idea fully decentralized pixel war with decent...</td>\n",
       "      <td>0.002903</td>\n",
       "      <td>0.997097</td>\n",
       "      <td>1</td>\n",
       "    </tr>\n",
       "    <tr>\n",
       "      <th>4673</th>\n",
       "      <td>1</td>\n",
       "      <td>how to send my moon out of metamask into mexc ...</td>\n",
       "      <td>0.003812</td>\n",
       "      <td>0.996188</td>\n",
       "      <td>1</td>\n",
       "    </tr>\n",
       "    <tr>\n",
       "      <th>4138</th>\n",
       "      <td>1</td>\n",
       "      <td>which design would you prefer if metamask is r...</td>\n",
       "      <td>0.004183</td>\n",
       "      <td>0.995817</td>\n",
       "      <td>1</td>\n",
       "    </tr>\n",
       "    <tr>\n",
       "      <th>4621</th>\n",
       "      <td>1</td>\n",
       "      <td>fifacup win we are li on pinksale presale time...</td>\n",
       "      <td>0.004708</td>\n",
       "      <td>0.995292</td>\n",
       "      <td>1</td>\n",
       "    </tr>\n",
       "    <tr>\n",
       "      <th>...</th>\n",
       "      <td>...</td>\n",
       "      <td>...</td>\n",
       "      <td>...</td>\n",
       "      <td>...</td>\n",
       "      <td>...</td>\n",
       "    </tr>\n",
       "    <tr>\n",
       "      <th>4137</th>\n",
       "      <td>1</td>\n",
       "      <td>accidentally transferred tether to my coinbase...</td>\n",
       "      <td>0.075649</td>\n",
       "      <td>0.924351</td>\n",
       "      <td>1</td>\n",
       "    </tr>\n",
       "    <tr>\n",
       "      <th>4213</th>\n",
       "      <td>1</td>\n",
       "      <td>how to get grant how do i apply for grant from...</td>\n",
       "      <td>0.076675</td>\n",
       "      <td>0.923325</td>\n",
       "      <td>1</td>\n",
       "    </tr>\n",
       "    <tr>\n",
       "      <th>4785</th>\n",
       "      <td>1</td>\n",
       "      <td>introduction of clash card strategy trading ca...</td>\n",
       "      <td>0.076856</td>\n",
       "      <td>0.923144</td>\n",
       "      <td>1</td>\n",
       "    </tr>\n",
       "    <tr>\n",
       "      <th>3929</th>\n",
       "      <td>0</td>\n",
       "      <td>nft project looking for instors hello guy smal...</td>\n",
       "      <td>0.079466</td>\n",
       "      <td>0.920534</td>\n",
       "      <td>0</td>\n",
       "    </tr>\n",
       "    <tr>\n",
       "      <th>4310</th>\n",
       "      <td>1</td>\n",
       "      <td>what do you think a mature gamefi project need...</td>\n",
       "      <td>0.080778</td>\n",
       "      <td>0.919222</td>\n",
       "      <td>1</td>\n",
       "    </tr>\n",
       "  </tbody>\n",
       "</table>\n",
       "<p>100 rows × 5 columns</p>\n",
       "</div>"
      ],
      "text/plain": [
       "      subreddit                                               text   bitcoin  \\\n",
       "4793          1  polygon matic is not beneficial to ethereum an...  0.001235   \n",
       "4043          1  idea fully decentralized pixel war with decent...  0.002903   \n",
       "4673          1  how to send my moon out of metamask into mexc ...  0.003812   \n",
       "4138          1  which design would you prefer if metamask is r...  0.004183   \n",
       "4621          1  fifacup win we are li on pinksale presale time...  0.004708   \n",
       "...         ...                                                ...       ...   \n",
       "4137          1  accidentally transferred tether to my coinbase...  0.075649   \n",
       "4213          1  how to get grant how do i apply for grant from...  0.076675   \n",
       "4785          1  introduction of clash card strategy trading ca...  0.076856   \n",
       "3929          0  nft project looking for instors hello guy smal...  0.079466   \n",
       "4310          1  what do you think a mature gamefi project need...  0.080778   \n",
       "\n",
       "      ethereum  true_values  \n",
       "4793  0.998765            1  \n",
       "4043  0.997097            1  \n",
       "4673  0.996188            1  \n",
       "4138  0.995817            1  \n",
       "4621  0.995292            1  \n",
       "...        ...          ...  \n",
       "4137  0.924351            1  \n",
       "4213  0.923325            1  \n",
       "4785  0.923144            1  \n",
       "3929  0.920534            0  \n",
       "4310  0.919222            1  \n",
       "\n",
       "[100 rows x 5 columns]"
      ]
     },
     "execution_count": 214,
     "metadata": {},
     "output_type": "execute_result"
    }
   ],
   "source": [
    "df_selftext.sort_values(by = 'bitcoin')[0:100]"
   ]
  },
  {
   "cell_type": "markdown",
   "id": "4889bd8d-f32a-43e1-a224-9ea2a5eb6e9a",
   "metadata": {},
   "source": [
    "# Which bitcoin users are most susceptible to eth (or are we just modeling words)"
   ]
  },
  {
   "cell_type": "code",
   "execution_count": 215,
   "id": "afd61e39-5369-495f-9082-219e0ea16e24",
   "metadata": {},
   "outputs": [
    {
     "data": {
      "text/html": [
       "<div>\n",
       "<style scoped>\n",
       "    .dataframe tbody tr th:only-of-type {\n",
       "        vertical-align: middle;\n",
       "    }\n",
       "\n",
       "    .dataframe tbody tr th {\n",
       "        vertical-align: top;\n",
       "    }\n",
       "\n",
       "    .dataframe thead th {\n",
       "        text-align: right;\n",
       "    }\n",
       "</style>\n",
       "<table border=\"1\" class=\"dataframe\">\n",
       "  <thead>\n",
       "    <tr style=\"text-align: right;\">\n",
       "      <th></th>\n",
       "      <th>subreddit</th>\n",
       "      <th>text</th>\n",
       "      <th>bitcoin</th>\n",
       "      <th>ethereum</th>\n",
       "      <th>true_values</th>\n",
       "    </tr>\n",
       "  </thead>\n",
       "  <tbody>\n",
       "    <tr>\n",
       "      <th>4163</th>\n",
       "      <td>1</td>\n",
       "      <td>how optimism is hosted at etherscan subdomain ...</td>\n",
       "      <td>0.989764</td>\n",
       "      <td>0.010236</td>\n",
       "      <td>1</td>\n",
       "    </tr>\n",
       "    <tr>\n",
       "      <th>4622</th>\n",
       "      <td>1</td>\n",
       "      <td>anyone else ner heard of ftx or sbf just got t...</td>\n",
       "      <td>0.987977</td>\n",
       "      <td>0.012023</td>\n",
       "      <td>1</td>\n",
       "    </tr>\n",
       "    <tr>\n",
       "      <th>4494</th>\n",
       "      <td>1</td>\n",
       "      <td>mining guy what do you think of the innovation...</td>\n",
       "      <td>0.987883</td>\n",
       "      <td>0.012117</td>\n",
       "      <td>1</td>\n",
       "    </tr>\n",
       "    <tr>\n",
       "      <th>4393</th>\n",
       "      <td>1</td>\n",
       "      <td>selling eth same day in canada is there a way ...</td>\n",
       "      <td>0.986242</td>\n",
       "      <td>0.013758</td>\n",
       "      <td>1</td>\n",
       "    </tr>\n",
       "    <tr>\n",
       "      <th>4564</th>\n",
       "      <td>1</td>\n",
       "      <td>anywhere safe i can keep my eth till my ledger...</td>\n",
       "      <td>0.980966</td>\n",
       "      <td>0.019034</td>\n",
       "      <td>1</td>\n",
       "    </tr>\n",
       "    <tr>\n",
       "      <th>...</th>\n",
       "      <td>...</td>\n",
       "      <td>...</td>\n",
       "      <td>...</td>\n",
       "      <td>...</td>\n",
       "      <td>...</td>\n",
       "    </tr>\n",
       "    <tr>\n",
       "      <th>4140</th>\n",
       "      <td>1</td>\n",
       "      <td>is there some obscure use case scenario where ...</td>\n",
       "      <td>0.507206</td>\n",
       "      <td>0.492794</td>\n",
       "      <td>1</td>\n",
       "    </tr>\n",
       "    <tr>\n",
       "      <th>4217</th>\n",
       "      <td>1</td>\n",
       "      <td>visa is looking at way it can help the ethereu...</td>\n",
       "      <td>0.505082</td>\n",
       "      <td>0.494918</td>\n",
       "      <td>1</td>\n",
       "    </tr>\n",
       "    <tr>\n",
       "      <th>4030</th>\n",
       "      <td>1</td>\n",
       "      <td>kzg ceremony li help scale ethereum month for ...</td>\n",
       "      <td>0.504457</td>\n",
       "      <td>0.495543</td>\n",
       "      <td>1</td>\n",
       "    </tr>\n",
       "    <tr>\n",
       "      <th>4114</th>\n",
       "      <td>1</td>\n",
       "      <td>bitcasino io the world s first licensed crypto...</td>\n",
       "      <td>0.504293</td>\n",
       "      <td>0.495707</td>\n",
       "      <td>1</td>\n",
       "    </tr>\n",
       "    <tr>\n",
       "      <th>4139</th>\n",
       "      <td>1</td>\n",
       "      <td>i inst i'm eth use of vitalik buterin i' been ...</td>\n",
       "      <td>0.500785</td>\n",
       "      <td>0.499215</td>\n",
       "      <td>1</td>\n",
       "    </tr>\n",
       "  </tbody>\n",
       "</table>\n",
       "<p>334 rows × 5 columns</p>\n",
       "</div>"
      ],
      "text/plain": [
       "      subreddit                                               text   bitcoin  \\\n",
       "4163          1  how optimism is hosted at etherscan subdomain ...  0.989764   \n",
       "4622          1  anyone else ner heard of ftx or sbf just got t...  0.987977   \n",
       "4494          1  mining guy what do you think of the innovation...  0.987883   \n",
       "4393          1  selling eth same day in canada is there a way ...  0.986242   \n",
       "4564          1  anywhere safe i can keep my eth till my ledger...  0.980966   \n",
       "...         ...                                                ...       ...   \n",
       "4140          1  is there some obscure use case scenario where ...  0.507206   \n",
       "4217          1  visa is looking at way it can help the ethereu...  0.505082   \n",
       "4030          1  kzg ceremony li help scale ethereum month for ...  0.504457   \n",
       "4114          1  bitcasino io the world s first licensed crypto...  0.504293   \n",
       "4139          1  i inst i'm eth use of vitalik buterin i' been ...  0.500785   \n",
       "\n",
       "      ethereum  true_values  \n",
       "4163  0.010236            1  \n",
       "4622  0.012023            1  \n",
       "4494  0.012117            1  \n",
       "4393  0.013758            1  \n",
       "4564  0.019034            1  \n",
       "...        ...          ...  \n",
       "4140  0.492794            1  \n",
       "4217  0.494918            1  \n",
       "4030  0.495543            1  \n",
       "4114  0.495707            1  \n",
       "4139  0.499215            1  \n",
       "\n",
       "[334 rows x 5 columns]"
      ]
     },
     "execution_count": 215,
     "metadata": {},
     "output_type": "execute_result"
    }
   ],
   "source": [
    "df_selftext[(df_selftext.true_values == 1) & (df_selftext.bitcoin > .5)].sort_values(by = 'bitcoin', ascending = False)"
   ]
  },
  {
   "cell_type": "code",
   "execution_count": 216,
   "id": "b184fa86-3fb5-4c99-bc4a-2ee692bccd80",
   "metadata": {},
   "outputs": [],
   "source": [
    "#for i in df_selftext[(df_selftext.true_values == 1) & (df_selftext.bitcoin > .5)]['text']:\n",
    "#    print(i, '\\n')"
   ]
  },
  {
   "cell_type": "markdown",
   "id": "234f3028-63b6-486b-a00d-aa3ddbc45a03",
   "metadata": {},
   "source": [
    "# Eth posts with bitcoin flavor (False negatives)"
   ]
  },
  {
   "cell_type": "code",
   "execution_count": 217,
   "id": "cff65f21-f104-41ec-aebd-64588a6a0951",
   "metadata": {},
   "outputs": [],
   "source": [
    "bitcoinish_indexes = pred_df.loc[(pred_df['bitcoin'] > .5) & (pred_df.true_values == 1)].index.values.astype(int)"
   ]
  },
  {
   "cell_type": "code",
   "execution_count": 218,
   "id": "2fede62f-836a-4f79-bd5c-a1252e6ab56d",
   "metadata": {},
   "outputs": [
    {
     "name": "stdout",
     "output_type": "stream",
     "text": [
      "i know i'll get roasted but is there anyone willing to allow me to borrow btc i gambled with the wrong people and now they are threatening me my family i had planned on getting it by today but it will be late tonight but for sure tomorrow i will pay anyone back who help me en if i ha to pay interest \n",
      "\n",
      "bitcoin superiority bitcoin superiorityi ha seen some argument here claiming bitcoin won't work and how visa is a better payment service this is obviously wrong to anyone who ha attended elementary school the name what sound cooler visa or lightning network one sound like something illegals use to sneak into my country the other sound like something the roman god posei rain down upon the poor people you cannot hide a visa card under a birdbath since plastic is biodegradeable community ha you er had a friend try to sell you on the virtue of visa ha you er gone to a pot luck with your visa buddy didnt think so ceo do you know the ceo of visa i certainly t know his name i assume it a man since no one would hire a female ceo on the other hand i know the ceo of bitcoin is michael saylor all of the crypto leader are so confident in their product that they are frequently giving interview i ha yet to see a ceo gi a much access a sbf bitcoin is better for the environment can you charge a visa like a battery decentralization visa is located in san francisco bitcoin is erywhere and nowhere simultaneously it could be in the bahamas with sam in narnia with cz or in india with gerald cotten immutability i ha muted visa on seral occasion personal finance bitcoin help people sa their money who do you think will blow all of their money person a who can go on amazon where their visa is sad and click buy or person b who ha to break out their treasure map and pirate costume and start digging up their yard any time they want to make a purchase the costume might not be necessary but it always help get me in the right frame of mind technology blockchain is state of the art and bitcoin is still brand new at year old people who use visa and frequent this sub probably prefer carrier pigeon or the internet i could spend all day talking to you about the benefit of bitcoin but i will sa that for my coworkers \n",
      "\n",
      "is there or is there not a btc etf i am seeing erwhere contradicti comment about the publicity let alone availablility of this financial tool and if it is real why are there so many video asking about when an etf for btc is coming out \n",
      "\n",
      "ln wallet opinion hi eryone i' been a year trying to learn about bitcoin and how it work now i'm looking for ln and i would like to know your opinion of actual ln wallet which one you recommend i' been playing with wallet of satoshi but it's custodial so obviously i han't put too many satoshis in there i' only used it to try thing out i'm searching for review of non custodial wallet thanks in advance for all answer \n",
      "\n",
      "btc hey eryone i wanted to see what you all thought of this btc rise \n",
      "\n",
      "mining bitcoin greedy machine i belie in bitcoin a the future of the global digital currency by the way i am now trying to mine bitcoin through the nft hold greedy machine i like it use i 't ha to think about hardware especially since bitcoin can only be mined on special machine like asics for exle \n",
      "\n",
      "superannuation k in australia we ha superannuation which is like a retirement fund equivalent to k in america i ha just changed or to self managed so i can inst in btc do the retirement fund in your country allow you to inst in btc \n",
      "\n",
      "bitcoin retailer quiz if say of bitcoin wa owned by retailer and retailer rallied like they did with gme the bitcoin price would obviously continue to rise until the retailer decide for it to stop at that inflection point what percentage of retailer would loose out and how bad would it be hopefully there s a mathematician among u to answer this mathematically \n",
      "\n",
      "bitcoin bitcoin is still bullish tightly hold your gem to ha awesome profit \n",
      "\n",
      "btc were traded in nezuela last week using only localbitcoins monthly minimum wage closer to usd hi like to post this here too wanted to share this week stats btc were traded last week a btc drop from last week localbitcoin is the only exchange with an api so we can see their stats it's not used that much anymore or k btc were traded there year ago king are binance airtm reser and others one btc is traderd around b bolivar monthly minimum wage is b and exchange rate is around usd b arage wage is around usd and inflation la been crazy last month i ha been a bit anxious and depressed about that people use crypto to avoid inflation recei remittance and exchange mining profit a i always say electricity is free for now some source s s s s s \n",
      "\n",
      "i ha a sat balance in a lightning wallet how do i send it out i ha a bluewallet lightning balance of sat is there any way to send it out to a different lightning address to bring my bluewallet balance to zero \n",
      "\n",
      "instimentos com a reação do bitcoin será que tem alguma cripto que irá fazer a diferença pergunta qual é sua estratégia de instimento já instiu ante ou está pensando em começar \n",
      "\n",
      "who s buying btc the last hour is it institutional whale non western country somehow i t think it s podunks like me i m just glad i held what i ha and hold the key \n",
      "\n",
      "bad and great hey all i just want to remember about some little topic i had to say to myself today i wa little mad my little boy and myself are ill again and btc price went up much faster than i can stack sat with my little worker money i ha a dream to be someday part of the million club en when it is almost impossible but then told myself how great it is for all the people which are financial poorer in country like africa south america etc they can buy more now they see a currency which is gaining buying power instead of constantly loosing it like their own legal tender fiat currency so it is realy great stack sat and use it like intended stay safe and healthy guy greeting and t be mad \n",
      "\n",
      "wall street journal silent on bitcoin rally i searched the entire online publication intently and found no mention of the fact that the price of bitcoin ha risen in day there wa unrelenting corage of exchange and cefi company imploding along with the price of btc i assume they feel their readership is only interested in hearing about bitcoin failing since of them t own any \n",
      "\n",
      "re use of an address is it ok to continually send bitcoin to the same address a long a you ner spend from that address i know it's bad to re use but what constitutes a use is use making the blockchain aware of your address by sending money there or doe use mean signing a transaction and sending money out of the address or both is it an appropriate mean of storing bitcoin by creating an address offline with dice throw and pencil and paper then sending your bitcoin off the exchange to that single address many time or and or bitcoin would ner be sent out of the address only in \n",
      "\n",
      "where do you buy your bitcoin and why before transferring to a wallet where do you buy why is your choice a good choice \n",
      "\n",
      "when inflation ha peaked the bottom wa in for the s p for the last year why are people still scared to inst when you ha these fact i think most people t know about these fact i would like to know youre opinion about this \n",
      "\n",
      "bitcoin actually ha an infinite supply bitcoin is valued high use of the belief of scarcity when in fact the amount of bitcoin is limited to the amount of wallet a blockchain can create bitcoin can be divided into and to different wallet this process can continue indefinitely dividing bitcoin all the way down the decimal limited to how many wallet can be created posting here to see what people ha to say \n",
      "\n",
      "node trouble so i'm not sure where to post this it not a bitcoin problem but fall under the running a node category my setup wa like this debian on an optiplex gt core gui gt tor gt fulcrum gt mempool space instance it ran fine for a few month and i wa stoked prolly the most stable node i built so far but today i noticed that core gui crashed no big deal i restarted only day behind whater i noticed that core wa having issue finding peer so i disabled tor and restarted still cant find peer check my nic seemed to be a nic issue so i restarted the pc this is when the real issue started when booting debain i got an error saying failed to start mariadb and another error saying failed to start anonymization layer for tcp i'm guessing this is tor still not on this and the rest of the gui failed to start the odd bit wa i could ssh into the pc and when i checked my systemctl fulcrum wa still running and i could bring up my mempool instance but nginx wa not serving it correctly so i got a on my lan whater so i guess my question is this do i nuke and pa can this be recored im leaning towards nuke and pa but if debain is going to shit out on me like this what o should i use next should i fully aban gui i use pop o a my daily drir and it amazing but i thought debain wa supposed to be extremely stable hence me using it a a serr i use debain a lot so this really confuses me i guess im just at a loss here and hoping reddit will bless me with some direction to go in i can boot into recory so ill sa all my conf file but boy howdy am i getting sick of rebuilding a node ery few month also thank the tech god i wa not running ln or this would be x worse thanks in advance \n",
      "\n",
      "blockchain com transaction say in review sending btc from my one bitcoin wallet to another so i can withdrawal and it say pending and in review they also just charged me automatically and there is no receipt or credit added to my account wtf is this b \n",
      "\n",
      "capital gain when conrting alt to btc than selling for cash we are all maximalists here but let s just say i threw some money into an alt hold it for a while it pump massi and i want to sell it for btc than for cash when the btc sell for cash is it short term or long term capital gain \n",
      "\n",
      "why is bitcoin going up doe anybody understand why the \n",
      "\n",
      "can i create a multisig wallet where signer is mandatory and the others can be of or a per title i'm wondering if i can create a multisig wallet of key sign to confirm a tax but one of them to be mandatory ie key ha to sign and then the tx would require of the other key to sign a well is this possible \n",
      "\n",
      "should i be worried just started using wasabi wallet for my bitcoin whats the difference between these \n",
      "\n",
      "based on this chart doe it show that about of address hold more than btc know it not perfect in showing true distribution due to single person having multiple address and many different people holding in exchange address but just curious if i am reading the chart correctly \n",
      "\n",
      "i need some help i sent money to an address but is say there is no activity yet when i view it on the block chain it say this address ha no activity yet what is going on \n",
      "\n",
      "bitcoin will keep central bank in check but how will it replace them wouldn't central bank be incentivised to compete for survival rather than gi up \n",
      "\n",
      "which news service are most trustworthy which news service are most trustworthy concerning bc forbes today commented how bc struggle to get past cointelegraph is calling for someone else is still calling for yet bc seems to do what it doe and be what it is supposed to be thank you in advance \n",
      "\n",
      "buying btc pp can you recommend pp exchange where i could buy btc with lower fee compared to other pp exchange and expect to settle the trade pretty fast i m from europe so it s either sepa or wise i looked into bisq but it seemed it could take a while and also the security deposit and limit \n",
      "\n",
      "my new bank is me i bought some btc way back then pretty much hodled it a the term said then came covid and lost my job for month time got tough all around and had to use some of that btc to make end meet hell btc wa at k back then unexpected expense bill etc today i ha my job and back on the regular payroll btc hit k and i' been buying my btcs back if bitcoin should go up again it'll be like getting all those bill at a discount i literally lent myself some money i'm my own bank there's more that meet the eye to btc get a little hang on to it and use it wisely \n",
      "\n",
      "coin tracker iv just started using my cl card from ledger ha anyone got any coin tracking software recommendation il will need a uk capitol gain report what do you use and why \n",
      "\n",
      "is bitcoin rigged from the start 't get me wrong i'm a wholecoiner myself i belie in a system better than the one were suffering in hower it seems that similar to the system we li in in the bitcoin ecosystem the percent u are fighting for scrap a per usual what's your thought on this \n",
      "\n",
      "dealing with variance hi all what do you find the best approach to be in term of preserving your mental health and wellbeing whilst hodl ing i imagine it can get ry stressful with the variance so i m seeking to learn from those of you who ha weathered the ups and down what are your tip to preserving your well being en during the serious down turn \n",
      "\n",
      "multi ndor multi sig sparrow wallet one of if not the best self soreign solution to self custody there is a lot of fear around setting up a multi sig wallet whether it's the setup itself or the fear of restoring the wallet from scratch it can be intimidating to mo from single sig into the wonderful world of multi sig but it's worth it a your stack grows to be a more and more substantial part of your wealth so will the fear of losing your stack via a single point of failure with single sig i know that there are way to create redundancy and security with single sig e g sd card wallet backup multiple seedphrase location passphrases but i would argue that if you are willing to create redundancy and extra security with single sig you already ha the motivation and likely the technical expertise to mo to multi sig so enter multi ndor multi sig sparrow first why multi sig in general there are two major compelling reason for multi sig redundancy from single key loss or theft this one is obvious plausible deniability in a wrench attack this second one wa the main one that made me mo to multi sig in the er increasing world of data leak and kyc it ha become almost impossible to stay incognito a a bitcoiner having multi sig make the effort to physically coerce you so much more difficult if an attacker ha to transport you to another location especially if it's a public place like a bank security deposit box and a multi sig becomes the norm then physically coerci attack become le tempting a a whole in the space second sparrow wallet make multi sig setup a breeze to start it's open source the ui is so much more user friendly than electrum and it automatically prompt super important step like downloading the backup script to restore the wallet it ha been formatted to work seamlessly with almost all the major hardware wallet finally why multi ndor multi sig why not just coldcards in a of setup or trezors in a of setup by creating a setup where no ndor ha a quorum of key e g coldcards bitboxes trezor you remo that tiny little worry that one of the company could be malicious and ha somehow gotten your key either via a usb connection or incomplete entropy at key generation or that you' been the target of a supply chain attack technically you should en be able to trust closed source hardware wallet e g ledger in a setup like this still recommending open source though a a matter of principle in the bitcoin space hower if you go down this route these are the absolute imperatis to setting up a multi sig wallet you must backup your wallet and store a copy of all the xpubs preferably in both electronic and physical form if you need to restore your wallet from scratch you will need the xpubs of all the key not just a quorum this is by far the biggest pitfall of multi sig luckily sparrow prompt you to create this backup at the time of wallet creation at least preferably all of your hardware wallet need to be able to rify the multi sig wallet including the xpubs of all signer on the device i won't go into too much detail but malware could insert additional cosigner at the time of wallet creation so you need an external validation of the wallet setup hardware wallet that i know can do this from personal experience are bitbox coldcard and foundation passport i'm sure there are others but i can't speak to those this applies to both single and multi sig but you should always rify send and recei address on the hardware device itself i will plug for foundation passport on this one they make recei address rification via qr code ry streamlined there's a lot more to the actual use of multisig including using psbts with certain hardware wallet but these actually 't differ from single sig other than having to do it multiple time rather than just once per transaction i could go on and on about other aspect of v of storage location of key seedless setup but this post is getting long if you are interested in seeing sparrow in action with multi sig here's a great video that finally prompted me to go with sparrow s multisig start at \n",
      "\n",
      "i can afford bitcoin is it worth buying now i'm a micro cap altcoin degenerate so a far a bitcoin go i ha no fucking clue what i'm doing should i sacrifice k and pray \n",
      "\n",
      "ftx why the crash wasn't be so big i'm always surprise to see how the ftx story doesn't impact so much the btc price do you think the same maybe it will crash later but i 't think so maybe a good signal for the future \n",
      "\n",
      "what s the best method to earn btc with a debit or credit card i ha a coinbase debit card and although the percentage change monthly i usually earn in stellar and conrt it to btc i m considering holding it long term before conrting it so the conrsion will be a long term gain \n",
      "\n",
      "i orheard people in office saying they generate passi income from btc in self custody is it doable i cannot ask them a i wa the one who wa ridiculing them for such a long time on crypto now i know it is not a ponzi scheme and it is a real thing \n",
      "\n",
      "earn free crypto download this free cloud based mining app use my referral code sxuuzgeget free coin now \n",
      "\n",
      "analyze the correlation between bitcoin price and other financial index analyze financial data correlation using this github project feature you can run it fast and it is easy to use there are no complexity and no database usage in this project en dependency are a few it is easy to modify and customize this project generates practical information for data scientist you can read the code for educational purpose \n",
      "\n",
      "evaluating crypto trader bot and autotrader the internet is full of crypto trader and i am trying to understand how many of them are actually good my favorite on twitter are cryptocapo tradersz and callbotcrypto most of their analysis are correct and in the end it is ry interesting to understand how they face this bear market callbotcrypto offer an autotrader app for free or with subscription which is a ry interesting can only suggest to gi a look at it cryptocapo make some macroeconomic analysis and manages to predict the trend of the market in general tradersz is ry good for it graphical analysis what do you think about it what is your favorite crypto trader who can you suggest to follow \n",
      "\n",
      "how ha the use and acceptance of bitcoin a a form of payment evold since it creation are there any major retailer or company that currently accept bitcoin a payment since it creation the use and acceptance of bitcoin a a form of payment ha evold significantly in the early day of bitcoin it wa primarily used a a way to send and recei payment between individual and there were few merchant who accepted it a a form of payment hower a bitcoin ha gained in popularity and mainstream awareness more and more merchant ha begun to accept it a a form of payment today there are a wide range of merchant and company that accept bitcoin a payment including major retailer such a orstock expedia and microsoft in addition many smaller merchant and online retailer also accept bitcoin a a form of payment while the use of bitcoin a a form of payment is still not a widespread a traditional payment method it is growing steadily and is becoming more accepted by merchant and consumer alike whats your thought on this \n",
      "\n",
      "the savvy spender's guide to saving money choose a cryptocurrency wallet a wallet is a digital place where you can store your cryptocurrency there are many different type of wallet including software wallet hardware wallet and paper wallet buy cryptocurrency you can buy cryptocurrency through a cryptocurrency exchange or from an individual make sure to compare price and fee before making your purchase keep your cryptocurrency secure it's important to keep your cryptocurrency safe by using strong password and enabling two factor authentication you should also consider storing your cryptocurrency in a hardware wallet for added security are you looking for way to sa money and become a savvy spender look no further our guide the savvy spender's guide to saving money is packed with practical tip and strategy for cutting cost and making your money go further from creating a budget to negotiating bill and fee we' got you cored follow our guide and you'll be on your way to financial success in no time 't miss out on this opportunity to take control of your finance and start saving today \n",
      "\n",
      "btc only on r for the eu what are the good btc only fiat on r for the eu \n",
      "\n",
      "do any of you guy remember that post from or year ago from someone predicting what btc would look li or the year i'm trying to find it but for the life of me i can't i'm pretty sure it wa on reddit \n",
      "\n",
      "where to buy bitcoin after the bitvavo debacle hello reddit i'm not new to the world of cryptocurrency but i recently had a disappointing experience when trying to purchase some crypto at bitvavo i'm based in the netherlands and wa wondering if anyone could recommend the best way to buy cryptocurrency here i' used exchange in the past but the process wa slow and confusing i'm open to using a broker but i want to make sure i'm using a reliable and trustworthy option if anyone ha had a good experience buying cryptocurrency in the netherlands i would lo to hear about it any recommendation or advice would be greatly appreciated thank you in advance for your help \n",
      "\n",
      "just a head up when medium say bitcoin is heavily used with the dark web if you can't google it then it's the dark web so all web sty at this time tor site and content from individual account such a email social medium banking along with personal and professional database and document legal and medical so when medium doe fearmongering and say x of transaction are on the dark web how did they come up with that number like i seen recently they pulled out of their as that number is too low it is highly likely of transaction are on the dark web due to it being on exchange and using an interface and system you only get after you log in and that isn't searchable on google then again there could be a debate if is the right number like all the transaction are happening or the blockchain or the internet on one hand the transaction isn't indexed on google or whater like if it is then it would be a while after but then again you can use tool that is available to the public without logging in to view the blockchain tldrif someone freak out about the dark web or dark net or they listen to this fearmongering make sure they know their email is on the dark web you ha to log in to see it and it isn't public indexed educate those around you \n",
      "\n",
      "question pro and con for direct instment into btc v mining let's say i ha k to inst better to buy directly btc or buy miner and mine myself kyc le for a few year would it be more profitable with the current and future hash rate which will probably increase en more \n",
      "\n",
      "get the most out of your bitcoin a list of creati spending option get the most out of your bitcoin a list of creati spending option there are many place where you can spend your bitcoin here are a few exles online store many online retailer including big name store such a orstock newegg and namecheap accept bitcoin a a payment method you can also use bitcoin to make purchase on website such a etsy and okcupid physical store some physical store accept bitcoin a a form of payment a well for exle you can use bitcoin to pay for meal at restaurant to buy gift card at retailer such a whole food and target and to pay for a variety of service including hair cut and car repair tral seral tral agency and hotel accept bitcoin a a form of payment for exle you can use bitcoin to book flight on expedia to pay for a room at the copacabana hotel in rio de janeiro and to take a luxury cruise with the royal caribbean charitable ations you can use bitcoin to make charitable ations to organization such a the electronic frontier foundation the water project and the internet archi gambling some online gambling site such a satoshidice and bitcasino allow you to place bet using bitcoin in conclusion there are many place where you can spend your bitcoin ranging from online retailer to physical store tral agency and charitable organization with it increasing acceptance a a form of payment the option for using bitcoin are constantly expanding \n",
      "\n",
      "saving is spending im bored of the argument that people t spend bitcoin so it not a currency first off it up to ery individual how they decide to spend their shit secondly the people who are saving in bitcoin hodlers are spending it they are buying the most important thing in their life with it time they are buying time for their future sels by saving bitcoin why spend on dumb clothes and shit when you can buy time thirdly a definition of a currency cant be some subjecti bullshit hey look that guy is shoving bitcoin up his as so it not a currency fuck that a long a bitcoin can act a a currency ie durable divisible portable rifiable and a long a there is atleast one person using it a such either for saving or spending i say bitcoin is a currency just wanted to put this out there for anyone who needed this \n",
      "\n",
      "bitcoin the adeet of the future \n",
      "\n",
      "what motivates the bitcoin hater i t understand the bitcoin hater they seem to posse an incredible amount of idle time and either post some marginally literate rant or a copy and paste of schiff s column why do people devote so much time and energy to something they dislike \n",
      "\n",
      "dawn group sa by dayann aziz ouedraogo horizon of beginning \n",
      "\n",
      "congrats to u eilbrun winner of 's bitcoin price prediction contest get your prediction in for how high doe bitcoin go in cast your prediction win some sat it's sat to the wallet of your choice if you're closest without going or how high doe bitcoin go during calendar year your prediction must be an exact amount of u dollar only prediction per user high during closest prediction wa but the user deleted their account so the winner is the runner up u eilbrun with a prediction of \n",
      "\n",
      "is walletgenerator net btc wallet unsafe i hear people talking about seed phrase and stuff and all i ha is a string of some character for public key and a string of some character for private key also i heard walletgenerator net wallet are not that safe and maybe easily hacked should i get another wallet \n",
      "\n",
      "need help anything help bigbuffalo \n",
      "\n",
      "this is why you need to ha your coin in cold storage and secured by your own full node if a bitcoin dev can ha his hot wallet compromised so can you learn from this \n",
      "\n",
      "question related to price action v supply demand this is beyond macro factor the price action is le than on a daily candle i guess my question would be is the back and forth daily mining company selling to retail instors small wallet in the btc ha been climbing rapidly but not enough to orcome the price suppression we seen or the previous month i been in bitcoin since with no intention of selling not a fiat mindset just curious what the daily monthly outflow is from some of the largest miner \n",
      "\n",
      "is this something numerous people are experiencing \n",
      "\n",
      "how ha bitcoin performed or the last year on each new year's day bitcoin s price fell between and compared to a drop between and respectily on each new year s day or a ten year horizon since the price of one bitcoin ha seen a increase read the study s \n",
      "\n",
      "here s why microstrategy sold bitcoins on december here s why microstrategy sold some of it bitcoins for the first time since it started accumulating the crypto asset in publicly traded business intelligence company microstrategy realed that it sold part of it bitcoin stash on december for tax purpose although the firm later purchased more bitcoins the sale defied it promise of ner selling any portion of it btc stash \n",
      "\n",
      "difference between miner an node satoshi is speaking only about node in his whitepaper that vote with their cpu power expreasing their acceptance of valid block by working on extending them and rejecting invalid blocka by refusing to work on them why did the word miner came up and where is the difference between them and node that we know today \n",
      "\n",
      "african bitcoiners just released their top bitcoiners of gi them a follow to lify their voice so the world can hear their story top faridan urpp raypaxful vryfokkenou anitaposch bitcoinlady bernardparah craigraw carelvwyk ihate masterguantai maryimasuen actuallycarlakc btctokoloshe kalkassa alesander mrlamilamikosch runwithbitcoin charfadirepo obi \n",
      "\n",
      "can receir adjust fee paid hi doe having rbf selected on electrum potentially raise my fee a a receir i' been sending btc from kraken to my electrum wallet and the fee ha been really high sometimes anywhere from my latest fee wa at sat byte doe the receir ha any control or the fee paid \n",
      "\n",
      "open source bitcoin qr address scanner for mac i'm looking for a standalone open source bitcoin qr address scanner that will hook into a mac desktop laptop camera con i am using sparrow on a linux machine and i am interacting with my exchange on a mac for sending to an exchange i can use sparrow to scan the qr code provided by exchange but for sending off the exchange most 't ha a built in camera scan process and i wouldn't want to use it anyways so i'm looking for something i can run on my mac to scan the qr code provided by sparrow ideal app specification macos catalina open source no extra functionality just scan qr address \n",
      "\n",
      "ha anyone tried miniscript with new ledger bitcoin app i would like to gi it a try but it's not so easy to try let's say i would like to create a script to allow or transfer the amount from address a to address b but only after time lock let's say one day how would i do that do i need to use some dev tool to firstly to create such miniscript and then let it sign in electrum where i connect my ledger anyone know \n",
      "\n",
      "are smart contract on bitcoin possible do you think we will see smart contract on the second layer of bitcoin in the future and how do you think this will change the industry i think it's likely that we will see smart contract on second layer on bitcoin in the future this could be ry revolutionary for the industry a it would enable user to create and execute contract on the bitcoin blockchain without clogging up the main blockchain it would also allow user to create application with more complex logic and transaction than are currently possible in addition it could open up the possibility for user to create and deploy decentralized application dapps on the bitcoin network this could ha a major impact on the industry a it could increase the utility of bitcoin and potentially make it more attracti to a wider range of user what is your opinion on this matter the topic is ry interesting to me and i would be happy to discus it together guy \n",
      "\n",
      "how do i mine bitcoin i ha a decent graphic card and am contemplating using it for bitcoin mining when i am not using my computer i heard you can mine a coin in about a month and would lo some pointer from the people that know what they're doing how do i use my computer to mine bitcoin \n",
      "\n",
      "i been forced to kyc how do i make my sat anonymous again is that possible my li ledger forced me to kyc is there anything i can do to get my anonymity back \n",
      "\n",
      "latoken bitra airdrop awesome project \n",
      "\n",
      "best exchange for low fee and accurate spot price now that coinbase pro is being phased out where is the best place to buy bitcoin i started using regular coinbase but the spot price is higher and the fee are way higher than coinbase pro seems like it hard to find an exchange with an accurate spot price \n",
      "\n",
      "how worried should we be about btc becoming too centralized with miner so between large mining entity they amassed gt of rification on the blockchain is this a threat that btc is at risk of being centralized if so doe risk increase for u a long term hodlers \n",
      "\n",
      "no new crypto regulation in major legislati action ha faced opposition from both those in favor of minimal regulation and those in favor of more stringent gornment orsight here is an article outlining the prospect of regulation in s \n",
      "\n",
      "how do i buy bitcoin under the age of when i go to buy on something like paxful i get far enough until i need to input my ssn cashapp paypal need my ssn bitcoin atm 't but i'll only get of what i put into the machine new to crypto i cannot use my ssn use i am not of age to buy crypto from ery exchange i' tried to buy from it's technically legal for me to buy bitcoin i think i just need a point in the right direction \n",
      "\n",
      "stacking sat and hodl counterproducti and almost pointless money of any kind is at it root a social network it only value is that other people value it the more people the better were you to find yourself shipwrecked on an island alone and a case with million dollar washed up you'd most likely end up burning it to stay warmthe u dollar is the most useful money in the world it ha the biggest social network a nation of million ery single person belies in the dollar a value en those who hate it and think money is the root of all evil are forced to respect it worth and in the rest of the world too use usa ha the most political economic and military reachso what the point in stacking sat if your not also trying to bring more people into our social network youre just acquiring a larger share of something that is worthless warren buffet said this about bitcoin gt if you said for a interest in all the farmland in the united state pay our group billion i ll write you a check this afternoon buffett said for billion i now own of the farmland if you offer me of all the apartment house in the country and you want another billion i ll write you a check it s ry simple now if you told me you own all of the bitcoin in the world and you offered it to me for i wouldn t take it use what would i do with it i d ha to sell it back to you one way or another it isn t going to do anything the apartment are going to produce rent and the farm are going to produce food he get a lot of grief for being an old man yelling at cloud but he's absolutely right here owning all the bitcoin in the world would be like being the only person to ha an email address or a linkedin account there no one you could talk to no one you could trade withforget the dollar price of btc it irrelent what matter how many people ha a btc wallet and how many know how to use it and value it enough that they would sell you a sandwich if this number isnt going up and you keep stacking sat a an instment youre just buying a bigger share of nothing this experiment will fail and the bubble will burst entually bitcoin's a lousy instment asset use it doesnt produce anything it could be a good money one day but thats up to u \n",
      "\n",
      "who is satoshi nakamoto who the hell is this guy i think the btc community doesnt think much enough about this topic amd i think it is one of the modt important question about bitcoin if he is ali i can t belie he could avoid to get public after he seeing what happened with his bitcoin i cant just brlie a human can just sit there and can control himself to not get public after he see erywhere the name of his coin all or the world and also if cia or whater is really interested in one person they would find eryone whom they searching for so who is this guy and why is the community not interested on this question \n",
      "\n",
      "usd to btc is up ytd what doe this mean for bitcoin \n",
      "\n",
      "i think this need to be said with more adoption come more stupidity and trolling on this sub we hodlers must remind oursels of this it really doesn t matter to bitcoin so it shouldn t to u adoption is good no matter how ignorant the reason people gi \n",
      "\n",
      "cashapp bitcoin hey guy i ha bought a total of worth of bitcoin through cashapp or the last year and now it is worth what should my next step be use i heard owning bitcoin through cashapp is a bad idea \n",
      "\n",
      "explain lightning network i get it s fast and conducted off chain but at what point are the transaction added to block i m not sure i get the concept \n",
      "\n",
      "a sharp drop in the day moving arage of the total bitcoin transaction volume based on glassnode on chain data the d moving arage of the orall bitcoin transaction volume is falling sharply changing the trend requires increasing the volume of transaction \n",
      "\n",
      "lighting statistic of my routing node month update it ha been about month since my last update currently my node ha btc locked up across channel here are some statistic you will not see on a node explorer nodesoftware eclair inbound liquidity outbound liquidity day moving arage daily number of payment relayed day moving arage daily total payment relayed mbtc day moving arage daily payment arage size mbtc total payment relayed since start mbtc total fee earned since start mbtc i ha managed to stay in the targeted of locked up btc forwarded per day i am trying my best to push these number en higher but for now about seems to be the limit you can see a sharp drop in payment size at the end of nomber this wa caused by the adoption of zero base fee shortly after this i ha changed my min htlc setting to block free leaching this leaded to the stabilization in december my arage ppm taken for forwarding payment ha been steadily rising in december this is not use i changed my fee schedule but rather use more and more traffic can flow to heavy sink a my rebalancing is getting better a i am not using and standard plugins i must write my own tool it took me till the start of october to get my rebalancer to a point where it us le fee than it earns since then i ha made steady progress towards better rebalancing but there are the occasional bug in my code see the negati spike in december that ruin my daysas always i will respond to all question a best a i can \n",
      "\n",
      "encrypted json or txt editor for macos for keeping bitcoin note can someone recommend a reputable json or plain editor for macos that let you easily edit encrypted json or txt file preferably with historical backup and open source looking for something to store note on bitcoin related stuff including address and other sensiti info i wa using my password manager for this for a while but my note ha become too extensi for it and i 't like how it us markdown when you enter certain set of character spreadsheet gui editor ha a similar problem sometimes they try to format thing in some specific way automatically i 't want it automatically changing thing for me and then potentially hiding some character i intended to be visible \n",
      "\n",
      "compared to michael saylor you ha one superpower pleb you hold your own key \n",
      "\n",
      "can bitcoin entually increase decimal would it be feasible for bitcoin to entually increase it decimal from to a higher number and keep having halving ents after halvings or is it an unsormountable coordination problem whose solution exists in theory but is undoable in practice \n",
      "\n",
      "how doe merchant fix it exchange rate when using btc with lightning for payment how doe lightning btc fix it exchange rate at a physical point of sale i am assuming that most retail merchant are still thinking in fiat and conrting the dollar amount into sat in a dynamic manner so a to protect against fluctuation of the usd btc rate hower assuming i go to the restaurant and it say a steak is sat but by the time i finished eating and chatting the equivalent dollar value would ha put it at sat at point of payment how doe the merchant cors itself ensuring it get the same fiat amount my guess is that the price are always quoted in dollar and the sat equivalent is calculated at point of payment but this mean i might stay at restaurant until such time that the exchange rate is favourable before leaving and if another patron think the same way it would be a checkout nightmare \n",
      "\n",
      "first full node question hi my loly wife got me a rasberry pi for christmas so i can run a node she ha no idea what it is but bought it for me anyways this is why i married her anyhow based on my research i plan on running umbrel and using sparrow wallet to start playing with the mixer my question are the following can i install sparrow on my raspberry pi using umbrel i know most people use their desktop and just link sparrow to the node i want erything on my raspberry pi for security reason for those who run full node do you think running umbrel is the right choice is there a better o or a more compatible o to run both the node and sparrow on the same system any advice is much appreciated \n",
      "\n",
      "did satishi er buy bitcoin in an exchange or did they all originate from mining trying to learn more about the technicality at inception \n",
      "\n",
      "new wallet yay but what to do i got a cold card with the last black friday sale these thing are neat ry cool some background i also ha two ledger i ha some dusted nfts in my current wallet so i am wanting to take create a new wallet i ha sold all shitcoins already my question is should i make a new multi sig with three new seed the multi sig would utilize the two ledger and the cold card or should i just do a single address for my cold card and sell the ledger for some btc i am hesitant on using the ledger i do not really care for the way they handle multi sig also how do you recommend transferring the btc one fell swoop sending at a time \n",
      "\n",
      "bitcoin is looking healthy imo chart it's like i'm living in the matrix and the blockchain is the red pill accumulation is big and there is a chanse to see a second christmas rally imo hodl on tight neo we're in for a wild ride crypto matrix blockchain hodl inrsecat \n",
      "\n"
     ]
    }
   ],
   "source": [
    "for i in df_selftext.iloc[bitcoinish_indexes].text:\n",
    "    print(i,'\\n')"
   ]
  },
  {
   "cell_type": "code",
   "execution_count": null,
   "id": "f3cc5994-b515-4381-8387-803eb39181c5",
   "metadata": {},
   "outputs": [],
   "source": []
  },
  {
   "cell_type": "code",
   "execution_count": 219,
   "id": "96c2cd69-06e8-4262-9c71-d57e4d98d4c8",
   "metadata": {},
   "outputs": [],
   "source": [
    "#notes\n",
    "def class_from_prob(probabilities, threshold):\n",
    "\n",
    "    return [0 if prob < threshold else 1 for prob in probabilities]\n"
   ]
  },
  {
   "cell_type": "code",
   "execution_count": 220,
   "id": "582af7b7-4a7a-4dc4-adb5-d4d4b77ef6b4",
   "metadata": {},
   "outputs": [],
   "source": [
    "threshold_list = [round(i*.01,2) for i in range(0,101,)]\n",
    "speclist = []\n",
    "senslist = []\n",
    "f1list = []\n",
    "\n",
    "for threshold in threshold_list:\n",
    "    predicted_classes = class_from_prob(pred_df['ethereum'], threshold)\n",
    "    spec = specificity_score(y_test, predicted_classes)\n",
    "    sens = recall_score(y_test, predicted_classes, pos_label=1)\n",
    "    speclist.append(spec)\n",
    "    senslist.append(sens)\n",
    "    F1 = f1_score(y_test, predicted_classes)\n",
    "    f1list.append(F1)"
   ]
  },
  {
   "cell_type": "code",
   "execution_count": 221,
   "id": "0e2ec108-7b8d-4688-9104-d581ac83b484",
   "metadata": {},
   "outputs": [
    {
     "data": {
      "image/png": "[encoded data removed]",
      "text/plain": [
       "<Figure size 1000x500 with 1 Axes>"
      ]
     },
     "metadata": {},
     "output_type": "display_data"
    },
    {
     "data": {
      "text/plain": [
       "<Figure size 640x480 with 0 Axes>"
      ]
     },
     "metadata": {},
     "output_type": "display_data"
    }
   ],
   "source": [
    "%matplotlib inline\n",
    "fig = plt.figure(figsize = (10,5));\n",
    "ax1 = fig.add_subplot(111);\n",
    "\n",
    "ax1.scatter(x = threshold_list, y = speclist, s=10, c='b', marker=\"s\", label='specificity');\n",
    "ax1.scatter(x = threshold_list,y = senslist, s=10, c='r', marker=\"o\", label='sensitivity');\n",
    "ax1.scatter(x = threshold_list,y = f1list, s=10, c='g', marker=\"o\", label='F1 score');\n",
    "plt.legend(loc='upper left')\n",
    "plt.xlabel('Threshold');\n",
    "plt.ylabel('Score Value');\n",
    "plt.show();\n",
    "plt.tight_layout();\n"
   ]
  },
  {
   "cell_type": "code",
   "execution_count": null,
   "id": "18ff45ba-3ee7-4358-b44f-6aa7438abd05",
   "metadata": {},
   "outputs": [],
   "source": []
  },
  {
   "cell_type": "code",
   "execution_count": null,
   "id": "cb6f9792-29e7-4394-8501-23593a4b907c",
   "metadata": {},
   "outputs": [],
   "source": []
  },
  {
   "cell_type": "code",
   "execution_count": null,
   "id": "3d7a492e-3f37-4c40-9b34-5cfb9182ee43",
   "metadata": {},
   "outputs": [],
   "source": []
  },
  {
   "cell_type": "code",
   "execution_count": null,
   "id": "0c44811b-49d2-425e-9c02-c1356b0ba716",
   "metadata": {},
   "outputs": [],
   "source": []
  },
  {
   "cell_type": "code",
   "execution_count": null,
   "id": "75e1212a-7a82-4bf4-ad1f-ab70f4091bc6",
   "metadata": {},
   "outputs": [],
   "source": []
  },
  {
   "cell_type": "code",
   "execution_count": null,
   "id": "df16bebb-fdee-4cab-93e0-dc0aa519e6e8",
   "metadata": {},
   "outputs": [],
   "source": []
  },
  {
   "cell_type": "code",
   "execution_count": null,
   "id": "cfdb7858-544e-40d7-a24b-8feb55635f35",
   "metadata": {},
   "outputs": [],
   "source": []
  }
 ],
 "metadata": {
  "kernelspec": {
   "display_name": "Python 3 (ipykernel)",
   "language": "python",
   "name": "python3"
  },
  "language_info": {
   "codemirror_mode": {
    "name": "ipython",
    "version": 3
   },
   "file_extension": ".py",
   "mimetype": "text/x-python",
   "name": "python",
   "nbconvert_exporter": "python",
   "pygments_lexer": "ipython3",
   "version": "3.9.12"
  }
 },
 "nbformat": 4,
 "nbformat_minor": 5
}
