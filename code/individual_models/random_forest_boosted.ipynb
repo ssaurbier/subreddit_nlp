{
 "cells": [
  {
   "cell_type": "code",
   "execution_count": 113,
   "id": "26c8c700-69eb-476f-bc9d-27b0844d4ecc",
   "metadata": {},
   "outputs": [],
   "source": [
    "import pandas as pd\n",
    "import numpy as np\n",
    "from sklearn.model_selection import train_test_split, GridSearchCV, RandomizedSearchCV\n",
    "from sklearn.pipeline import Pipeline\n",
    "from sklearn.feature_extraction.text import CountVectorizer, TfidfVectorizer\n",
    "from sklearn.naive_bayes import MultinomialNB\n",
    "from sklearn.linear_model import LogisticRegression\n",
    "from sklearn.metrics import (confusion_matrix, ConfusionMatrixDisplay,\n",
    "    accuracy_score, roc_auc_score, recall_score,\n",
    "    precision_score, f1_score, RocCurveDisplay)\n",
    "from imblearn.metrics import specificity_score\n",
    "\n",
    "from nltk.stem import WordNetLemmatizer\n",
    "from nltk.corpus import stopwords\n",
    "import re\n",
    "\n",
    "from sklearn.tree import DecisionTreeClassifier\n",
    "\n",
    "\n",
    "\n",
    "from sklearn.neighbors import KNeighborsClassifier\n",
    "from sklearn.preprocessing import StandardScaler\n",
    "\n",
    "from sklearn.ensemble import StackingClassifier, RandomForestClassifier, GradientBoostingClassifier, BaggingClassifier, RandomForestRegressor, AdaBoostClassifier\n",
    "\n",
    "\n",
    "\n",
    "import matplotlib.pyplot as plt\n"
   ]
  },
  {
   "cell_type": "code",
   "execution_count": 114,
   "id": "981011e9-558a-4aea-a2b4-981e641e43ee",
   "metadata": {},
   "outputs": [
    {
     "data": {
      "text/html": [
       "<div>\n",
       "<style scoped>\n",
       "    .dataframe tbody tr th:only-of-type {\n",
       "        vertical-align: middle;\n",
       "    }\n",
       "\n",
       "    .dataframe tbody tr th {\n",
       "        vertical-align: top;\n",
       "    }\n",
       "\n",
       "    .dataframe thead th {\n",
       "        text-align: right;\n",
       "    }\n",
       "</style>\n",
       "<table border=\"1\" class=\"dataframe\">\n",
       "  <thead>\n",
       "    <tr style=\"text-align: right;\">\n",
       "      <th></th>\n",
       "      <th>subreddit</th>\n",
       "      <th>text</th>\n",
       "    </tr>\n",
       "  </thead>\n",
       "  <tbody>\n",
       "    <tr>\n",
       "      <th>0</th>\n",
       "      <td>0</td>\n",
       "      <td>cost of moving bitcoin off an exchange i decid...</td>\n",
       "    </tr>\n",
       "    <tr>\n",
       "      <th>1</th>\n",
       "      <td>0</td>\n",
       "      <td>the new financial system is closer to fruition...</td>\n",
       "    </tr>\n",
       "  </tbody>\n",
       "</table>\n",
       "</div>"
      ],
      "text/plain": [
       "   subreddit                                               text\n",
       "0          0  cost of moving bitcoin off an exchange i decid...\n",
       "1          0  the new financial system is closer to fruition..."
      ]
     },
     "execution_count": 114,
     "metadata": {},
     "output_type": "execute_result"
    }
   ],
   "source": [
    "df_selftext = pd.read_csv('../../data/cleaned_selftext.csv')\n",
    "df_notext = pd.read_csv('../../data/cleaned_notext.csv')\n",
    "df_selftext.head(2)"
   ]
  },
  {
   "cell_type": "code",
   "execution_count": 115,
   "id": "5ab056b0-14e2-4203-9d9a-d0043cc0dc99",
   "metadata": {},
   "outputs": [
    {
     "name": "stdout",
     "output_type": "stream",
     "text": [
      "0    2846\n",
      "1     748\n",
      "Name: subreddit, dtype: int64\n"
     ]
    },
    {
     "data": {
      "text/plain": [
       "0    7038\n",
       "1    1981\n",
       "Name: subreddit, dtype: int64"
      ]
     },
     "execution_count": 115,
     "metadata": {},
     "output_type": "execute_result"
    }
   ],
   "source": [
    "print(df_selftext.subreddit.value_counts())\n",
    "df_notext.subreddit.value_counts()"
   ]
  },
  {
   "cell_type": "markdown",
   "id": "fd1b1d92-3bda-436a-b72d-d793579a6ae6",
   "metadata": {},
   "source": [
    "# Adding stop words to not make it too easy"
   ]
  },
  {
   "cell_type": "code",
   "execution_count": 116,
   "id": "61d99e0f-41dd-481e-944c-9e2463e4e429",
   "metadata": {},
   "outputs": [],
   "source": [
    "stop = list(stopwords.words('english'))\n",
    "stop.extend('btc eth bitcoin ethereum lightning vitalik wa ha amp text would get llet like nt know one use think http'.split())\n"
   ]
  },
  {
   "cell_type": "markdown",
   "id": "f6da16c5-29d2-4864-9d15-af9c9bb16bec",
   "metadata": {},
   "source": [
    "# Model"
   ]
  },
  {
   "cell_type": "code",
   "execution_count": 117,
   "id": "8552c791-8e62-481f-a684-7287bcde817a",
   "metadata": {},
   "outputs": [],
   "source": [
    "X = df_selftext.text\n",
    "y = df_selftext.subreddit"
   ]
  },
  {
   "cell_type": "code",
   "execution_count": 118,
   "id": "2a70c302-0e55-4339-8d17-af0b2959cada",
   "metadata": {},
   "outputs": [
    {
     "data": {
      "text/plain": [
       "0    0.791875\n",
       "1    0.208125\n",
       "Name: subreddit, dtype: float64"
      ]
     },
     "execution_count": 118,
     "metadata": {},
     "output_type": "execute_result"
    }
   ],
   "source": [
    "y.value_counts(normalize=True)"
   ]
  },
  {
   "cell_type": "code",
   "execution_count": 134,
   "id": "55061841-2e4b-4118-bd78-f0cbdf322687",
   "metadata": {},
   "outputs": [],
   "source": [
    "X_train, X_test, y_train, y_test = train_test_split(X,\n",
    "                                                    y,\n",
    "                                                    stratify=y,\n",
    "                                                    random_state=42)"
   ]
  },
  {
   "cell_type": "code",
   "execution_count": null,
   "id": "2e8c8136-b6d4-402d-8e22-c721e00ac597",
   "metadata": {},
   "outputs": [],
   "source": []
  },
  {
   "cell_type": "code",
   "execution_count": 135,
   "id": "ee29da9c-880d-4b49-8d59-c9e6feee1e06",
   "metadata": {},
   "outputs": [],
   "source": [
    "# Pipeline accepts multiple transformers, but only one vectorizer. See cgpt results:\n",
    "\n",
    "'''The error message is caused by the fact that you are trying to fit two different vectorizers (TfidfVectorizer and CountVectorizer) \n",
    "in the same pipeline, but only providing one input (X_train) to the pipeline. This is causing the pipeline to raise an error as it doesn't \n",
    "know which vectorizer to apply to the input. \n",
    "\n",
    "You can fix this by either removing one of the vectorizers or providing separate inputs to the pipeline for each vectorizer.'''\n",
    "\n",
    "\n",
    "\n",
    "\n",
    "ada = Pipeline([\n",
    "    ('tvec', TfidfVectorizer()),\n",
    "    ('ada', AdaBoostClassifier(base_estimator = RandomForestClassifier()))\n",
    "])"
   ]
  },
  {
   "cell_type": "code",
   "execution_count": 136,
   "id": "d3f71c4c-3fe4-40e6-93a7-10a3ba650c95",
   "metadata": {},
   "outputs": [],
   "source": [
    "ada_params = {\n",
    "    'tvec__max_features': range(650,750,5),\n",
    "    'tvec__stop_words': [stop],\n",
    "    'tvec__ngram_range': [(1,1), (1,2), (1,3),(2,3),(3,3)],\n",
    "    'ada__n_estimators': range(100,200, 5)\n",
    "}"
   ]
  },
  {
   "cell_type": "code",
   "execution_count": 137,
   "id": "0e56b214-d398-4e45-af99-041026c9108a",
   "metadata": {},
   "outputs": [
    {
     "name": "stdout",
     "output_type": "stream",
     "text": [
      "0.8753185612056384\n",
      "{'tvec__stop_words': ['i', 'me', 'my', 'myself', 'we', 'our', 'ours', 'ourselves', 'you', \"you're\", \"you've\", \"you'll\", \"you'd\", 'your', 'yours', 'yourself', 'yourselves', 'he', 'him', 'his', 'himself', 'she', \"she's\", 'her', 'hers', 'herself', 'it', \"it's\", 'its', 'itself', 'they', 'them', 'their', 'theirs', 'themselves', 'what', 'which', 'who', 'whom', 'this', 'that', \"that'll\", 'these', 'those', 'am', 'is', 'are', 'was', 'were', 'be', 'been', 'being', 'have', 'has', 'had', 'having', 'do', 'does', 'did', 'doing', 'a', 'an', 'the', 'and', 'but', 'if', 'or', 'because', 'as', 'until', 'while', 'of', 'at', 'by', 'for', 'with', 'about', 'against', 'between', 'into', 'through', 'during', 'before', 'after', 'above', 'below', 'to', 'from', 'up', 'down', 'in', 'out', 'on', 'off', 'over', 'under', 'again', 'further', 'then', 'once', 'here', 'there', 'when', 'where', 'why', 'how', 'all', 'any', 'both', 'each', 'few', 'more', 'most', 'other', 'some', 'such', 'no', 'nor', 'not', 'only', 'own', 'same', 'so', 'than', 'too', 'very', 's', 't', 'can', 'will', 'just', 'don', \"don't\", 'should', \"should've\", 'now', 'd', 'll', 'm', 'o', 're', 've', 'y', 'ain', 'aren', \"aren't\", 'couldn', \"couldn't\", 'didn', \"didn't\", 'doesn', \"doesn't\", 'hadn', \"hadn't\", 'hasn', \"hasn't\", 'haven', \"haven't\", 'isn', \"isn't\", 'ma', 'mightn', \"mightn't\", 'mustn', \"mustn't\", 'needn', \"needn't\", 'shan', \"shan't\", 'shouldn', \"shouldn't\", 'wasn', \"wasn't\", 'weren', \"weren't\", 'won', \"won't\", 'wouldn', \"wouldn't\", 'btc', 'eth', 'bitcoin', 'ethereum', 'lightning', 'vitalik', 'wa', 'ha', 'amp', 'text', 'would', 'get', 'llet', 'like', 'nt', 'know', 'one', 'use', 'think', 'http'], 'tvec__ngram_range': (1, 2), 'tvec__max_features': 730, 'ada__n_estimators': 195}\n"
     ]
    }
   ],
   "source": [
    "rs = RandomizedSearchCV(ada, ada_params, cv = 4)\n",
    "\n",
    "rs.fit(X_train, y_train)\n",
    "\n",
    "print(rs.best_score_)\n",
    "print(rs.best_params_)\n"
   ]
  },
  {
   "cell_type": "code",
   "execution_count": null,
   "id": "91d2879f-9997-4d7d-a96a-0e05a85d24eb",
   "metadata": {},
   "outputs": [],
   "source": []
  },
  {
   "cell_type": "code",
   "execution_count": null,
   "id": "4b235a3f-2298-46e5-b1b0-b3195af7bb42",
   "metadata": {},
   "outputs": [],
   "source": []
  },
  {
   "cell_type": "code",
   "execution_count": 138,
   "id": "022dd732-db57-4cb1-86a0-f75833b394fe",
   "metadata": {},
   "outputs": [
    {
     "name": "stdout",
     "output_type": "stream",
     "text": [
      "1.0\n"
     ]
    },
    {
     "data": {
      "text/plain": [
       "0.8731924360400445"
      ]
     },
     "execution_count": 138,
     "metadata": {},
     "output_type": "execute_result"
    }
   ],
   "source": [
    "#using all stopwords lowers scores to 0.8823747680890538 / 0.8654060066740823\n",
    "\n",
    "print(rs.score(X_train, y_train))\n",
    "rs.score(X_test, y_test)"
   ]
  },
  {
   "cell_type": "code",
   "execution_count": 139,
   "id": "883d8055-0e54-4203-a3f8-225b5cc95301",
   "metadata": {},
   "outputs": [
    {
     "data": {
      "text/plain": [
       "{'tvec__stop_words': ['i',\n",
       "  'me',\n",
       "  'my',\n",
       "  'myself',\n",
       "  'we',\n",
       "  'our',\n",
       "  'ours',\n",
       "  'ourselves',\n",
       "  'you',\n",
       "  \"you're\",\n",
       "  \"you've\",\n",
       "  \"you'll\",\n",
       "  \"you'd\",\n",
       "  'your',\n",
       "  'yours',\n",
       "  'yourself',\n",
       "  'yourselves',\n",
       "  'he',\n",
       "  'him',\n",
       "  'his',\n",
       "  'himself',\n",
       "  'she',\n",
       "  \"she's\",\n",
       "  'her',\n",
       "  'hers',\n",
       "  'herself',\n",
       "  'it',\n",
       "  \"it's\",\n",
       "  'its',\n",
       "  'itself',\n",
       "  'they',\n",
       "  'them',\n",
       "  'their',\n",
       "  'theirs',\n",
       "  'themselves',\n",
       "  'what',\n",
       "  'which',\n",
       "  'who',\n",
       "  'whom',\n",
       "  'this',\n",
       "  'that',\n",
       "  \"that'll\",\n",
       "  'these',\n",
       "  'those',\n",
       "  'am',\n",
       "  'is',\n",
       "  'are',\n",
       "  'was',\n",
       "  'were',\n",
       "  'be',\n",
       "  'been',\n",
       "  'being',\n",
       "  'have',\n",
       "  'has',\n",
       "  'had',\n",
       "  'having',\n",
       "  'do',\n",
       "  'does',\n",
       "  'did',\n",
       "  'doing',\n",
       "  'a',\n",
       "  'an',\n",
       "  'the',\n",
       "  'and',\n",
       "  'but',\n",
       "  'if',\n",
       "  'or',\n",
       "  'because',\n",
       "  'as',\n",
       "  'until',\n",
       "  'while',\n",
       "  'of',\n",
       "  'at',\n",
       "  'by',\n",
       "  'for',\n",
       "  'with',\n",
       "  'about',\n",
       "  'against',\n",
       "  'between',\n",
       "  'into',\n",
       "  'through',\n",
       "  'during',\n",
       "  'before',\n",
       "  'after',\n",
       "  'above',\n",
       "  'below',\n",
       "  'to',\n",
       "  'from',\n",
       "  'up',\n",
       "  'down',\n",
       "  'in',\n",
       "  'out',\n",
       "  'on',\n",
       "  'off',\n",
       "  'over',\n",
       "  'under',\n",
       "  'again',\n",
       "  'further',\n",
       "  'then',\n",
       "  'once',\n",
       "  'here',\n",
       "  'there',\n",
       "  'when',\n",
       "  'where',\n",
       "  'why',\n",
       "  'how',\n",
       "  'all',\n",
       "  'any',\n",
       "  'both',\n",
       "  'each',\n",
       "  'few',\n",
       "  'more',\n",
       "  'most',\n",
       "  'other',\n",
       "  'some',\n",
       "  'such',\n",
       "  'no',\n",
       "  'nor',\n",
       "  'not',\n",
       "  'only',\n",
       "  'own',\n",
       "  'same',\n",
       "  'so',\n",
       "  'than',\n",
       "  'too',\n",
       "  'very',\n",
       "  's',\n",
       "  't',\n",
       "  'can',\n",
       "  'will',\n",
       "  'just',\n",
       "  'don',\n",
       "  \"don't\",\n",
       "  'should',\n",
       "  \"should've\",\n",
       "  'now',\n",
       "  'd',\n",
       "  'll',\n",
       "  'm',\n",
       "  'o',\n",
       "  're',\n",
       "  've',\n",
       "  'y',\n",
       "  'ain',\n",
       "  'aren',\n",
       "  \"aren't\",\n",
       "  'couldn',\n",
       "  \"couldn't\",\n",
       "  'didn',\n",
       "  \"didn't\",\n",
       "  'doesn',\n",
       "  \"doesn't\",\n",
       "  'hadn',\n",
       "  \"hadn't\",\n",
       "  'hasn',\n",
       "  \"hasn't\",\n",
       "  'haven',\n",
       "  \"haven't\",\n",
       "  'isn',\n",
       "  \"isn't\",\n",
       "  'ma',\n",
       "  'mightn',\n",
       "  \"mightn't\",\n",
       "  'mustn',\n",
       "  \"mustn't\",\n",
       "  'needn',\n",
       "  \"needn't\",\n",
       "  'shan',\n",
       "  \"shan't\",\n",
       "  'shouldn',\n",
       "  \"shouldn't\",\n",
       "  'wasn',\n",
       "  \"wasn't\",\n",
       "  'weren',\n",
       "  \"weren't\",\n",
       "  'won',\n",
       "  \"won't\",\n",
       "  'wouldn',\n",
       "  \"wouldn't\",\n",
       "  'btc',\n",
       "  'eth',\n",
       "  'bitcoin',\n",
       "  'ethereum',\n",
       "  'lightning',\n",
       "  'vitalik',\n",
       "  'wa',\n",
       "  'ha',\n",
       "  'amp',\n",
       "  'text',\n",
       "  'would',\n",
       "  'get',\n",
       "  'llet',\n",
       "  'like',\n",
       "  'nt',\n",
       "  'know',\n",
       "  'one',\n",
       "  'use',\n",
       "  'think',\n",
       "  'http'],\n",
       " 'tvec__ngram_range': (1, 2),\n",
       " 'tvec__max_features': 730,\n",
       " 'ada__n_estimators': 195}"
      ]
     },
     "execution_count": 139,
     "metadata": {},
     "output_type": "execute_result"
    }
   ],
   "source": [
    "rs.best_params_"
   ]
  },
  {
   "cell_type": "code",
   "execution_count": 140,
   "id": "cb5cdfb7-2e92-4737-9d89-e95376019568",
   "metadata": {},
   "outputs": [],
   "source": [
    "preds = rs.predict(X_test)"
   ]
  },
  {
   "cell_type": "code",
   "execution_count": 141,
   "id": "948f87a2-ad5f-4bbd-b490-e3d60e1252a0",
   "metadata": {},
   "outputs": [
    {
     "data": {
      "image/png": "[encoded data removed]",
      "text/plain": [
       "<Figure size 640x480 with 2 Axes>"
      ]
     },
     "metadata": {},
     "output_type": "display_data"
    }
   ],
   "source": [
    "cm = confusion_matrix(y_test, preds)\n",
    "\n",
    "display = ConfusionMatrixDisplay(confusion_matrix = cm,\n",
    "                             display_labels = rs.classes_)\n",
    "\n",
    "display.plot();"
   ]
  },
  {
   "cell_type": "code",
   "execution_count": 149,
   "id": "ff26a2d1-3467-466d-b6d8-6d0e88ae30aa",
   "metadata": {},
   "outputs": [
    {
     "data": {
      "image/png": "[encoded data removed]",
      "text/plain": [
       "<Figure size 640x480 with 1 Axes>"
      ]
     },
     "metadata": {},
     "output_type": "display_data"
    }
   ],
   "source": [
    "# Basic ROC\n",
    "\n",
    "# cf ROC\n",
    "# create an ax object\n",
    "ax = plt.gca()\n",
    "\n",
    "# use RocCurveDisplay for both estimators\n",
    "RocCurveDisplay.from_estimator(rs, X_test, y_test, ax=ax, name='rf')\n",
    "\n",
    "# add 'worst case scenario' line\n",
    "plt.plot([0,1], [0,1], label='null hypothesis/mean', linestyle='--', color='gray')\n",
    "\n",
    "# necessary to label the baseline\n",
    "plt.legend();"
   ]
  },
  {
   "cell_type": "code",
   "execution_count": 143,
   "id": "8f8d17ab-6c5c-4a12-8ad6-3699cced8f90",
   "metadata": {},
   "outputs": [
    {
     "data": {
      "text/html": [
       "<div>\n",
       "<style scoped>\n",
       "    .dataframe tbody tr th:only-of-type {\n",
       "        vertical-align: middle;\n",
       "    }\n",
       "\n",
       "    .dataframe tbody tr th {\n",
       "        vertical-align: top;\n",
       "    }\n",
       "\n",
       "    .dataframe thead th {\n",
       "        text-align: right;\n",
       "    }\n",
       "</style>\n",
       "<table border=\"1\" class=\"dataframe\">\n",
       "  <thead>\n",
       "    <tr style=\"text-align: right;\">\n",
       "      <th></th>\n",
       "      <th>bitcoin</th>\n",
       "      <th>ethereum</th>\n",
       "      <th>true_values</th>\n",
       "    </tr>\n",
       "  </thead>\n",
       "  <tbody>\n",
       "    <tr>\n",
       "      <th>0</th>\n",
       "      <td>0.86</td>\n",
       "      <td>0.14</td>\n",
       "      <td>0</td>\n",
       "    </tr>\n",
       "    <tr>\n",
       "      <th>1</th>\n",
       "      <td>0.85</td>\n",
       "      <td>0.15</td>\n",
       "      <td>0</td>\n",
       "    </tr>\n",
       "    <tr>\n",
       "      <th>2</th>\n",
       "      <td>0.98</td>\n",
       "      <td>0.02</td>\n",
       "      <td>0</td>\n",
       "    </tr>\n",
       "    <tr>\n",
       "      <th>3</th>\n",
       "      <td>0.45</td>\n",
       "      <td>0.55</td>\n",
       "      <td>1</td>\n",
       "    </tr>\n",
       "    <tr>\n",
       "      <th>4</th>\n",
       "      <td>0.88</td>\n",
       "      <td>0.12</td>\n",
       "      <td>0</td>\n",
       "    </tr>\n",
       "  </tbody>\n",
       "</table>\n",
       "</div>"
      ],
      "text/plain": [
       "   bitcoin  ethereum  true_values\n",
       "0     0.86      0.14            0\n",
       "1     0.85      0.15            0\n",
       "2     0.98      0.02            0\n",
       "3     0.45      0.55            1\n",
       "4     0.88      0.12            0"
      ]
     },
     "execution_count": 143,
     "metadata": {},
     "output_type": "execute_result"
    }
   ],
   "source": [
    "pred_df = pd.DataFrame(rs.predict_proba(X_test),columns=['bitcoin', 'ethereum'])\n",
    "\n",
    "pred_df['true_values'] = y_test.values\n",
    "\n",
    "pred_df.head()\n"
   ]
  },
  {
   "cell_type": "markdown",
   "id": "6dc679b9-b872-4d1f-999b-637f10f70c3d",
   "metadata": {},
   "source": [
    "# False positives"
   ]
  },
  {
   "cell_type": "code",
   "execution_count": 144,
   "id": "cff65f21-f104-41ec-aebd-64588a6a0951",
   "metadata": {},
   "outputs": [],
   "source": [
    "bitcoinish_indexes = pred_df.loc[(pred_df['ethereum'] > .5) & (pred_df.true_values == 0)].index.values.astype(int)"
   ]
  },
  {
   "cell_type": "code",
   "execution_count": 145,
   "id": "2fede62f-836a-4f79-bd5c-a1252e6ab56d",
   "metadata": {},
   "outputs": [
    {
     "name": "stdout",
     "output_type": "stream",
     "text": [
      "bitcoin s major moment in hey guy i ed to ask what we all thought were the big momes for btc in bitcoin global couries el salvador and the ceral african republic car became the only two couries in the world where bitcoin function a a legal currency lightning bitcoin layer increased in capacity more business are competing and investme increased bitcoin and banking trouble of uk bank baned cryptocurrency ieractions european ceral bank created ai btc caigns rning against pitfall scam volatility case bitcoin support people financial speaker joined social medium and television to support btc including michael saylor reference what else we got \n",
      "\n",
      "red is back bull trap or healthy correction wee boy playing a usual on rollercoaster \n",
      "\n",
      "what exchange are y all using i had been using coinbase pro for the past few year and just saw that they changed it too advanced trader or something and it asked me to make a new accou i m a little skeptical of it and ed to what y all are using to buy peace \n",
      "\n",
      "i made a bot that sends me a daily text with the bitcoin trade it made based on the fear greed index to keep me informed on when to buy and sell letting others subscribe to it for feedback bitcoin swing every cycle and i realized a lot of my can be made by buying at the bottom and selling at the top since bitcoin's price is based on a network effect hype can influence it a lot and the fear greed index is a good indicator of how much hype is priced io it i built a bot a few mohs ago that started with k and each day it decides to buy or sell based on the fear greed index the idea is to buy when others are fearful of bitcoin and sell when others are greedy so do the opposite of every's behavior the more fearful people are the more it buy with the amou it ha left to spend in usd and visa versa everyday it sends me a text of what trade it made and what the total worth of the accou is the idea of the bot is to just allow me to stay connected with the daily price since we've been in another crypto wier and to inform me when thing are moving i thought i would share it with people see if others find it to be ful and get some feedback i threw up a site where people can subscribe to it and get the daily text a well i'd be ierested in some feedback and just to see if this help other people s \n",
      "\n",
      "bitcoin advice i nna buy bitcoin is it right time please i dunno about crypto but iam hearing alot from my friend \n",
      "\n",
      "unable to remove btc from wallet because selling limit anybody want it in exchange for paypal hi i have btc in zengo equivale to in usd and i need to cash it out asap due to me rumning out of gas in arkansas where there are no doordash order and me having no other my can any help me and trade with me am willing to prove my ideity w e you'd i'm a bit desperate rn thanks \n",
      "\n",
      "aax exchange hi regarding the aax exchange two of it manager were arrested by the hong kong police on december for fraud doe any have experience in this regard what would be the process in such case do the loser of differe couries have to act through a lawyer or will it be the police or the hong kong judicial system that will coact the property of the lost what is the normal procedure or necessary action in such case thank you in advance for your help and atteion \n",
      "\n",
      "what would you do with btc today ok you have btc at today price do you hold it or sell it let s hear some good strategy \n",
      "\n",
      "safe method to safeguard money with stablecoins so my coury brazil is living great political instability with socialist and corrupt politician ruling the governme and there's no worst scenario for financial developme here i need to safeguard my my with dollar the fastest i can so it doesn't lose it's value or worst get subdued by the governme and i will never see it again it happened before in my coury's history ing on using stablecoins usdc usdt busd and storing then on s exodus blue electron and within some time migrate to a cold trezor or ledger i am new to this the basic ledge on crypto and financial market in general but studying a lot to improve everyday would you get any advice on this situation or would rather do something else instead for keeping my safe \n",
      "\n",
      "any idea about the credibility of this site any idea about the credibility of this site for algorithmic trading of bitcoins is this site under maiainance \n",
      "\n",
      "monthly btc purchase if i to buy btc on a mohly basis what would be the recommended approach looked at binance but didn t how they said they would disclose my personal info if i agree to set up a with them tyia \n",
      "\n",
      "where can you buy the longest dated bitcoin derivative i to buy option that run uil april to bet on rising bitcoin price where can i get them binance only offer option with week ruime and geo block me from future any idea for alternative \n",
      "\n",
      "saving is spending im bored of the argume that people t spend bitcoin so it not a currency first off it up to every individual how they decide to spend their shit secondly the people who are saving in bitcoin hodlers are spending it they are buying the most importa thing in their life with it time they are buying time for their future self by saving bitcoin why spend on dumb clothes and shit when you can buy time thirdly a definition of a currency ca be some subjective bullshit hey look that guy is shoving bitcoin up his as so it not a currency fuck that a long a bitcoin can act a a currency ie durable divisible portable verifiable and a long a there is atleast person using it a such either for saving or spending i say bitcoin is a currency just ed to put this out there for any who needed this \n",
      "\n",
      "do you think satoshi would be proud about the direction bitcoin ha took do you satoshi would be fulfilled and proud about the route and direction bitcoin is taking today i e segwit lightning etc \n",
      "\n",
      "exponential growth understanding and the lack there of a it relates to btc in which i s speculating on btc s usd price to exceed k in and eveually become the global reserve currency within year let get io it human being have a hard time understanding expial growth for a number of reason of the main reason is that our brain are wired to in linear term we are d to thing growing or changing at a steady rate and expial growth doe not follow this pattern expial growth is characterized by a rapid increase in which the rate of increase itself increase this mean that the growth becomes faster and faster over time a common emple of expial growth is the concept of compound ierest if you invest a certain amou of my at a certain rate of ierest the amou of my you earn will increase over time however the rate of increase will also increase so the longer you leave the my invested the more it will grow this can be hard for people to wrap their head around beca it go against our natural instinct we are d to ing about thing in term of how much they increase by a certain amou over a certain period of time expial growth on the other hand increase by a certain perceage over a certain period of time which mean that the rate of increase itself increase another reason why human have a hard time understanding expial growth is that it is difficult to visualize when we about growth we tend to about it in term of physical object or quaities that we can see and touch however expial growth is not something that we can easily observe in the physical world it is a mathematical concept that is difficult to visualize which make it harder for u to understand a further reason why expial growth can be hard to understand is that it is often coueriuitive for emple if you start with a small number and double it repeatedly the resulting number may not seem very significa at first however if you keep doubling the number it will eveually become much larger than you might have expected this is beca each time you double the number you are adding a much larger amou than you did the time before finally human have a hard time understanding expial growth beca it can lead to seemingly impossible or unbelievable outcome for emple if a virus were to double in size every day it would seem impossible that it could take over the world in just a few short week however this is ectly what can happen with expial growth it may start off small but it can quickly become much larger than any could have predicted if you are still with me and are having a hard time connecting the concept of expial growth to bitcoin let me explain bitcoin a deceralized digital currency ha seen expial growth since it creation in of the main reason for this is that bitcoin ha a limited supply there will only ever be million bitcoins in existence and a more and more people become are of and ierested in bitcoin the demand for it increase this limited supply combined with increasing demand ha led to the price of bitcoin experiencing expial growth over time however this expial growth ha also made it difficult for people to understand and predict the future value of bitcoin beca of it non linear growth it is difficult to traditional financial model to forecast the price of bitcoin this ha led to a great deal of speculation and uncertaiy surrounding the future of the currency another factor coributing to the difficulty in understanding the expial growth of bitcoin is the fact that it is a relatively new and highly complex technology the of blockchain a deceralized ledger that record all bitcoin transaction add an additional layer of complexity to the currency this complexity can make it difficult for people to fully understand how bitcoin work and how it is valued the expial growth of bitcoin ha been driven by a combination of limited supply increasing demand and the complexity of the technology behind it this growth ha made it difficult for people to understand and predict the future value of bitcoin but ha also attracted a great deal of ierest due to the poteial for significa return on investme in conclusion human have a hard time understanding expial growth beca it go against our natural linear ing is difficult to visualize is often coueriuitive and can lead to seemingly impossible outcome it is importa for people to understand this concept however beca it can have significa implication in many differe area including economics population growth and the spread of disease tldr expial growth is difficult for people to conceptualize beca it go against our natural linear ing is often coueriuitive and can lead to seemingly impossible outcome btc ha already experienced expial growth multiple time and is still in it infancy dca and hodl \n",
      "\n",
      "cyber warfare what effect would overt cyber rfare between nation have on bitcoin targeting communication network iernet server etc would it survive and coinue in a limited capacity or would it pa uil conflict settle \n",
      "\n",
      "cbdcs are scary what happens if when the fedcoin drop and they make it so you ca spend fedusd on bitcoin \n",
      "\n",
      "getting rich in a market that over time go up is easy this is how to buy dip t try to sell top of them that s this strategy are in good profit over time of those who loses some other stratetgy why make it hard really why \n",
      "\n",
      "we need this bear market bitcoin isn't ready for mass adoption yet we still need to build out ln and aim to make most s compatible with each other basically push for bips bip to be added to all s where possible \n",
      "\n"
     ]
    }
   ],
   "source": [
    "for i in df_selftext.iloc[bitcoinish_indexes].text:\n",
    "    print(i,'\\n')"
   ]
  },
  {
   "cell_type": "code",
   "execution_count": null,
   "id": "f3cc5994-b515-4381-8387-803eb39181c5",
   "metadata": {},
   "outputs": [],
   "source": []
  },
  {
   "cell_type": "code",
   "execution_count": 146,
   "id": "96c2cd69-06e8-4262-9c71-d57e4d98d4c8",
   "metadata": {},
   "outputs": [],
   "source": [
    "#notes\n",
    "def class_from_prob(probabilities, threshold):\n",
    "\n",
    "    return [0 if prob < threshold else 1 for prob in probabilities]\n"
   ]
  },
  {
   "cell_type": "code",
   "execution_count": 147,
   "id": "582af7b7-4a7a-4dc4-adb5-d4d4b77ef6b4",
   "metadata": {},
   "outputs": [],
   "source": [
    "threshold_list = [round(i*.01,2) for i in range(0,101,)]\n",
    "speclist = []\n",
    "senslist = []\n",
    "f1list = []\n",
    "\n",
    "for threshold in threshold_list:\n",
    "    predicted_classes = class_from_prob(pred_df['bitcoin'], threshold)\n",
    "    spec = specificity_score(y_test, predicted_classes)\n",
    "    sens = recall_score(y_test, predicted_classes, pos_label=1)\n",
    "    speclist.append(spec)\n",
    "    senslist.append(sens)\n",
    "    F1 = f1_score(y_test, predicted_classes)\n",
    "    f1list.append(F1)"
   ]
  },
  {
   "cell_type": "code",
   "execution_count": 148,
   "id": "0e2ec108-7b8d-4688-9104-d581ac83b484",
   "metadata": {},
   "outputs": [
    {
     "data": {
      "image/png": "[encoded data removed]",
      "text/plain": [
       "<Figure size 1000x500 with 1 Axes>"
      ]
     },
     "metadata": {},
     "output_type": "display_data"
    },
    {
     "data": {
      "text/plain": [
       "<Figure size 640x480 with 0 Axes>"
      ]
     },
     "metadata": {},
     "output_type": "display_data"
    }
   ],
   "source": [
    "%matplotlib inline\n",
    "fig = plt.figure(figsize = (10,5));\n",
    "ax1 = fig.add_subplot(111);\n",
    "\n",
    "ax1.scatter(x = threshold_list, y = speclist, s=10, c='b', marker=\"s\", label='specificity');\n",
    "ax1.scatter(x = threshold_list,y = senslist, s=10, c='r', marker=\"o\", label='sensitivity');\n",
    "ax1.scatter(x = threshold_list,y = f1list, s=10, c='g', marker=\"o\", label='F1 score');\n",
    "plt.legend(loc='upper left')\n",
    "plt.xlabel('Threshold');\n",
    "plt.ylabel('Score Value');\n",
    "plt.show();\n",
    "plt.tight_layout();\n"
   ]
  },
  {
   "cell_type": "code",
   "execution_count": null,
   "id": "18ff45ba-3ee7-4358-b44f-6aa7438abd05",
   "metadata": {},
   "outputs": [],
   "source": []
  },
  {
   "cell_type": "code",
   "execution_count": null,
   "id": "cb6f9792-29e7-4394-8501-23593a4b907c",
   "metadata": {},
   "outputs": [],
   "source": []
  },
  {
   "cell_type": "code",
   "execution_count": null,
   "id": "3d7a492e-3f37-4c40-9b34-5cfb9182ee43",
   "metadata": {},
   "outputs": [],
   "source": []
  },
  {
   "cell_type": "code",
   "execution_count": null,
   "id": "0c44811b-49d2-425e-9c02-c1356b0ba716",
   "metadata": {},
   "outputs": [],
   "source": []
  },
  {
   "cell_type": "code",
   "execution_count": null,
   "id": "75e1212a-7a82-4bf4-ad1f-ab70f4091bc6",
   "metadata": {},
   "outputs": [],
   "source": []
  },
  {
   "cell_type": "code",
   "execution_count": null,
   "id": "df16bebb-fdee-4cab-93e0-dc0aa519e6e8",
   "metadata": {},
   "outputs": [],
   "source": []
  },
  {
   "cell_type": "code",
   "execution_count": null,
   "id": "e1ac7953-2a43-4f4d-9031-3f714c2500b2",
   "metadata": {},
   "outputs": [],
   "source": []
  }
 ],
 "metadata": {
  "kernelspec": {
   "display_name": "Python 3 (ipykernel)",
   "language": "python",
   "name": "python3"
  },
  "language_info": {
   "codemirror_mode": {
    "name": "ipython",
    "version": 3
   },
   "file_extension": ".py",
   "mimetype": "text/x-python",
   "name": "python",
   "nbconvert_exporter": "python",
   "pygments_lexer": "ipython3",
   "version": "3.9.12"
  }
 },
 "nbformat": 4,
 "nbformat_minor": 5
}
