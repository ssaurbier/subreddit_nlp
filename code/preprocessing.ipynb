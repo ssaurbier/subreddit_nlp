{
 "cells": [
  {
   "cell_type": "code",
   "execution_count": 202,
   "id": "26c8c700-69eb-476f-bc9d-27b0844d4ecc",
   "metadata": {},
   "outputs": [],
   "source": [
    "import pandas as pd\n",
    "import numpy as np\n",
    "from sklearn.model_selection import train_test_split, GridSearchCV, RandomizedSearchCV\n",
    "from sklearn.pipeline import Pipeline\n",
    "from sklearn.feature_extraction.text import CountVectorizer, TfidfVectorizer\n",
    "from sklearn.naive_bayes import MultinomialNB\n",
    "from sklearn.linear_model import LogisticRegression\n",
    "from sklearn.metrics import (confusion_matrix, ConfusionMatrixDisplay,\n",
    "    accuracy_score, roc_auc_score, recall_score,\n",
    "    precision_score, f1_score, RocCurveDisplay)\n",
    "from imblearn.metrics import specificity_score\n",
    "\n",
    "from nltk.stem import WordNetLemmatizer\n",
    "\n",
    "\n",
    "\n",
    "from sklearn.neighbors import KNeighborsClassifier\n",
    "from sklearn.preprocessing import StandardScaler\n",
    "import matplotlib.pyplot as plt"
   ]
  },
  {
   "cell_type": "code",
   "execution_count": 203,
   "id": "981011e9-558a-4aea-a2b4-981e641e43ee",
   "metadata": {},
   "outputs": [
    {
     "data": {
      "text/html": [
       "<div>\n",
       "<style scoped>\n",
       "    .dataframe tbody tr th:only-of-type {\n",
       "        vertical-align: middle;\n",
       "    }\n",
       "\n",
       "    .dataframe tbody tr th {\n",
       "        vertical-align: top;\n",
       "    }\n",
       "\n",
       "    .dataframe thead th {\n",
       "        text-align: right;\n",
       "    }\n",
       "</style>\n",
       "<table border=\"1\" class=\"dataframe\">\n",
       "  <thead>\n",
       "    <tr style=\"text-align: right;\">\n",
       "      <th></th>\n",
       "      <th>subreddit</th>\n",
       "      <th>selftext</th>\n",
       "      <th>title</th>\n",
       "      <th>upvote_ratio</th>\n",
       "      <th>score</th>\n",
       "      <th>id</th>\n",
       "      <th>author</th>\n",
       "      <th>num_comments</th>\n",
       "      <th>created_utc</th>\n",
       "      <th>retrieved_utc</th>\n",
       "      <th>updated_utc</th>\n",
       "      <th>post_date</th>\n",
       "      <th>post_time</th>\n",
       "    </tr>\n",
       "  </thead>\n",
       "  <tbody>\n",
       "    <tr>\n",
       "      <th>0</th>\n",
       "      <td>Bitcoin</td>\n",
       "      <td>Bitcoin swings every cycle and I realized a lo...</td>\n",
       "      <td>I made a bot that sends me a daily text with t...</td>\n",
       "      <td>1.0</td>\n",
       "      <td>1</td>\n",
       "      <td>10b3smq</td>\n",
       "      <td>OverEducation4426</td>\n",
       "      <td>0</td>\n",
       "      <td>2023-01-13 19:55:32</td>\n",
       "      <td>1673639747</td>\n",
       "      <td>1673639748</td>\n",
       "      <td>2023-01-13</td>\n",
       "      <td>19:55:32</td>\n",
       "    </tr>\n",
       "    <tr>\n",
       "      <th>1</th>\n",
       "      <td>Bitcoin</td>\n",
       "      <td>Why are people still scared to invest when you...</td>\n",
       "      <td>when inflation has peaked the bottom was in fo...</td>\n",
       "      <td>1.0</td>\n",
       "      <td>1</td>\n",
       "      <td>10b3fr4</td>\n",
       "      <td>Accurate-Fox9427</td>\n",
       "      <td>0</td>\n",
       "      <td>2023-01-13 19:40:57</td>\n",
       "      <td>1673638868</td>\n",
       "      <td>1673638869</td>\n",
       "      <td>2023-01-13</td>\n",
       "      <td>19:40:57</td>\n",
       "    </tr>\n",
       "  </tbody>\n",
       "</table>\n",
       "</div>"
      ],
      "text/plain": [
       "  subreddit                                           selftext  \\\n",
       "0   Bitcoin  Bitcoin swings every cycle and I realized a lo...   \n",
       "1   Bitcoin  Why are people still scared to invest when you...   \n",
       "\n",
       "                                               title  upvote_ratio  score  \\\n",
       "0  I made a bot that sends me a daily text with t...           1.0      1   \n",
       "1  when inflation has peaked the bottom was in fo...           1.0      1   \n",
       "\n",
       "        id             author  num_comments          created_utc  \\\n",
       "0  10b3smq  OverEducation4426             0  2023-01-13 19:55:32   \n",
       "1  10b3fr4   Accurate-Fox9427             0  2023-01-13 19:40:57   \n",
       "\n",
       "   retrieved_utc  updated_utc   post_date post_time  \n",
       "0     1673639747   1673639748  2023-01-13  19:55:32  \n",
       "1     1673638868   1673638869  2023-01-13  19:40:57  "
      ]
     },
     "execution_count": 203,
     "metadata": {},
     "output_type": "execute_result"
    }
   ],
   "source": [
    "df = pd.read_csv('../data/source.csv')\n",
    "df.head(2)"
   ]
  },
  {
   "cell_type": "code",
   "execution_count": 204,
   "id": "5ab056b0-14e2-4203-9d9a-d0043cc0dc99",
   "metadata": {},
   "outputs": [
    {
     "data": {
      "text/plain": [
       "Bitcoin     1529\n",
       "ethereum     739\n",
       "Name: subreddit, dtype: int64"
      ]
     },
     "execution_count": 204,
     "metadata": {},
     "output_type": "execute_result"
    }
   ],
   "source": [
    "df.subreddit.value_counts()"
   ]
  },
  {
   "cell_type": "code",
   "execution_count": 205,
   "id": "02bcd7dc-fe80-4066-b9e7-9cbecdac5297",
   "metadata": {},
   "outputs": [
    {
     "data": {
      "text/html": [
       "<div>\n",
       "<style scoped>\n",
       "    .dataframe tbody tr th:only-of-type {\n",
       "        vertical-align: middle;\n",
       "    }\n",
       "\n",
       "    .dataframe tbody tr th {\n",
       "        vertical-align: top;\n",
       "    }\n",
       "\n",
       "    .dataframe thead th {\n",
       "        text-align: right;\n",
       "    }\n",
       "</style>\n",
       "<table border=\"1\" class=\"dataframe\">\n",
       "  <thead>\n",
       "    <tr style=\"text-align: right;\">\n",
       "      <th></th>\n",
       "      <th>subreddit</th>\n",
       "      <th>selftext</th>\n",
       "      <th>title</th>\n",
       "      <th>upvote_ratio</th>\n",
       "      <th>score</th>\n",
       "      <th>id</th>\n",
       "      <th>author</th>\n",
       "      <th>num_comments</th>\n",
       "      <th>created_utc</th>\n",
       "      <th>retrieved_utc</th>\n",
       "      <th>updated_utc</th>\n",
       "      <th>post_date</th>\n",
       "      <th>post_time</th>\n",
       "    </tr>\n",
       "  </thead>\n",
       "  <tbody>\n",
       "    <tr>\n",
       "      <th>0</th>\n",
       "      <td>1</td>\n",
       "      <td>Bitcoin swings every cycle and I realized a lo...</td>\n",
       "      <td>I made a bot that sends me a daily text with t...</td>\n",
       "      <td>1.0</td>\n",
       "      <td>1</td>\n",
       "      <td>10b3smq</td>\n",
       "      <td>OverEducation4426</td>\n",
       "      <td>0</td>\n",
       "      <td>2023-01-13 19:55:32</td>\n",
       "      <td>1673639747</td>\n",
       "      <td>1673639748</td>\n",
       "      <td>2023-01-13</td>\n",
       "      <td>19:55:32</td>\n",
       "    </tr>\n",
       "    <tr>\n",
       "      <th>1</th>\n",
       "      <td>1</td>\n",
       "      <td>Why are people still scared to invest when you...</td>\n",
       "      <td>when inflation has peaked the bottom was in fo...</td>\n",
       "      <td>1.0</td>\n",
       "      <td>1</td>\n",
       "      <td>10b3fr4</td>\n",
       "      <td>Accurate-Fox9427</td>\n",
       "      <td>0</td>\n",
       "      <td>2023-01-13 19:40:57</td>\n",
       "      <td>1673638868</td>\n",
       "      <td>1673638869</td>\n",
       "      <td>2023-01-13</td>\n",
       "      <td>19:40:57</td>\n",
       "    </tr>\n",
       "    <tr>\n",
       "      <th>2</th>\n",
       "      <td>1</td>\n",
       "      <td>I'm just wondering if it makes any sense I'll ...</td>\n",
       "      <td>Question related to security of using same see...</td>\n",
       "      <td>1.0</td>\n",
       "      <td>1</td>\n",
       "      <td>10b2gzn</td>\n",
       "      <td>PrimaryHuckleberry11</td>\n",
       "      <td>0</td>\n",
       "      <td>2023-01-13 19:01:13</td>\n",
       "      <td>1673636490</td>\n",
       "      <td>1673636490</td>\n",
       "      <td>2023-01-13</td>\n",
       "      <td>19:01:13</td>\n",
       "    </tr>\n",
       "    <tr>\n",
       "      <th>3</th>\n",
       "      <td>1</td>\n",
       "      <td>My friend has been CRUSHING it at work. Last y...</td>\n",
       "      <td>The future and why they must debase the currency</td>\n",
       "      <td>1.0</td>\n",
       "      <td>1</td>\n",
       "      <td>10b2a8k</td>\n",
       "      <td>Tryingtodoit23</td>\n",
       "      <td>0</td>\n",
       "      <td>2023-01-13 18:53:45</td>\n",
       "      <td>1673636037</td>\n",
       "      <td>1673636038</td>\n",
       "      <td>2023-01-13</td>\n",
       "      <td>18:53:45</td>\n",
       "    </tr>\n",
       "    <tr>\n",
       "      <th>4</th>\n",
       "      <td>1</td>\n",
       "      <td>Was cleaning out my Aunts house after she pass...</td>\n",
       "      <td>Need help accessing BTC from flash drive</td>\n",
       "      <td>1.0</td>\n",
       "      <td>1</td>\n",
       "      <td>10b270g</td>\n",
       "      <td>nominal_sloth</td>\n",
       "      <td>0</td>\n",
       "      <td>2023-01-13 18:50:06</td>\n",
       "      <td>1673635825</td>\n",
       "      <td>1673635825</td>\n",
       "      <td>2023-01-13</td>\n",
       "      <td>18:50:06</td>\n",
       "    </tr>\n",
       "    <tr>\n",
       "      <th>...</th>\n",
       "      <td>...</td>\n",
       "      <td>...</td>\n",
       "      <td>...</td>\n",
       "      <td>...</td>\n",
       "      <td>...</td>\n",
       "      <td>...</td>\n",
       "      <td>...</td>\n",
       "      <td>...</td>\n",
       "      <td>...</td>\n",
       "      <td>...</td>\n",
       "      <td>...</td>\n",
       "      <td>...</td>\n",
       "      <td>...</td>\n",
       "    </tr>\n",
       "    <tr>\n",
       "      <th>2263</th>\n",
       "      <td>0</td>\n",
       "      <td>I wanted an opinion on which hard wallet to bu...</td>\n",
       "      <td>Hi guys</td>\n",
       "      <td>1.0</td>\n",
       "      <td>1</td>\n",
       "      <td>ylv1ts</td>\n",
       "      <td>Environmental-Log167</td>\n",
       "      <td>0</td>\n",
       "      <td>2022-11-04 10:26:57</td>\n",
       "      <td>1667557629</td>\n",
       "      <td>1669825062</td>\n",
       "      <td>2022-11-04</td>\n",
       "      <td>10:26:57</td>\n",
       "    </tr>\n",
       "    <tr>\n",
       "      <th>2264</th>\n",
       "      <td>0</td>\n",
       "      <td>It's really great news for ETH that Instagram ...</td>\n",
       "      <td>Instagram is launching NFT's on Polygon! This ...</td>\n",
       "      <td>1.0</td>\n",
       "      <td>1</td>\n",
       "      <td>ylka7o</td>\n",
       "      <td>Crypto_Economist42</td>\n",
       "      <td>0</td>\n",
       "      <td>2022-11-04 00:50:20</td>\n",
       "      <td>1667523033</td>\n",
       "      <td>1669825156</td>\n",
       "      <td>2022-11-04</td>\n",
       "      <td>00:50:20</td>\n",
       "    </tr>\n",
       "    <tr>\n",
       "      <th>2265</th>\n",
       "      <td>0</td>\n",
       "      <td>[BETPLAY](https://betplay.io/?ref=SALPAR) is ...</td>\n",
       "      <td>Betplay - fastest Crypto casino with ETH</td>\n",
       "      <td>1.0</td>\n",
       "      <td>1</td>\n",
       "      <td>ylhjic</td>\n",
       "      <td>Historical_Walk6927</td>\n",
       "      <td>0</td>\n",
       "      <td>2022-11-03 22:56:09</td>\n",
       "      <td>1667516183</td>\n",
       "      <td>1669825194</td>\n",
       "      <td>2022-11-03</td>\n",
       "      <td>22:56:09</td>\n",
       "    </tr>\n",
       "    <tr>\n",
       "      <th>2266</th>\n",
       "      <td>0</td>\n",
       "      <td>Hey fellow Redditors, I'm not sure if sharing...</td>\n",
       "      <td>Essay: Reducing the barrier for crypto using M...</td>\n",
       "      <td>1.0</td>\n",
       "      <td>1</td>\n",
       "      <td>ylek5s</td>\n",
       "      <td>whataheck</td>\n",
       "      <td>0</td>\n",
       "      <td>2022-11-03 20:52:10</td>\n",
       "      <td>1667508741</td>\n",
       "      <td>1669825224</td>\n",
       "      <td>2022-11-03</td>\n",
       "      <td>20:52:10</td>\n",
       "    </tr>\n",
       "    <tr>\n",
       "      <th>2267</th>\n",
       "      <td>0</td>\n",
       "      <td>\\n\\n**I already compare 35 exchanges**, mostl...</td>\n",
       "      <td>Hi for my staking and lending rates comparator...</td>\n",
       "      <td>1.0</td>\n",
       "      <td>1</td>\n",
       "      <td>ylcvo7</td>\n",
       "      <td>theablazefeces</td>\n",
       "      <td>0</td>\n",
       "      <td>2022-11-03 19:53:52</td>\n",
       "      <td>1667505245</td>\n",
       "      <td>1669825245</td>\n",
       "      <td>2022-11-03</td>\n",
       "      <td>19:53:52</td>\n",
       "    </tr>\n",
       "  </tbody>\n",
       "</table>\n",
       "<p>2268 rows × 13 columns</p>\n",
       "</div>"
      ],
      "text/plain": [
       "      subreddit                                           selftext  \\\n",
       "0             1  Bitcoin swings every cycle and I realized a lo...   \n",
       "1             1  Why are people still scared to invest when you...   \n",
       "2             1  I'm just wondering if it makes any sense I'll ...   \n",
       "3             1  My friend has been CRUSHING it at work. Last y...   \n",
       "4             1  Was cleaning out my Aunts house after she pass...   \n",
       "...         ...                                                ...   \n",
       "2263          0  I wanted an opinion on which hard wallet to bu...   \n",
       "2264          0  It's really great news for ETH that Instagram ...   \n",
       "2265          0   [BETPLAY](https://betplay.io/?ref=SALPAR) is ...   \n",
       "2266          0   Hey fellow Redditors, I'm not sure if sharing...   \n",
       "2267          0   \\n\\n**I already compare 35 exchanges**, mostl...   \n",
       "\n",
       "                                                  title  upvote_ratio  score  \\\n",
       "0     I made a bot that sends me a daily text with t...           1.0      1   \n",
       "1     when inflation has peaked the bottom was in fo...           1.0      1   \n",
       "2     Question related to security of using same see...           1.0      1   \n",
       "3      The future and why they must debase the currency           1.0      1   \n",
       "4              Need help accessing BTC from flash drive           1.0      1   \n",
       "...                                                 ...           ...    ...   \n",
       "2263                                            Hi guys           1.0      1   \n",
       "2264  Instagram is launching NFT's on Polygon! This ...           1.0      1   \n",
       "2265           Betplay - fastest Crypto casino with ETH           1.0      1   \n",
       "2266  Essay: Reducing the barrier for crypto using M...           1.0      1   \n",
       "2267  Hi for my staking and lending rates comparator...           1.0      1   \n",
       "\n",
       "           id                author  num_comments          created_utc  \\\n",
       "0     10b3smq     OverEducation4426             0  2023-01-13 19:55:32   \n",
       "1     10b3fr4      Accurate-Fox9427             0  2023-01-13 19:40:57   \n",
       "2     10b2gzn  PrimaryHuckleberry11             0  2023-01-13 19:01:13   \n",
       "3     10b2a8k        Tryingtodoit23             0  2023-01-13 18:53:45   \n",
       "4     10b270g         nominal_sloth             0  2023-01-13 18:50:06   \n",
       "...       ...                   ...           ...                  ...   \n",
       "2263   ylv1ts  Environmental-Log167             0  2022-11-04 10:26:57   \n",
       "2264   ylka7o    Crypto_Economist42             0  2022-11-04 00:50:20   \n",
       "2265   ylhjic   Historical_Walk6927             0  2022-11-03 22:56:09   \n",
       "2266   ylek5s             whataheck             0  2022-11-03 20:52:10   \n",
       "2267   ylcvo7        theablazefeces             0  2022-11-03 19:53:52   \n",
       "\n",
       "      retrieved_utc  updated_utc   post_date post_time  \n",
       "0        1673639747   1673639748  2023-01-13  19:55:32  \n",
       "1        1673638868   1673638869  2023-01-13  19:40:57  \n",
       "2        1673636490   1673636490  2023-01-13  19:01:13  \n",
       "3        1673636037   1673636038  2023-01-13  18:53:45  \n",
       "4        1673635825   1673635825  2023-01-13  18:50:06  \n",
       "...             ...          ...         ...       ...  \n",
       "2263     1667557629   1669825062  2022-11-04  10:26:57  \n",
       "2264     1667523033   1669825156  2022-11-04  00:50:20  \n",
       "2265     1667516183   1669825194  2022-11-03  22:56:09  \n",
       "2266     1667508741   1669825224  2022-11-03  20:52:10  \n",
       "2267     1667505245   1669825245  2022-11-03  19:53:52  \n",
       "\n",
       "[2268 rows x 13 columns]"
      ]
     },
     "execution_count": 205,
     "metadata": {},
     "output_type": "execute_result"
    }
   ],
   "source": [
    "df['subreddit'] = df.subreddit.apply(lambda x: 1 if x == 'Bitcoin' else 0)\n",
    "df"
   ]
  },
  {
   "cell_type": "code",
   "execution_count": 206,
   "id": "b43d7c3d-fc36-47fe-957e-b310b24eec22",
   "metadata": {},
   "outputs": [
    {
     "data": {
      "text/plain": [
       "1    1529\n",
       "0     739\n",
       "Name: subreddit, dtype: int64"
      ]
     },
     "execution_count": 206,
     "metadata": {},
     "output_type": "execute_result"
    }
   ],
   "source": [
    "df.subreddit.value_counts()"
   ]
  },
  {
   "cell_type": "markdown",
   "id": "99a30b50-538b-4d71-b7a5-d3ef55c4e353",
   "metadata": {},
   "source": [
    "# Lemmatize"
   ]
  },
  {
   "cell_type": "code",
   "execution_count": 207,
   "id": "96332a2f-4729-4773-9df0-e3a8ff3be5d8",
   "metadata": {},
   "outputs": [],
   "source": [
    "lm = WordNetLemmatizer()"
   ]
  },
  {
   "cell_type": "code",
   "execution_count": 208,
   "id": "19064ca7-770a-44be-914e-df04a2b52bf2",
   "metadata": {},
   "outputs": [
    {
     "ename": "NameError",
     "evalue": "name 'comb_tokens' is not defined",
     "output_type": "error",
     "traceback": [
      "\u001b[0;31m---------------------------------------------------------------------------\u001b[0m",
      "\u001b[0;31mNameError\u001b[0m                                 Traceback (most recent call last)",
      "\u001b[0;32m/var/folders/hm/36htpvln1h7d8k8hnh40nt4h0000gn/T/ipykernel_57331/3439698874.py\u001b[0m in \u001b[0;36m<module>\u001b[0;34m\u001b[0m\n\u001b[1;32m      1\u001b[0m \u001b[0mposts_t_lm\u001b[0m \u001b[0;34m=\u001b[0m \u001b[0;34m[\u001b[0m\u001b[0;34m]\u001b[0m\u001b[0;34m\u001b[0m\u001b[0;34m\u001b[0m\u001b[0m\n\u001b[1;32m      2\u001b[0m \u001b[0;34m\u001b[0m\u001b[0m\n\u001b[0;32m----> 3\u001b[0;31m \u001b[0;32mfor\u001b[0m \u001b[0mpost\u001b[0m \u001b[0;32min\u001b[0m \u001b[0mcomb_tokens\u001b[0m\u001b[0;34m:\u001b[0m\u001b[0;34m\u001b[0m\u001b[0;34m\u001b[0m\u001b[0m\n\u001b[0m\u001b[1;32m      4\u001b[0m     \u001b[0mpost_st\u001b[0m \u001b[0;34m=\u001b[0m \u001b[0;34m[\u001b[0m\u001b[0;34m]\u001b[0m \u001b[0;31m# empty post stems\u001b[0m\u001b[0;34m\u001b[0m\u001b[0;34m\u001b[0m\u001b[0m\n\u001b[1;32m      5\u001b[0m     \u001b[0;32mfor\u001b[0m \u001b[0mword\u001b[0m \u001b[0;32min\u001b[0m \u001b[0mpost\u001b[0m\u001b[0;34m:\u001b[0m\u001b[0;34m\u001b[0m\u001b[0;34m\u001b[0m\u001b[0m\n",
      "\u001b[0;31mNameError\u001b[0m: name 'comb_tokens' is not defined"
     ]
    }
   ],
   "source": [
    "posts_t_lm = []\n",
    "\n",
    "for post in comb_tokens:\n",
    "    post_st = [] # empty post stems\n",
    "    for word in post:\n",
    "        #print(word)\n",
    "        word_st = lm.lemmatize(word) # get lemmatized word\n",
    "        post_st.append(word_st) # add to post list\n",
    "    posts_t_lm.append(post_st)  # add post list to lemma matrix\n",
    "    \n",
    "posts_t_lm[0][:10]"
   ]
  },
  {
   "cell_type": "code",
   "execution_count": null,
   "id": "b80bd39a-f577-4978-b9c1-b680690f1a7d",
   "metadata": {},
   "outputs": [],
   "source": []
  },
  {
   "cell_type": "code",
   "execution_count": null,
   "id": "5fda0672-b5a5-4d60-bb4e-948872434ff6",
   "metadata": {},
   "outputs": [],
   "source": []
  },
  {
   "cell_type": "code",
   "execution_count": null,
   "id": "c168da57-2ed9-46cf-9c93-4f62f4ef78b6",
   "metadata": {},
   "outputs": [],
   "source": []
  },
  {
   "cell_type": "code",
   "execution_count": null,
   "id": "52594cfa-ba94-4be8-87b7-3d1d3c454e5b",
   "metadata": {},
   "outputs": [],
   "source": []
  },
  {
   "cell_type": "code",
   "execution_count": null,
   "id": "33274349-521d-4162-9352-7c651cf1ae87",
   "metadata": {},
   "outputs": [],
   "source": []
  },
  {
   "cell_type": "code",
   "execution_count": null,
   "id": "7bd8640c-8aad-4432-bd64-545c0ea2bbfc",
   "metadata": {},
   "outputs": [],
   "source": []
  },
  {
   "cell_type": "code",
   "execution_count": null,
   "id": "e8a1e310-faa4-42c5-a2a5-88a40725f182",
   "metadata": {},
   "outputs": [],
   "source": []
  },
  {
   "cell_type": "code",
   "execution_count": null,
   "id": "e8592186-d587-4cbb-9bdb-60d02f48ad84",
   "metadata": {},
   "outputs": [],
   "source": []
  },
  {
   "cell_type": "code",
   "execution_count": null,
   "id": "62c8d9ed-5917-4c8b-bfb9-861cb32c13d4",
   "metadata": {},
   "outputs": [],
   "source": []
  },
  {
   "cell_type": "code",
   "execution_count": null,
   "id": "9062970e-5f72-46b6-bf81-be6a110d3492",
   "metadata": {},
   "outputs": [],
   "source": []
  },
  {
   "cell_type": "code",
   "execution_count": null,
   "id": "838b5b36-b4c9-4644-98c5-3d09378ca5c2",
   "metadata": {},
   "outputs": [],
   "source": []
  },
  {
   "cell_type": "code",
   "execution_count": null,
   "id": "2c137ed0-416c-4c90-b043-ff854520d2ce",
   "metadata": {},
   "outputs": [],
   "source": []
  },
  {
   "cell_type": "code",
   "execution_count": null,
   "id": "ee98e4fc-5ca9-413a-9bbd-e7180dcb2a10",
   "metadata": {},
   "outputs": [],
   "source": []
  },
  {
   "cell_type": "code",
   "execution_count": null,
   "id": "f94a864c-3a82-4754-b214-f821bc7e4ab8",
   "metadata": {},
   "outputs": [],
   "source": []
  },
  {
   "cell_type": "code",
   "execution_count": null,
   "id": "baf455a2-ea44-44af-b7fb-4b6a4d6a4741",
   "metadata": {},
   "outputs": [],
   "source": []
  },
  {
   "cell_type": "code",
   "execution_count": null,
   "id": "b98bd4a4-d047-4c55-be72-5b37e943fffc",
   "metadata": {},
   "outputs": [],
   "source": []
  },
  {
   "cell_type": "code",
   "execution_count": null,
   "id": "402bc6e3-1b88-42af-a553-b69a1d19ff60",
   "metadata": {},
   "outputs": [],
   "source": []
  },
  {
   "cell_type": "code",
   "execution_count": null,
   "id": "b0a8b83b-4e61-459f-aa32-b238b5307123",
   "metadata": {},
   "outputs": [],
   "source": []
  },
  {
   "cell_type": "code",
   "execution_count": null,
   "id": "61d99e0f-41dd-481e-944c-9e2463e4e429",
   "metadata": {},
   "outputs": [],
   "source": []
  },
  {
   "cell_type": "markdown",
   "id": "f6da16c5-29d2-4864-9d15-af9c9bb16bec",
   "metadata": {},
   "source": [
    "# Model"
   ]
  },
  {
   "cell_type": "code",
   "execution_count": 209,
   "id": "8552c791-8e62-481f-a684-7287bcde817a",
   "metadata": {},
   "outputs": [],
   "source": [
    "X1 = df.title\n",
    "x2 = df.selftext\n",
    "y = df.subreddit"
   ]
  },
  {
   "cell_type": "code",
   "execution_count": null,
   "id": "6fd4e818-c4c9-454c-9086-5eb844b2782a",
   "metadata": {},
   "outputs": [],
   "source": []
  },
  {
   "cell_type": "code",
   "execution_count": 210,
   "id": "2a70c302-0e55-4339-8d17-af0b2959cada",
   "metadata": {},
   "outputs": [
    {
     "data": {
      "text/plain": [
       "1    0.674162\n",
       "0    0.325838\n",
       "Name: subreddit, dtype: float64"
      ]
     },
     "execution_count": 247,
     "metadata": {},
     "output_type": "execute_result"
    }
   ],
   "source": [
    "y.value_counts(normalize=True)"
   ]
  },
  {
   "cell_type": "code",
   "execution_count": 220,
   "id": "55061841-2e4b-4118-bd78-f0cbdf322687",
   "metadata": {},
   "outputs": [],
   "source": [
    "X_train, X_test, y_train, y_test = train_test_split(X1,\n",
    "                                                    y,\n",
    "                                                    stratify=y,\n",
    "                                                    random_state=42)"
   ]
  },
  {
   "cell_type": "code",
   "execution_count": 268,
   "id": "ee29da9c-880d-4b49-8d59-c9e6feee1e06",
   "metadata": {},
   "outputs": [],
   "source": [
    "# Pipeline accepts multiple transformers, but only one vectorizer. See cgpt results:\n",
    "\n",
    "'''The error message is caused by the fact that you are trying to fit two different vectorizers (TfidfVectorizer and CountVectorizer) \n",
    "in the same pipeline, but only providing one input (X_train) to the pipeline. This is causing the pipeline to raise an error as it doesn't \n",
    "know which vectorizer to apply to the input. \n",
    "\n",
    "You can fix this by either removing one of the vectorizers or providing separate inputs to the pipeline for each vectorizer.'''\n",
    "\n",
    "\n",
    "pipe = Pipeline([\n",
    "    ('tvec', TfidfVectorizer()),\n",
    "    #('cvec', CountVectorizer()),\n",
    "    ('nb', MultinomialNB())\n",
    "])"
   ]
  },
  {
   "cell_type": "code",
   "execution_count": 276,
   "id": "d3f71c4c-3fe4-40e6-93a7-10a3ba650c95",
   "metadata": {},
   "outputs": [],
   "source": [
    "pipe_params = {\n",
    "    'tvec__max_features': range(600,800,5),\n",
    "    'tvec__stop_words': [None, 'english'],\n",
    "    'tvec__ngram_range': [(1,1), (1,2), (1,3)]\n",
    "    #'cvec__max_features': range(2500, 3500, 100),\n",
    "    #'cvec__min_df': range(1,5),\n",
    "    #'cvec__max_df': [i/100 for i in range(0, 100, 5)],\n",
    "    #'cvec__ngram_range': [(1,1),(1, 2), (1,3)]\n",
    "}"
   ]
  },
  {
   "cell_type": "code",
   "execution_count": null,
   "id": "ebeb182a-4c34-44de-9312-82981e872769",
   "metadata": {},
   "outputs": [],
   "source": []
  },
  {
   "cell_type": "code",
   "execution_count": null,
   "id": "c54350ec-7d98-4746-bb36-af97d355cbaa",
   "metadata": {},
   "outputs": [],
   "source": [
    "# Create the model\n",
    "level1_estimators = [\n",
    "    ('lasso', LassoCV()),\n",
    "    ('knn_pipe', Pipeline([\n",
    "        ('ss', StandardScaler()),\n",
    "        ('knn', KNeighborsRegressor())\n",
    "    ])),\n",
    "    ('bag', BaggingRegressor())\n",
    "]\n",
    "\n",
    "stacked_model = StackingRegressor(estimators = level1_estimators,\n",
    "                                 final_estimator = LinearRegression())"
   ]
  },
  {
   "cell_type": "code",
   "execution_count": 277,
   "id": "ad91db87-75dd-439e-88c9-8e4ea6f4f322",
   "metadata": {},
   "outputs": [],
   "source": [
    "rs = RandomizedSearchCV(pipe, \n",
    "                  pipe_params, \n",
    "                    cv = 5) "
   ]
  },
  {
   "cell_type": "code",
   "execution_count": 278,
   "id": "4b235a3f-2298-46e5-b1b0-b3195af7bb42",
   "metadata": {},
   "outputs": [
    {
     "data": {
      "text/plain": [
       "RandomizedSearchCV(cv=5,\n",
       "                   estimator=Pipeline(steps=[('tvec', TfidfVectorizer()),\n",
       "                                             ('nb', MultinomialNB())]),\n",
       "                   param_distributions={'tvec__max_features': range(600, 800, 5),\n",
       "                                        'tvec__ngram_range': [(1, 1), (1, 2),\n",
       "                                                              (1, 3)],\n",
       "                                        'tvec__stop_words': [None, 'english']})"
      ]
     },
     "execution_count": 278,
     "metadata": {},
     "output_type": "execute_result"
    }
   ],
   "source": [
    "rs.fit(X_train, y_train)"
   ]
  },
  {
   "cell_type": "code",
   "execution_count": 279,
   "id": "022dd732-db57-4cb1-86a0-f75833b394fe",
   "metadata": {},
   "outputs": [
    {
     "name": "stdout",
     "output_type": "stream",
     "text": [
      "0.8965314520870077\n"
     ]
    },
    {
     "data": {
      "text/plain": [
       "0.8606701940035273"
      ]
     },
     "execution_count": 279,
     "metadata": {},
     "output_type": "execute_result"
    }
   ],
   "source": [
    "print(rs.score(X_train, y_train))\n",
    "rs.score(X_test, y_test)"
   ]
  },
  {
   "cell_type": "code",
   "execution_count": 280,
   "id": "883d8055-0e54-4203-a3f8-225b5cc95301",
   "metadata": {},
   "outputs": [
    {
     "data": {
      "text/plain": [
       "{'tvec__stop_words': 'english',\n",
       " 'tvec__ngram_range': (1, 1),\n",
       " 'tvec__max_features': 715}"
      ]
     },
     "execution_count": 280,
     "metadata": {},
     "output_type": "execute_result"
    }
   ],
   "source": [
    "rs.best_params_"
   ]
  },
  {
   "cell_type": "code",
   "execution_count": 281,
   "id": "945dc49b-fad5-4bbe-82cc-b4682a47d6fe",
   "metadata": {},
   "outputs": [
    {
     "data": {
      "text/plain": [
       "0.8606701940035273"
      ]
     },
     "execution_count": 281,
     "metadata": {},
     "output_type": "execute_result"
    }
   ],
   "source": [
    "rs.score(X_test, y_test)"
   ]
  },
  {
   "cell_type": "code",
   "execution_count": 282,
   "id": "cb5cdfb7-2e92-4737-9d89-e95376019568",
   "metadata": {},
   "outputs": [],
   "source": [
    "preds = rs.predict(X_test)"
   ]
  },
  {
   "cell_type": "code",
   "execution_count": null,
   "id": "50cbaa6f-5ee1-4b6b-bc1c-642666ef1e6a",
   "metadata": {},
   "outputs": [],
   "source": []
  },
  {
   "cell_type": "code",
   "execution_count": 283,
   "id": "948f87a2-ad5f-4bbd-b490-e3d60e1252a0",
   "metadata": {},
   "outputs": [
    {
     "data": {
      "image/png": "[encoded data removed]",
      "text/plain": [
       "<Figure size 640x480 with 2 Axes>"
      ]
     },
     "metadata": {},
     "output_type": "display_data"
    }
   ],
   "source": [
    "cm = confusion_matrix(y_test, preds)\n",
    "\n",
    "display = ConfusionMatrixDisplay(confusion_matrix = cm,\n",
    "                             display_labels = rs.classes_)\n",
    "\n",
    "display.plot();"
   ]
  },
  {
   "cell_type": "code",
   "execution_count": 284,
   "id": "ff26a2d1-3467-466d-b6d8-6d0e88ae30aa",
   "metadata": {},
   "outputs": [
    {
     "data": {
      "image/png": "[encoded data removed]",
      "text/plain": [
       "<Figure size 640x480 with 1 Axes>"
      ]
     },
     "metadata": {},
     "output_type": "display_data"
    }
   ],
   "source": [
    "# Basic ROC\n",
    "\n",
    "# cf ROC\n",
    "# create an ax object\n",
    "ax = plt.gca()\n",
    "\n",
    "# use RocCurveDisplay for both estimators\n",
    "RocCurveDisplay.from_estimator(rs, X_test, y_test, ax=ax, name='logistic regression')\n",
    "\n",
    "# add 'worst case scenario' line\n",
    "plt.plot([0,1], [0,1], label='null hypothesis/mean', linestyle='--', color='gray')\n",
    "\n",
    "# necessary to label the baseline\n",
    "plt.legend();"
   ]
  },
  {
   "cell_type": "code",
   "execution_count": null,
   "id": "0e2ec108-7b8d-4688-9104-d581ac83b484",
   "metadata": {},
   "outputs": [],
   "source": []
  },
  {
   "cell_type": "code",
   "execution_count": null,
   "id": "df69e6ea-ecd2-407e-b305-243de369dcf4",
   "metadata": {},
   "outputs": [],
   "source": []
  },
  {
   "cell_type": "code",
   "execution_count": null,
   "id": "6ff52832-89bd-4038-bce3-b5b7ff59a2dc",
   "metadata": {},
   "outputs": [],
   "source": []
  },
  {
   "cell_type": "code",
   "execution_count": null,
   "id": "6c43045f-7eb7-4060-a4e7-2017ad5266fb",
   "metadata": {},
   "outputs": [],
   "source": []
  },
  {
   "cell_type": "code",
   "execution_count": null,
   "id": "fc5674fe-81ca-4b50-8b1d-0c797df10dcf",
   "metadata": {},
   "outputs": [],
   "source": []
  },
  {
   "cell_type": "code",
   "execution_count": null,
   "id": "fbf66c6f-779a-4892-aa4a-430f7a6227dc",
   "metadata": {},
   "outputs": [],
   "source": []
  },
  {
   "cell_type": "code",
   "execution_count": null,
   "id": "5399caa0-c558-43b2-80fa-5aaac93eba5e",
   "metadata": {},
   "outputs": [],
   "source": []
  },
  {
   "cell_type": "code",
   "execution_count": null,
   "id": "43191533-c351-4dea-a0b2-74108b2ec72e",
   "metadata": {},
   "outputs": [],
   "source": []
  }
 ],
 "metadata": {
  "kernelspec": {
   "display_name": "Python 3 (ipykernel)",
   "language": "python",
   "name": "python3"
  },
  "language_info": {
   "codemirror_mode": {
    "name": "ipython",
    "version": 3
   },
   "file_extension": ".py",
   "mimetype": "text/x-python",
   "name": "python",
   "nbconvert_exporter": "python",
   "pygments_lexer": "ipython3",
   "version": "3.9.12"
  }
 },
 "nbformat": 4,
 "nbformat_minor": 5
}
